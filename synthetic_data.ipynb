{
 "cells": [
  {
   "cell_type": "code",
   "id": "initial_id",
   "metadata": {
    "collapsed": true,
    "ExecuteTime": {
     "end_time": "2024-10-13T14:03:23.892171Z",
     "start_time": "2024-10-13T14:03:21.732816Z"
    }
   },
   "source": [
    "from transformers import AutoModelForSeq2SeqLM, AutoTokenizer\n",
    "\n",
    "# Choose a model designed for diverse paraphrasing\n",
    "model_name = 'prithivida/parrot_paraphraser_on_T5'\n",
    "tokenizer = AutoTokenizer.from_pretrained(model_name)\n",
    "model = AutoModelForSeq2SeqLM.from_pretrained(model_name)\n",
    "\n",
    "input_phrase = \"Which are the transitions from q3\"\n",
    "\n",
    "# Modify the prompt to encourage longer and more varied paraphrases\n",
    "input_text = \"Paraphrase the following sentence using more words and a different formulation: \" + input_phrase\n",
    "\n",
    "# Tokenize the input text\n",
    "input_ids = tokenizer.encode(input_text, return_tensors='pt', truncation=True)\n",
    "\n",
    "# Generate paraphrases using sampling methods\n",
    "outputs = model.generate(\n",
    "    input_ids=input_ids,\n",
    "    max_length=128,\n",
    "    do_sample=True,            # Enable sampling\n",
    "    top_k=50,                  # Consider the top 50 tokens\n",
    "    top_p=0.95,                # Nucleus sampling threshold\n",
    "    temperature=0.9,           # Control randomness\n",
    "    num_return_sequences=10,   # Generate more paraphrases\n",
    "    no_repeat_ngram_size=3,    # Prevent repetition of 3-grams\n",
    "    early_stopping=True\n",
    ")\n",
    "\n",
    "# Decode and print the generated paraphrases\n",
    "print(\"Generated Paraphrases:\")\n",
    "for i, output in enumerate(outputs):\n",
    "    paraphrase = tokenizer.decode(output, skip_special_tokens=True, clean_up_tokenization_spaces=True)\n",
    "    print(f\"{i+1}: {paraphrase}\")\n"
   ],
   "outputs": [
    {
     "name": "stdout",
     "output_type": "stream",
     "text": [
      "Generated Paraphrases:\n",
      "1: Which is the transition from Q3 to q4?\n",
      "2: Tell me the transition from Q3 to Q4?\n",
      "3: Which are the transitions from q3 to q4?\n",
      "4: What are the transitions from q3 to q4?\n",
      "5: I'm referring to the following sentence with more words and a different formulation. What are the transitions from q3?\n",
      "6: show the transitions from Q3 to Q4?\n",
      "7: Tell me the transition from q2 to q3?\n",
      "8: show the transitions between q3 and q4?\n",
      "9: What transitions do we make from q3 to q4?\n",
      "10: What are the transitions of q3?\n"
     ]
    }
   ],
   "execution_count": 20
  }
 ],
 "metadata": {
  "kernelspec": {
   "display_name": "Python 3",
   "language": "python",
   "name": "python3"
  },
  "language_info": {
   "codemirror_mode": {
    "name": "ipython",
    "version": 2
   },
   "file_extension": ".py",
   "mimetype": "text/x-python",
   "name": "python",
   "nbconvert_exporter": "python",
   "pygments_lexer": "ipython2",
   "version": "2.7.6"
  }
 },
 "nbformat": 4,
 "nbformat_minor": 5
}
