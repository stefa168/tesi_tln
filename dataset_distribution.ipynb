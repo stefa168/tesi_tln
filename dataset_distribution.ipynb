{
 "cells": [
  {
   "metadata": {},
   "cell_type": "markdown",
   "source": "Let's see how the data is distributed and what we should produce to improve the performance.",
   "id": "a4186ecd19dbbdc"
  },
  {
   "cell_type": "code",
   "id": "initial_id",
   "metadata": {
    "collapsed": true,
    "ExecuteTime": {
     "end_time": "2024-11-27T20:58:28.864884Z",
     "start_time": "2024-11-27T20:58:27.590840Z"
    }
   },
   "source": [
    "import numpy as np\n",
    "import pandas as pd\n",
    "from scipy.interpolate.dfitpack import types\n",
    "from sklearn.model_selection import train_test_split\n",
    "from sympy import false\n",
    "\n",
    "ds = pd.read_csv('./labelling/data_cleaned_manual.csv')\n",
    "\n",
    "questions = list(ds['Question'])\n",
    "\n",
    "ds.head()"
   ],
   "outputs": [
    {
     "data": {
      "text/plain": [
       "                                   Question Global Subject    Question Intent\n",
       "0                                        Hi          start              greet\n",
       "1                                     Hello          start              greet\n",
       "2                    Describe the automaton      automaton        description\n",
       "3  Is there a transition between q2 and q0?     transition  existence_between\n",
       "4   Is there a transition between q5 and q7     transition  existence_between"
      ],
      "text/html": [
       "<div>\n",
       "<style scoped>\n",
       "    .dataframe tbody tr th:only-of-type {\n",
       "        vertical-align: middle;\n",
       "    }\n",
       "\n",
       "    .dataframe tbody tr th {\n",
       "        vertical-align: top;\n",
       "    }\n",
       "\n",
       "    .dataframe thead th {\n",
       "        text-align: right;\n",
       "    }\n",
       "</style>\n",
       "<table border=\"1\" class=\"dataframe\">\n",
       "  <thead>\n",
       "    <tr style=\"text-align: right;\">\n",
       "      <th></th>\n",
       "      <th>Question</th>\n",
       "      <th>Global Subject</th>\n",
       "      <th>Question Intent</th>\n",
       "    </tr>\n",
       "  </thead>\n",
       "  <tbody>\n",
       "    <tr>\n",
       "      <th>0</th>\n",
       "      <td>Hi</td>\n",
       "      <td>start</td>\n",
       "      <td>greet</td>\n",
       "    </tr>\n",
       "    <tr>\n",
       "      <th>1</th>\n",
       "      <td>Hello</td>\n",
       "      <td>start</td>\n",
       "      <td>greet</td>\n",
       "    </tr>\n",
       "    <tr>\n",
       "      <th>2</th>\n",
       "      <td>Describe the automaton</td>\n",
       "      <td>automaton</td>\n",
       "      <td>description</td>\n",
       "    </tr>\n",
       "    <tr>\n",
       "      <th>3</th>\n",
       "      <td>Is there a transition between q2 and q0?</td>\n",
       "      <td>transition</td>\n",
       "      <td>existence_between</td>\n",
       "    </tr>\n",
       "    <tr>\n",
       "      <th>4</th>\n",
       "      <td>Is there a transition between q5 and q7</td>\n",
       "      <td>transition</td>\n",
       "      <td>existence_between</td>\n",
       "    </tr>\n",
       "  </tbody>\n",
       "</table>\n",
       "</div>"
      ]
     },
     "execution_count": 1,
     "metadata": {},
     "output_type": "execute_result"
    }
   ],
   "execution_count": 1
  },
  {
   "metadata": {
    "ExecuteTime": {
     "end_time": "2024-11-27T20:58:28.883838Z",
     "start_time": "2024-11-27T20:58:28.878627Z"
    }
   },
   "cell_type": "code",
   "source": [
    "# count the number of questions using the pandas dataframe\n",
    "questions_count = ds['Question'].count()\n",
    "# count of unique questions\n",
    "unique_questions_count = ds['Question'].nunique()\n",
    "# count of 'Global Subject' unique values\n",
    "unique_global_subject_count = ds['Global Subject'].nunique()\n",
    "\n",
    "# display all the unique values of 'Global Subject' using the jupyter notebook; while also displaying the other values\n",
    "ds['Global Subject'].value_counts()"
   ],
   "id": "39b2e2efa53a175a",
   "outputs": [
    {
     "data": {
      "text/plain": [
       "Global Subject\n",
       "transition    77\n",
       "automaton     48\n",
       "state         48\n",
       "grammar       33\n",
       "theory        15\n",
       "off_topic      6\n",
       "start          2\n",
       "Name: count, dtype: int64"
      ]
     },
     "execution_count": 2,
     "metadata": {},
     "output_type": "execute_result"
    }
   ],
   "execution_count": 2
  },
  {
   "metadata": {
    "ExecuteTime": {
     "end_time": "2024-11-27T20:58:28.936903Z",
     "start_time": "2024-11-27T20:58:28.933357Z"
    }
   },
   "cell_type": "code",
   "source": "ds['Question Intent'].value_counts()",
   "id": "25f9dd03c8df933e",
   "outputs": [
    {
     "data": {
      "text/plain": [
       "Question Intent\n",
       "count                 29\n",
       "existence_from        18\n",
       "list                  17\n",
       "description           16\n",
       "accepted              14\n",
       "representation        13\n",
       "existence_between     12\n",
       "transitions           12\n",
       "description_brief     10\n",
       "pattern               10\n",
       "existence_directed     9\n",
       "start                  8\n",
       "final                  8\n",
       "symbols                7\n",
       "off_topic              6\n",
       "cycles                 4\n",
       "label                  4\n",
       "example_input          4\n",
       "final_list             3\n",
       "states                 3\n",
       "generic                3\n",
       "variation              2\n",
       "greet                  2\n",
       "final_count            2\n",
       "validity               2\n",
       "simulation             2\n",
       "regex                  2\n",
       "definition             2\n",
       "input                  1\n",
       "existence_into         1\n",
       "directionality         1\n",
       "details                1\n",
       "self_loop              1\n",
       "Name: count, dtype: int64"
      ]
     },
     "execution_count": 3,
     "metadata": {},
     "output_type": "execute_result"
    }
   ],
   "execution_count": 3
  },
  {
   "metadata": {
    "ExecuteTime": {
     "end_time": "2024-11-27T20:58:29.028660Z",
     "start_time": "2024-11-27T20:58:29.024869Z"
    }
   },
   "cell_type": "code",
   "source": [
    "# join the 'Global Subject' and 'Question Intent' columns to see how many \"combined\" unique values there are\n",
    "comb = ds['Global Subject'] + ':' + ds['Question Intent']\n",
    "comb.value_counts()"
   ],
   "id": "20d64d52c7c0099d",
   "outputs": [
    {
     "data": {
      "text/plain": [
       "state:count                      19\n",
       "transition:existence_from        18\n",
       "transition:list                  15\n",
       "grammar:accepted                 14\n",
       "automaton:description            14\n",
       "automaton:representation         13\n",
       "transition:existence_between     12\n",
       "transition:count                 10\n",
       "automaton:description_brief      10\n",
       "automaton:pattern                 9\n",
       "transition:existence_directed     9\n",
       "state:start                       8\n",
       "state:final                       7\n",
       "grammar:symbols                   7\n",
       "state:transitions                 7\n",
       "off_topic:off_topic               6\n",
       "theory:transitions                5\n",
       "grammar:example_input             4\n",
       "transition:cycles                 4\n",
       "transition:label                  4\n",
       "state:final_list                  3\n",
       "theory:generic                    3\n",
       "theory:states                     3\n",
       "grammar:variation                 2\n",
       "state:final_count                 2\n",
       "start:greet                       2\n",
       "grammar:validity                  2\n",
       "grammar:simulation                2\n",
       "theory:definition                 2\n",
       "transition:description            2\n",
       "grammar:regex                     2\n",
       "theory:pattern                    1\n",
       "transition:existence_into         1\n",
       "transition:input                  1\n",
       "theory:final                      1\n",
       "automaton:directionality          1\n",
       "automaton:list                    1\n",
       "state:details                     1\n",
       "state:list                        1\n",
       "transition:self_loop              1\n",
       "Name: count, dtype: int64"
      ]
     },
     "execution_count": 4,
     "metadata": {},
     "output_type": "execute_result"
    }
   ],
   "execution_count": 4
  },
  {
   "metadata": {},
   "cell_type": "markdown",
   "source": "Now let's also load the additional data made by me.",
   "id": "4bd8bfc08244c4b2"
  },
  {
   "metadata": {
    "ExecuteTime": {
     "end_time": "2024-11-27T20:58:29.144900Z",
     "start_time": "2024-11-27T20:58:29.129149Z"
    }
   },
   "cell_type": "code",
   "source": [
    "ds_automaton = pd.read_csv('./new_questions/automaton_questions.csv')\n",
    "ds_state = pd.read_csv('./new_questions/state_questions.csv')\n",
    "ds_transition = pd.read_csv('./new_questions/transition_questions.csv')\n",
    "ds_grammar = pd.read_csv('./new_questions/grammar_questions.csv')\n",
    "ds_start = pd.read_csv('./new_questions/start_questions.csv')\n",
    "ds_theory = pd.read_csv('./new_questions/theory_questions.csv')\n",
    "\n",
    "print(\"Automaton questions count: \", ds_automaton['Question'].count())\n",
    "print(\"State questions count: \", ds_state['Question'].count())\n",
    "print(\"Transition questions count: \", ds_transition['Question'].count())\n",
    "print(\"Grammar questions count: \", ds_grammar['Question'].count())\n",
    "print(\"Start questions count: \", ds_start['Question'].count())\n",
    "print(\"Theory questions count: \", ds_theory['Question'].count())"
   ],
   "id": "b42af2be59ec4d50",
   "outputs": [
    {
     "name": "stdout",
     "output_type": "stream",
     "text": [
      "Automaton questions count:  93\n",
      "State questions count:  56\n",
      "Transition questions count:  148\n",
      "Grammar questions count:  111\n",
      "Start questions count:  17\n",
      "Theory questions count:  100\n"
     ]
    }
   ],
   "execution_count": 5
  },
  {
   "metadata": {},
   "cell_type": "markdown",
   "source": "Finally, let's join all the data we have to see the distribution of the data.",
   "id": "d8044ea193d1c26a"
  },
  {
   "metadata": {
    "ExecuteTime": {
     "end_time": "2024-11-27T20:58:29.310469Z",
     "start_time": "2024-11-27T20:58:29.305618Z"
    }
   },
   "cell_type": "code",
   "source": [
    "combined = pd.concat([ds, ds_automaton, ds_state, ds_transition, ds_grammar, ds_start, ds_theory])\n",
    "\n",
    "print(\"Combined questions count: \", combined['Question'].count())\n",
    "print(\"Combined unique questions count: \", combined['Question'].nunique())\n",
    "\n",
    "combined['Global Subject'].value_counts()"
   ],
   "id": "8c672edc2d03067c",
   "outputs": [
    {
     "name": "stdout",
     "output_type": "stream",
     "text": [
      "Combined questions count:  754\n",
      "Combined unique questions count:  715\n"
     ]
    },
    {
     "data": {
      "text/plain": [
       "Global Subject\n",
       "transition    225\n",
       "grammar       144\n",
       "automaton     141\n",
       "theory        115\n",
       "state         104\n",
       "start          19\n",
       "off_topic       6\n",
       "Name: count, dtype: int64"
      ]
     },
     "execution_count": 6,
     "metadata": {},
     "output_type": "execute_result"
    }
   ],
   "execution_count": 6
  },
  {
   "metadata": {
    "ExecuteTime": {
     "end_time": "2024-11-27T20:58:29.418386Z",
     "start_time": "2024-11-27T20:58:29.414722Z"
    }
   },
   "cell_type": "code",
   "source": "combined['Question Intent'].value_counts()",
   "id": "3d05803e851278f3",
   "outputs": [
    {
     "data": {
      "text/plain": [
       "Question Intent\n",
       "description           74\n",
       "accepted              57\n",
       "existence_from        42\n",
       "count                 40\n",
       "generic               39\n",
       "list                  38\n",
       "label                 36\n",
       "transitions           34\n",
       "pattern               27\n",
       "existence_between     25\n",
       "existence_directed    21\n",
       "final                 21\n",
       "simulation            20\n",
       "variation             19\n",
       "greet                 19\n",
       "representation        19\n",
       "states                18\n",
       "existence_into        17\n",
       "definition            16\n",
       "description_brief     16\n",
       "start                 15\n",
       "symbols               14\n",
       "validity              14\n",
       "cycles                12\n",
       "details               12\n",
       "input                 12\n",
       "self_loop             11\n",
       "example_input         11\n",
       "regex                  9\n",
       "final_count            8\n",
       "off_topic              6\n",
       "final_list             6\n",
       "optimization           6\n",
       "deterministic          5\n",
       "reachability           5\n",
       "start_final            3\n",
       "dead                   3\n",
       "directionality         2\n",
       "image                  2\n",
       "Name: count, dtype: int64"
      ]
     },
     "execution_count": 7,
     "metadata": {},
     "output_type": "execute_result"
    }
   ],
   "execution_count": 7
  },
  {
   "metadata": {
    "ExecuteTime": {
     "end_time": "2024-11-27T20:58:29.469179Z",
     "start_time": "2024-11-27T20:58:29.464476Z"
    }
   },
   "cell_type": "code",
   "source": [
    "comb = combined['Global Subject'] + ':' + combined['Question Intent']\n",
    "comb.value_counts()"
   ],
   "id": "40e58087f2f8f287",
   "outputs": [
    {
     "data": {
      "text/plain": [
       "automaton:description            69\n",
       "grammar:accepted                 57\n",
       "transition:existence_from        42\n",
       "theory:generic                   39\n",
       "transition:label                 36\n",
       "transition:list                  31\n",
       "theory:transitions               27\n",
       "state:count                      27\n",
       "transition:existence_between     25\n",
       "transition:existence_directed    21\n",
       "automaton:pattern                20\n",
       "grammar:simulation               20\n",
       "grammar:variation                19\n",
       "start:greet                      19\n",
       "automaton:representation         19\n",
       "theory:states                    18\n",
       "transition:existence_into        17\n",
       "automaton:description_brief      16\n",
       "theory:definition                16\n",
       "state:start                      15\n",
       "grammar:symbols                  14\n",
       "grammar:validity                 14\n",
       "state:final                      13\n",
       "transition:count                 13\n",
       "state:details                    12\n",
       "transition:input                 12\n",
       "transition:cycles                12\n",
       "grammar:example_input            11\n",
       "transition:self_loop             11\n",
       "grammar:regex                     9\n",
       "state:final_count                 8\n",
       "theory:final                      8\n",
       "theory:pattern                    7\n",
       "state:transitions                 7\n",
       "automaton:optimization            6\n",
       "state:final_list                  6\n",
       "off_topic:off_topic               6\n",
       "automaton:deterministic           5\n",
       "state:list                        5\n",
       "transition:description            5\n",
       "state:reachability                5\n",
       "state:start_final                 3\n",
       "state:dead                        3\n",
       "automaton:list                    2\n",
       "automaton:image                   2\n",
       "automaton:directionality          2\n",
       "Name: count, dtype: int64"
      ]
     },
     "execution_count": 8,
     "metadata": {},
     "output_type": "execute_result"
    }
   ],
   "execution_count": 8
  },
  {
   "metadata": {
    "ExecuteTime": {
     "end_time": "2024-11-27T20:58:29.974159Z",
     "start_time": "2024-11-27T20:58:29.551259Z"
    }
   },
   "cell_type": "code",
   "source": "combined.groupby('Global Subject')['Question Intent'].count().plot(kind='bar', title='Global Subject distribution')",
   "id": "c55700f837db1a6c",
   "outputs": [
    {
     "data": {
      "text/plain": [
       "<Axes: title={'center': 'Global Subject distribution'}, xlabel='Global Subject'>"
      ]
     },
     "execution_count": 9,
     "metadata": {},
     "output_type": "execute_result"
    },
    {
     "data": {
      "text/plain": [
       "<Figure size 640x480 with 1 Axes>"
      ],
      "image/png": "[encoded data removed]"
     },
     "metadata": {},
     "output_type": "display_data"
    }
   ],
   "execution_count": 9
  },
  {
   "metadata": {
    "ExecuteTime": {
     "end_time": "2024-11-27T20:58:30.083367Z",
     "start_time": "2024-11-27T20:58:30.003345Z"
    }
   },
   "cell_type": "code",
   "source": "combined.groupby('Global Subject')['Question Intent'].nunique().plot(kind='bar', title='Global Subject unique Question Intent distribution')",
   "id": "28c941f2faf10373",
   "outputs": [
    {
     "data": {
      "text/plain": [
       "<Axes: title={'center': 'Global Subject unique Question Intent distribution'}, xlabel='Global Subject'>"
      ]
     },
     "execution_count": 10,
     "metadata": {},
     "output_type": "execute_result"
    },
    {
     "data": {
      "text/plain": [
       "<Figure size 640x480 with 1 Axes>"
      ],
      "image/png": "[encoded data removed]"
     },
     "metadata": {},
     "output_type": "display_data"
    }
   ],
   "execution_count": 10
  },
  {
   "metadata": {
    "ExecuteTime": {
     "end_time": "2024-11-27T20:58:30.316186Z",
     "start_time": "2024-11-27T20:58:30.194869Z"
    }
   },
   "cell_type": "code",
   "source": [
    "# filter for 'automaton' GS and show the 'Question Intent' distribution\n",
    "combined[combined['Global Subject'] == 'automaton']['Question Intent'].value_counts().plot(kind='bar', title='Question intents for \"automaton\" global subject')"
   ],
   "id": "581c66857162df89",
   "outputs": [
    {
     "data": {
      "text/plain": [
       "<Axes: title={'center': 'Question intents for \"automaton\" global subject'}, xlabel='Question Intent'>"
      ]
     },
     "execution_count": 11,
     "metadata": {},
     "output_type": "execute_result"
    },
    {
     "data": {
      "text/plain": [
       "<Figure size 640x480 with 1 Axes>"
      ],
      "image/png": "[encoded data removed]"
     },
     "metadata": {},
     "output_type": "display_data"
    }
   ],
   "execution_count": 11
  },
  {
   "metadata": {
    "ExecuteTime": {
     "end_time": "2024-11-27T20:58:30.469659Z",
     "start_time": "2024-11-27T20:58:30.343512Z"
    }
   },
   "cell_type": "code",
   "source": [
    "# filter for 'state' GS and show the 'Question Intent' distribution\n",
    "combined[combined['Global Subject'] == 'state']['Question Intent'].value_counts().plot(kind='bar', title='Question intents for \"state\" global subject')"
   ],
   "id": "d815d5f33d534fd5",
   "outputs": [
    {
     "data": {
      "text/plain": [
       "<Axes: title={'center': 'Question intents for \"state\" global subject'}, xlabel='Question Intent'>"
      ]
     },
     "execution_count": 12,
     "metadata": {},
     "output_type": "execute_result"
    },
    {
     "data": {
      "text/plain": [
       "<Figure size 640x480 with 1 Axes>"
      ],
      "image/png": "[encoded data removed]"
     },
     "metadata": {},
     "output_type": "display_data"
    }
   ],
   "execution_count": 12
  },
  {
   "metadata": {
    "ExecuteTime": {
     "end_time": "2024-11-27T20:58:30.588512Z",
     "start_time": "2024-11-27T20:58:30.581558Z"
    }
   },
   "cell_type": "code",
   "source": [
    "from sklearn.preprocessing import LabelEncoder\n",
    "\n",
    "should_save_model = false\n",
    "\n",
    "le = LabelEncoder()\n",
    "combined['gs'] = le.fit_transform(combined['Global Subject'])\n",
    "combined['qi'] = le.fit_transform(combined['Question Intent'])\n",
    "train_test_split(combined['Question'], combined['gs'], combined['qi'], test_size=0.2, random_state=34197,\n",
    "                 stratify=combined['gs'])"
   ],
   "id": "cdd166d62499695",
   "outputs": [
    {
     "data": {
      "text/plain": [
       "[21         How many transitions are there from q0 to q1?\n",
       " 214                       Briefly describe the automaton\n",
       " 65                            How many states are there?\n",
       " 20     What are the inputs and outputs of the automaton?\n",
       " 217                        What is the accepted language\n",
       "                              ...                        \n",
       " 53              How many states does the automaton have?\n",
       " 20     How do finite automata recognize patterns in i...\n",
       " 3               Is there a transition between q2 and q0?\n",
       " 80     Is there a transition labeled 'f' between q2 a...\n",
       " 61     Are there any transitions from q2 that do not ...\n",
       " Name: Question, Length: 603, dtype: object,\n",
       " 82       Is '101' accepted or rejected by the automaton?\n",
       " 68     Does the automaton accept any string that star...\n",
       " 64     How do you define the language accepted by an ...\n",
       " 3      What are the initial and final states of the a...\n",
       " 57                   What transitions enter and exit q2?\n",
       "                              ...                        \n",
       " 64                             How many nodes are there?\n",
       " 137                   Is there an arc between q0 and q1?\n",
       " 2             How many nodes does the automaton contain?\n",
       " 132                            How many states are there\n",
       " 69          How are dead states used in automata design?\n",
       " Name: Question, Length: 151, dtype: object,\n",
       " 21     6\n",
       " 214    0\n",
       " 65     4\n",
       " 20     0\n",
       " 217    1\n",
       "       ..\n",
       " 53     4\n",
       " 20     5\n",
       " 3      6\n",
       " 80     6\n",
       " 61     6\n",
       " Name: gs, Length: 603, dtype: int64,\n",
       " 82     1\n",
       " 68     1\n",
       " 64     5\n",
       " 3      0\n",
       " 57     4\n",
       "       ..\n",
       " 64     4\n",
       " 137    6\n",
       " 2      4\n",
       " 132    4\n",
       " 69     5\n",
       " Name: gs, Length: 151, dtype: int64,\n",
       " 21     11\n",
       " 214     6\n",
       " 65      1\n",
       " 20      5\n",
       " 217     0\n",
       "        ..\n",
       " 53      1\n",
       " 20     26\n",
       " 3      11\n",
       " 80     11\n",
       " 61     13\n",
       " Name: qi, Length: 603, dtype: int64,\n",
       " 82     31\n",
       " 68      0\n",
       " 64      4\n",
       " 3       5\n",
       " 57     36\n",
       "        ..\n",
       " 64      1\n",
       " 137    11\n",
       " 2       1\n",
       " 132     1\n",
       " 69     34\n",
       " Name: qi, Length: 151, dtype: int64]"
      ]
     },
     "execution_count": 13,
     "metadata": {},
     "output_type": "execute_result"
    }
   ],
   "execution_count": 13
  },
  {
   "metadata": {
    "ExecuteTime": {
     "end_time": "2024-11-27T20:58:30.628596Z",
     "start_time": "2024-11-27T20:58:30.625929Z"
    }
   },
   "cell_type": "code",
   "source": [
    "if should_save_model:\n",
    "    # https://huggingface.co/datasets/rajpurkar/squad_v2\n",
    "    splits = {'train': 'squad_v2/train-00000-of-00001.parquet',\n",
    "              'validation': 'squad_v2/validation-00000-of-00001.parquet'}\n",
    "    df_squad_v2 = pd.read_parquet(\"hf://datasets/rajpurkar/squad_v2/\" + splits[\"train\"])\n",
    "\n",
    "    # Double square parenthesis to get a dataframe\n",
    "    sampled_ot_examples = df_squad_v2.sample(100, random_state=34197)[['question']]\n",
    "    sampled_ot_examples.rename(columns={'question': 'Question'}, inplace=True)\n",
    "\n",
    "    sampled_ot_examples['Global Subject'] = 'off_topic'\n",
    "    sampled_ot_examples['Question Intent'] = 'off_topic'\n",
    "\n",
    "    # save the combined data to a new csv file\n",
    "    pd.concat([combined, sampled_ot_examples]).to_csv('./multitask_training/data_cleaned_manual_combined.csv',\n",
    "                                                      index=False)"
   ],
   "id": "3feaba8303af94b2",
   "outputs": [],
   "execution_count": 14
  }
 ],
 "metadata": {
  "kernelspec": {
   "display_name": "Python 3",
   "language": "python",
   "name": "python3"
  },
  "language_info": {
   "codemirror_mode": {
    "name": "ipython",
    "version": 2
   },
   "file_extension": ".py",
   "mimetype": "text/x-python",
   "name": "python",
   "nbconvert_exporter": "python",
   "pygments_lexer": "ipython2",
   "version": "2.7.6"
  }
 },
 "nbformat": 4,
 "nbformat_minor": 5
}
