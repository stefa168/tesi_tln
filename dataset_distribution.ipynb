{
 "cells": [
  {
   "metadata": {},
   "cell_type": "markdown",
   "source": "Let's see how the data is distributed and what we should produce to improve the performance.",
   "id": "a4186ecd19dbbdc"
  },
  {
   "cell_type": "code",
   "id": "initial_id",
   "metadata": {
    "collapsed": true,
    "ExecuteTime": {
     "end_time": "2024-11-14T15:19:10.846251Z",
     "start_time": "2024-11-14T15:19:10.664959Z"
    }
   },
   "source": [
    "import numpy as np\n",
    "import pandas as pd\n",
    "from scipy.interpolate.dfitpack import types\n",
    "\n",
    "ds = pd.read_csv('./labelling/data_cleaned_manual.csv')\n",
    "\n",
    "questions = list(ds['Question'])\n",
    "\n",
    "ds.head()"
   ],
   "outputs": [
    {
     "data": {
      "text/plain": [
       "                                   Question Global Subject    Question Intent\n",
       "0                                        Hi          start              greet\n",
       "1                                     Hello          start              greet\n",
       "2                    Describe the automaton      automaton        description\n",
       "3  Is there a transition between q2 and q0?     transition  existence_between\n",
       "4   Is there a transition between q5 and q7     transition  existence_between"
      ],
      "text/html": [
       "<div>\n",
       "<style scoped>\n",
       "    .dataframe tbody tr th:only-of-type {\n",
       "        vertical-align: middle;\n",
       "    }\n",
       "\n",
       "    .dataframe tbody tr th {\n",
       "        vertical-align: top;\n",
       "    }\n",
       "\n",
       "    .dataframe thead th {\n",
       "        text-align: right;\n",
       "    }\n",
       "</style>\n",
       "<table border=\"1\" class=\"dataframe\">\n",
       "  <thead>\n",
       "    <tr style=\"text-align: right;\">\n",
       "      <th></th>\n",
       "      <th>Question</th>\n",
       "      <th>Global Subject</th>\n",
       "      <th>Question Intent</th>\n",
       "    </tr>\n",
       "  </thead>\n",
       "  <tbody>\n",
       "    <tr>\n",
       "      <th>0</th>\n",
       "      <td>Hi</td>\n",
       "      <td>start</td>\n",
       "      <td>greet</td>\n",
       "    </tr>\n",
       "    <tr>\n",
       "      <th>1</th>\n",
       "      <td>Hello</td>\n",
       "      <td>start</td>\n",
       "      <td>greet</td>\n",
       "    </tr>\n",
       "    <tr>\n",
       "      <th>2</th>\n",
       "      <td>Describe the automaton</td>\n",
       "      <td>automaton</td>\n",
       "      <td>description</td>\n",
       "    </tr>\n",
       "    <tr>\n",
       "      <th>3</th>\n",
       "      <td>Is there a transition between q2 and q0?</td>\n",
       "      <td>transition</td>\n",
       "      <td>existence_between</td>\n",
       "    </tr>\n",
       "    <tr>\n",
       "      <th>4</th>\n",
       "      <td>Is there a transition between q5 and q7</td>\n",
       "      <td>transition</td>\n",
       "      <td>existence_between</td>\n",
       "    </tr>\n",
       "  </tbody>\n",
       "</table>\n",
       "</div>"
      ]
     },
     "execution_count": 37,
     "metadata": {},
     "output_type": "execute_result"
    }
   ],
   "execution_count": 37
  },
  {
   "metadata": {
    "ExecuteTime": {
     "end_time": "2024-11-14T15:19:10.886888Z",
     "start_time": "2024-11-14T15:19:10.883310Z"
    }
   },
   "cell_type": "code",
   "source": [
    "# count the number of questions using the pandas dataframe\n",
    "questions_count = ds['Question'].count()\n",
    "# count of unique questions\n",
    "unique_questions_count = ds['Question'].nunique()\n",
    "# count of 'Global Subject' unique values\n",
    "unique_global_subject_count = ds['Global Subject'].nunique()\n",
    "\n",
    "# display all the unique values of 'Global Subject' using the jupyter notebook; while also displaying the other values\n",
    "ds['Global Subject'].value_counts()"
   ],
   "id": "39b2e2efa53a175a",
   "outputs": [
    {
     "data": {
      "text/plain": [
       "Global Subject\n",
       "transition    76\n",
       "automaton     49\n",
       "state         49\n",
       "grammar       33\n",
       "theory        15\n",
       "off_topic      6\n",
       "start          2\n",
       "Name: count, dtype: int64"
      ]
     },
     "execution_count": 38,
     "metadata": {},
     "output_type": "execute_result"
    }
   ],
   "execution_count": 38
  },
  {
   "metadata": {
    "ExecuteTime": {
     "end_time": "2024-11-14T15:19:11.002788Z",
     "start_time": "2024-11-14T15:19:10.999291Z"
    }
   },
   "cell_type": "code",
   "source": "ds['Question Intent'].value_counts()",
   "id": "25f9dd03c8df933e",
   "outputs": [
    {
     "data": {
      "text/plain": [
       "Question Intent\n",
       "count                 29\n",
       "existence_from        18\n",
       "list                  17\n",
       "description           16\n",
       "accepted              14\n",
       "representation        13\n",
       "existence_between     12\n",
       "transitions           12\n",
       "description_brief     10\n",
       "pattern               10\n",
       "existence_directed     9\n",
       "start                  8\n",
       "final                  8\n",
       "symbols                7\n",
       "cycles                 4\n",
       "label                  4\n",
       "example_input          4\n",
       "final_list             3\n",
       "states                 3\n",
       "generic                3\n",
       "regex                  2\n",
       "variation              2\n",
       "definition             2\n",
       "greet                  2\n",
       "final_count            2\n",
       "validity               2\n",
       "simulation             2\n",
       "input                  1\n",
       "change                 1\n",
       "existence_into         1\n",
       "directionality         1\n",
       "details                1\n",
       "self_loop              1\n",
       "Name: count, dtype: int64"
      ]
     },
     "execution_count": 39,
     "metadata": {},
     "output_type": "execute_result"
    }
   ],
   "execution_count": 39
  },
  {
   "metadata": {
    "ExecuteTime": {
     "end_time": "2024-11-14T15:19:11.138283Z",
     "start_time": "2024-11-14T15:19:11.134172Z"
    }
   },
   "cell_type": "code",
   "source": [
    "# join the 'Global Subject' and 'Question Intent' columns to see how many \"combined\" unique values there are\n",
    "comb = ds['Global Subject'] + ':' + ds['Question Intent']\n",
    "comb.value_counts()"
   ],
   "id": "20d64d52c7c0099d",
   "outputs": [
    {
     "data": {
      "text/plain": [
       "state:count                      19\n",
       "transition:existence_from        18\n",
       "transition:list                  15\n",
       "automaton:description            14\n",
       "grammar:accepted                 14\n",
       "automaton:representation         13\n",
       "transition:existence_between     12\n",
       "transition:count                 10\n",
       "automaton:description_brief      10\n",
       "transition:existence_directed     9\n",
       "automaton:pattern                 9\n",
       "state:start                       8\n",
       "state:final                       7\n",
       "grammar:symbols                   7\n",
       "state:transitions                 7\n",
       "theory:transitions                5\n",
       "grammar:example_input             4\n",
       "transition:cycles                 4\n",
       "transition:label                  4\n",
       "state:final_list                  3\n",
       "theory:generic                    3\n",
       "theory:states                     3\n",
       "grammar:variation                 2\n",
       "theory:definition                 2\n",
       "grammar:regex                     2\n",
       "state:final_count                 2\n",
       "start:greet                       2\n",
       "grammar:validity                  2\n",
       "grammar:simulation                2\n",
       "transition:description            2\n",
       "state:input                       1\n",
       "automaton:change                  1\n",
       "automaton:directionality          1\n",
       "theory:final                      1\n",
       "automaton:list                    1\n",
       "transition:existence_into         1\n",
       "state:details                     1\n",
       "state:list                        1\n",
       "theory:pattern                    1\n",
       "transition:self_loop              1\n",
       "Name: count, dtype: int64"
      ]
     },
     "execution_count": 40,
     "metadata": {},
     "output_type": "execute_result"
    }
   ],
   "execution_count": 40
  },
  {
   "metadata": {},
   "cell_type": "markdown",
   "source": "Now let's also load the additional data made by me.",
   "id": "4bd8bfc08244c4b2"
  },
  {
   "metadata": {
    "ExecuteTime": {
     "end_time": "2024-11-14T15:19:11.266227Z",
     "start_time": "2024-11-14T15:19:11.258357Z"
    }
   },
   "cell_type": "code",
   "source": [
    "ds_automaton = pd.read_csv('./new_questions/automaton_questions.csv')\n",
    "ds_state = pd.read_csv('./new_questions/state_questions.csv')\n",
    "ds_transition = pd.read_csv('./new_questions/transition_questions.csv')\n",
    "ds_grammar = pd.read_csv('./new_questions/grammar_questions.csv')\n",
    "ds_start = pd.read_csv('./new_questions/start_questions.csv')\n",
    "ds_theory = pd.read_csv('./new_questions/theory_questions.csv')\n",
    "\n",
    "print(\"Automaton questions count: \", ds_automaton['Question'].count())\n",
    "print(\"State questions count: \", ds_state['Question'].count())\n",
    "print(\"Transition questions count: \", ds_transition['Question'].count())\n",
    "print(\"Grammar questions count: \", ds_grammar['Question'].count())\n",
    "print(\"Start questions count: \", ds_start['Question'].count())\n",
    "print(\"Theory questions count: \", ds_theory['Question'].count())"
   ],
   "id": "b42af2be59ec4d50",
   "outputs": [
    {
     "name": "stdout",
     "output_type": "stream",
     "text": [
      "Automaton questions count:  92\n",
      "State questions count:  56\n",
      "Transition questions count:  148\n",
      "Grammar questions count:  111\n",
      "Start questions count:  17\n",
      "Theory questions count:  100\n"
     ]
    }
   ],
   "execution_count": 41
  },
  {
   "metadata": {},
   "cell_type": "markdown",
   "source": "Finally, let's join all the data we have to see the distribution of the data.",
   "id": "d8044ea193d1c26a"
  },
  {
   "metadata": {
    "ExecuteTime": {
     "end_time": "2024-11-14T15:19:23.182944Z",
     "start_time": "2024-11-14T15:19:23.178188Z"
    }
   },
   "cell_type": "code",
   "source": [
    "combined = pd.concat([ds, ds_automaton, ds_state, ds_transition, ds_grammar, ds_start, ds_theory])\n",
    "\n",
    "print(\"Combined questions count: \", combined['Question'].count())\n",
    "print(\"Combined unique questions count: \", combined['Question'].nunique())\n",
    "\n",
    "combined['Global Subject'].value_counts()"
   ],
   "id": "8c672edc2d03067c",
   "outputs": [
    {
     "name": "stdout",
     "output_type": "stream",
     "text": [
      "Combined questions count:  754\n",
      "Combined unique questions count:  715\n"
     ]
    },
    {
     "data": {
      "text/plain": [
       "Global Subject\n",
       "transition    224\n",
       "grammar       144\n",
       "automaton     141\n",
       "theory        115\n",
       "state         105\n",
       "start          19\n",
       "off_topic       6\n",
       "Name: count, dtype: int64"
      ]
     },
     "execution_count": 44,
     "metadata": {},
     "output_type": "execute_result"
    }
   ],
   "execution_count": 44
  },
  {
   "metadata": {
    "ExecuteTime": {
     "end_time": "2024-11-14T15:19:27.943349Z",
     "start_time": "2024-11-14T15:19:27.939293Z"
    }
   },
   "cell_type": "code",
   "source": "combined['Question Intent'].value_counts()",
   "id": "3d05803e851278f3",
   "outputs": [
    {
     "data": {
      "text/plain": [
       "Question Intent\n",
       "description           74\n",
       "accepted              57\n",
       "existence_from        42\n",
       "count                 40\n",
       "generic               39\n",
       "list                  38\n",
       "label                 36\n",
       "transitions           34\n",
       "pattern               27\n",
       "existence_between     25\n",
       "existence_directed    21\n",
       "final                 21\n",
       "simulation            20\n",
       "variation             19\n",
       "greet                 19\n",
       "representation        19\n",
       "states                18\n",
       "existence_into        17\n",
       "description_brief     16\n",
       "definition            16\n",
       "start                 15\n",
       "validity              14\n",
       "symbols               14\n",
       "input                 12\n",
       "cycles                12\n",
       "details               12\n",
       "self_loop             11\n",
       "example_input         11\n",
       "regex                  9\n",
       "final_count            8\n",
       "final_list             6\n",
       "optimization           6\n",
       "deterministic          5\n",
       "reachability           5\n",
       "start_final            3\n",
       "dead                   3\n",
       "image                  2\n",
       "change                 1\n",
       "directionality         1\n",
       "Name: count, dtype: int64"
      ]
     },
     "execution_count": 45,
     "metadata": {},
     "output_type": "execute_result"
    }
   ],
   "execution_count": 45
  }
 ],
 "metadata": {
  "kernelspec": {
   "display_name": "Python 3",
   "language": "python",
   "name": "python3"
  },
  "language_info": {
   "codemirror_mode": {
    "name": "ipython",
    "version": 2
   },
   "file_extension": ".py",
   "mimetype": "text/x-python",
   "name": "python",
   "nbconvert_exporter": "python",
   "pygments_lexer": "ipython2",
   "version": "2.7.6"
  }
 },
 "nbformat": 4,
 "nbformat_minor": 5
}
