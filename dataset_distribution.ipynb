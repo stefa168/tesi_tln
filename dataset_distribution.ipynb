{
 "cells": [
  {
   "metadata": {},
   "cell_type": "markdown",
   "source": "Let's see how the data is distributed and what we should produce to improve the performance.",
   "id": "a4186ecd19dbbdc"
  },
  {
   "cell_type": "code",
   "id": "initial_id",
   "metadata": {
    "collapsed": true,
    "ExecuteTime": {
     "end_time": "2024-11-11T22:00:26.099200Z",
     "start_time": "2024-11-11T22:00:26.093613Z"
    }
   },
   "source": [
    "import pandas as pd\n",
    "\n",
    "ds = pd.read_csv('./labelling/data_cleaned_manual.csv')\n",
    "\n",
    "questions = list(ds['Question'])\n",
    "\n",
    "ds.head()"
   ],
   "outputs": [
    {
     "data": {
      "text/plain": [
       "                                   Question Global Subject    Question Intent\n",
       "0                                        Hi          start              greet\n",
       "1                    Describe the automaton      automaton        description\n",
       "2  Is there a transition between q2 and q0?     transition  existence_between\n",
       "3   Is there a transition between q5 and q7     transition  existence_between\n",
       "4            Please, describe the automaton      automaton        description"
      ],
      "text/html": [
       "<div>\n",
       "<style scoped>\n",
       "    .dataframe tbody tr th:only-of-type {\n",
       "        vertical-align: middle;\n",
       "    }\n",
       "\n",
       "    .dataframe tbody tr th {\n",
       "        vertical-align: top;\n",
       "    }\n",
       "\n",
       "    .dataframe thead th {\n",
       "        text-align: right;\n",
       "    }\n",
       "</style>\n",
       "<table border=\"1\" class=\"dataframe\">\n",
       "  <thead>\n",
       "    <tr style=\"text-align: right;\">\n",
       "      <th></th>\n",
       "      <th>Question</th>\n",
       "      <th>Global Subject</th>\n",
       "      <th>Question Intent</th>\n",
       "    </tr>\n",
       "  </thead>\n",
       "  <tbody>\n",
       "    <tr>\n",
       "      <th>0</th>\n",
       "      <td>Hi</td>\n",
       "      <td>start</td>\n",
       "      <td>greet</td>\n",
       "    </tr>\n",
       "    <tr>\n",
       "      <th>1</th>\n",
       "      <td>Describe the automaton</td>\n",
       "      <td>automaton</td>\n",
       "      <td>description</td>\n",
       "    </tr>\n",
       "    <tr>\n",
       "      <th>2</th>\n",
       "      <td>Is there a transition between q2 and q0?</td>\n",
       "      <td>transition</td>\n",
       "      <td>existence_between</td>\n",
       "    </tr>\n",
       "    <tr>\n",
       "      <th>3</th>\n",
       "      <td>Is there a transition between q5 and q7</td>\n",
       "      <td>transition</td>\n",
       "      <td>existence_between</td>\n",
       "    </tr>\n",
       "    <tr>\n",
       "      <th>4</th>\n",
       "      <td>Please, describe the automaton</td>\n",
       "      <td>automaton</td>\n",
       "      <td>description</td>\n",
       "    </tr>\n",
       "  </tbody>\n",
       "</table>\n",
       "</div>"
      ]
     },
     "execution_count": 20,
     "metadata": {},
     "output_type": "execute_result"
    }
   ],
   "execution_count": 20
  },
  {
   "metadata": {
    "ExecuteTime": {
     "end_time": "2024-11-11T22:00:26.157643Z",
     "start_time": "2024-11-11T22:00:26.154500Z"
    }
   },
   "cell_type": "code",
   "source": [
    "# count the number of questions using the pandas dataframe\n",
    "questions_count = ds['Question'].count()\n",
    "# count of unique questions\n",
    "unique_questions_count = ds['Question'].nunique()\n",
    "# count of 'Global Subject' unique values\n",
    "unique_global_subject_count = ds['Global Subject'].nunique()\n",
    "\n",
    "# display all the unique values of 'Global Subject' using the jupyter notebook; while also displaying the other values\n",
    "ds['Global Subject'].value_counts()"
   ],
   "id": "39b2e2efa53a175a",
   "outputs": [
    {
     "data": {
      "text/plain": [
       "Global Subject\n",
       "transition    71\n",
       "automaton     54\n",
       "state         49\n",
       "grammar       33\n",
       "theory        15\n",
       "off_topic      6\n",
       "start          1\n",
       "Name: count, dtype: int64"
      ]
     },
     "execution_count": 21,
     "metadata": {},
     "output_type": "execute_result"
    }
   ],
   "execution_count": 21
  },
  {
   "metadata": {
    "ExecuteTime": {
     "end_time": "2024-11-11T22:00:26.215787Z",
     "start_time": "2024-11-11T22:00:26.212994Z"
    }
   },
   "cell_type": "code",
   "source": "ds['Question Intent'].value_counts()",
   "id": "25f9dd03c8df933e",
   "outputs": [
    {
     "data": {
      "text/plain": [
       "Question Intent\n",
       "count                     29\n",
       "existence_from            18\n",
       "list                      17\n",
       "description               16\n",
       "accepted                  14\n",
       "representation            13\n",
       "existence_between         12\n",
       "transitions               12\n",
       "pattern                   10\n",
       "description_brief         10\n",
       "existence_directed         9\n",
       "final                      8\n",
       "start                      8\n",
       "symbols                    7\n",
       "cycles                     5\n",
       "label                      4\n",
       "generic                    3\n",
       "example_input              3\n",
       "states                     3\n",
       "final_list                 3\n",
       "final_count                2\n",
       "regex                      2\n",
       "simulation                 2\n",
       "validity                   2\n",
       "definition                 2\n",
       "variation                  2\n",
       "existence_into             1\n",
       "change                     1\n",
       "input                      1\n",
       "details                    1\n",
       "example_(input,output)     1\n",
       "directionality             1\n",
       "greet                      1\n",
       "Name: count, dtype: int64"
      ]
     },
     "execution_count": 22,
     "metadata": {},
     "output_type": "execute_result"
    }
   ],
   "execution_count": 22
  },
  {
   "metadata": {
    "ExecuteTime": {
     "end_time": "2024-11-11T22:00:26.296200Z",
     "start_time": "2024-11-11T22:00:26.293151Z"
    }
   },
   "cell_type": "code",
   "source": [
    "# join the 'Global Subject' and 'Question Intent' columns to see how many \"combined\" unique values there are\n",
    "comb = ds['Global Subject'] + ':' + ds['Question Intent']\n",
    "comb.value_counts()"
   ],
   "id": "20d64d52c7c0099d",
   "outputs": [
    {
     "data": {
      "text/plain": [
       "state:count                       19\n",
       "transition:existence_from         18\n",
       "transition:list                   15\n",
       "grammar:accepted                  14\n",
       "automaton:description             14\n",
       "automaton:representation          13\n",
       "transition:existence_between      12\n",
       "automaton:description_brief       10\n",
       "transition:count                  10\n",
       "automaton:pattern                  9\n",
       "transition:existence_directed      9\n",
       "state:start                        8\n",
       "state:final                        7\n",
       "state:transitions                  7\n",
       "grammar:symbols                    7\n",
       "automaton:cycles                   5\n",
       "theory:transitions                 5\n",
       "transition:label                   4\n",
       "theory:states                      3\n",
       "theory:generic                     3\n",
       "grammar:example_input              3\n",
       "state:final_list                   3\n",
       "grammar:variation                  2\n",
       "transition:description             2\n",
       "theory:definition                  2\n",
       "grammar:regex                      2\n",
       "grammar:simulation                 2\n",
       "grammar:validity                   2\n",
       "state:final_count                  2\n",
       "theory:final                       1\n",
       "transition:existence_into          1\n",
       "start:greet                        1\n",
       "grammar:example_(input,output)     1\n",
       "state:input                        1\n",
       "automaton:change                   1\n",
       "automaton:directionality           1\n",
       "automaton:list                     1\n",
       "state:details                      1\n",
       "state:list                         1\n",
       "theory:pattern                     1\n",
       "Name: count, dtype: int64"
      ]
     },
     "execution_count": 23,
     "metadata": {},
     "output_type": "execute_result"
    }
   ],
   "execution_count": 23
  }
 ],
 "metadata": {
  "kernelspec": {
   "display_name": "Python 3",
   "language": "python",
   "name": "python3"
  },
  "language_info": {
   "codemirror_mode": {
    "name": "ipython",
    "version": 2
   },
   "file_extension": ".py",
   "mimetype": "text/x-python",
   "name": "python",
   "nbconvert_exporter": "python",
   "pygments_lexer": "ipython2",
   "version": "2.7.6"
  }
 },
 "nbformat": 4,
 "nbformat_minor": 5
}
