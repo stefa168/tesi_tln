{
 "cells": [
  {
   "metadata": {},
   "cell_type": "markdown",
   "source": "# Data import",
   "id": "52ac84cd5781141c"
  },
  {
   "metadata": {
    "ExecuteTime": {
     "end_time": "2024-10-03T12:39:08.571880Z",
     "start_time": "2024-10-03T12:39:08.564350Z"
    }
   },
   "cell_type": "code",
   "source": [
    "import pandas as pd\n",
    "import json\n",
    "\n",
    "df_a = pd.read_json('labelled_data_prompt_a.json')\n",
    "df_b = pd.read_json('labelled_data_prompt_b.json')\n",
    "\n",
    "with open('label_data_bert.json') as f:\n",
    "    df_gpt = pd.json_normalize(json.load(f)['data'])"
   ],
   "id": "2dd08db9ffce254e",
   "outputs": [],
   "execution_count": 3
  },
  {
   "metadata": {},
   "cell_type": "markdown",
   "source": "# Data analysis",
   "id": "7679822147478c7e"
  },
  {
   "metadata": {
    "ExecuteTime": {
     "end_time": "2024-10-03T13:15:58.525299Z",
     "start_time": "2024-10-03T13:15:58.514728Z"
    }
   },
   "cell_type": "code",
   "source": [
    "import numpy as np\n",
    "\n",
    "\n",
    "column_names = df_a.columns.tolist()\n",
    "print(column_names)\n",
    "\n",
    "def cleanup(row: pd.Series) -> pd.Series:\n",
    "    \n",
    "    return row\n",
    "\n",
    "\n",
    "df_a.apply(cleanup, axis='rows')\n"
   ],
   "id": "957709c829968e07",
   "outputs": [
    {
     "name": "stdout",
     "output_type": "stream",
     "text": [
      "['Text', 'gemma2:9b', 'llama3.1:8b']\n"
     ]
    },
    {
     "data": {
      "text/plain": [
       "                                                  Text  \\\n",
       "0                                                   hi   \n",
       "1                               describe the automaton   \n",
       "2              There is a transition between q2 and q0   \n",
       "3              There is a transition between q5 and q7   \n",
       "4                                   Describe it please   \n",
       "..                                                 ...   \n",
       "285  what is its optimal spatial representation of ...   \n",
       "286  The automaton accepts a language allowing word...   \n",
       "287  It is possible to find a repetitive pattern in...   \n",
       "288  Si c e un solo arco che inizia da ogni stato I...   \n",
       "289  If q0 were the final state the language accept...   \n",
       "\n",
       "                      gemma2:9b                 llama3.1:8b  \n",
       "0           INTERACTION_STARTER         INTERACTION_STARTER  \n",
       "1           AUTOMATON_STRUCTURE         AUTOMATON_STRUCTURE  \n",
       "2                   TRANSITIONS                 TRANSITIONS  \n",
       "3                   TRANSITIONS                 TRANSITIONS  \n",
       "4           INTERACTION_STARTER         INTERACTION_STARTER  \n",
       "..                          ...                         ...  \n",
       "285             SHAPE_STRUCTURE             SHAPE_STRUCTURE  \n",
       "286  ALPHABET_ACCEPTED_LANGUAGE  ALPHABET_ACCEPTED_LANGUAGE  \n",
       "287          PATTERNS_AND_LOOPS          PATTERNS_AND_LOOPS  \n",
       "288                 TRANSITIONS                      STATES  \n",
       "289        INITIAL_FINAL_STATES        INITIAL_FINAL_STATES  \n",
       "\n",
       "[290 rows x 3 columns]"
      ],
      "text/html": [
       "<div>\n",
       "<style scoped>\n",
       "    .dataframe tbody tr th:only-of-type {\n",
       "        vertical-align: middle;\n",
       "    }\n",
       "\n",
       "    .dataframe tbody tr th {\n",
       "        vertical-align: top;\n",
       "    }\n",
       "\n",
       "    .dataframe thead th {\n",
       "        text-align: right;\n",
       "    }\n",
       "</style>\n",
       "<table border=\"1\" class=\"dataframe\">\n",
       "  <thead>\n",
       "    <tr style=\"text-align: right;\">\n",
       "      <th></th>\n",
       "      <th>Text</th>\n",
       "      <th>gemma2:9b</th>\n",
       "      <th>llama3.1:8b</th>\n",
       "    </tr>\n",
       "  </thead>\n",
       "  <tbody>\n",
       "    <tr>\n",
       "      <th>0</th>\n",
       "      <td>hi</td>\n",
       "      <td>INTERACTION_STARTER</td>\n",
       "      <td>INTERACTION_STARTER</td>\n",
       "    </tr>\n",
       "    <tr>\n",
       "      <th>1</th>\n",
       "      <td>describe the automaton</td>\n",
       "      <td>AUTOMATON_STRUCTURE</td>\n",
       "      <td>AUTOMATON_STRUCTURE</td>\n",
       "    </tr>\n",
       "    <tr>\n",
       "      <th>2</th>\n",
       "      <td>There is a transition between q2 and q0</td>\n",
       "      <td>TRANSITIONS</td>\n",
       "      <td>TRANSITIONS</td>\n",
       "    </tr>\n",
       "    <tr>\n",
       "      <th>3</th>\n",
       "      <td>There is a transition between q5 and q7</td>\n",
       "      <td>TRANSITIONS</td>\n",
       "      <td>TRANSITIONS</td>\n",
       "    </tr>\n",
       "    <tr>\n",
       "      <th>4</th>\n",
       "      <td>Describe it please</td>\n",
       "      <td>INTERACTION_STARTER</td>\n",
       "      <td>INTERACTION_STARTER</td>\n",
       "    </tr>\n",
       "    <tr>\n",
       "      <th>...</th>\n",
       "      <td>...</td>\n",
       "      <td>...</td>\n",
       "      <td>...</td>\n",
       "    </tr>\n",
       "    <tr>\n",
       "      <th>285</th>\n",
       "      <td>what is its optimal spatial representation of ...</td>\n",
       "      <td>SHAPE_STRUCTURE</td>\n",
       "      <td>SHAPE_STRUCTURE</td>\n",
       "    </tr>\n",
       "    <tr>\n",
       "      <th>286</th>\n",
       "      <td>The automaton accepts a language allowing word...</td>\n",
       "      <td>ALPHABET_ACCEPTED_LANGUAGE</td>\n",
       "      <td>ALPHABET_ACCEPTED_LANGUAGE</td>\n",
       "    </tr>\n",
       "    <tr>\n",
       "      <th>287</th>\n",
       "      <td>It is possible to find a repetitive pattern in...</td>\n",
       "      <td>PATTERNS_AND_LOOPS</td>\n",
       "      <td>PATTERNS_AND_LOOPS</td>\n",
       "    </tr>\n",
       "    <tr>\n",
       "      <th>288</th>\n",
       "      <td>Si c e un solo arco che inizia da ogni stato I...</td>\n",
       "      <td>TRANSITIONS</td>\n",
       "      <td>STATES</td>\n",
       "    </tr>\n",
       "    <tr>\n",
       "      <th>289</th>\n",
       "      <td>If q0 were the final state the language accept...</td>\n",
       "      <td>INITIAL_FINAL_STATES</td>\n",
       "      <td>INITIAL_FINAL_STATES</td>\n",
       "    </tr>\n",
       "  </tbody>\n",
       "</table>\n",
       "<p>290 rows × 3 columns</p>\n",
       "</div>"
      ]
     },
     "execution_count": 9,
     "metadata": {},
     "output_type": "execute_result"
    }
   ],
   "execution_count": 9
  }
 ],
 "metadata": {
  "kernelspec": {
   "display_name": "Python 3",
   "language": "python",
   "name": "python3"
  },
  "language_info": {
   "codemirror_mode": {
    "name": "ipython",
    "version": 2
   },
   "file_extension": ".py",
   "mimetype": "text/x-python",
   "name": "python",
   "nbconvert_exporter": "python",
   "pygments_lexer": "ipython2",
   "version": "2.7.6"
  }
 },
 "nbformat": 4,
 "nbformat_minor": 5
}
