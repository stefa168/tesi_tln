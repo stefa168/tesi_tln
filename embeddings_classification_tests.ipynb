{
 "cells": [
  {
   "cell_type": "code",
   "id": "initial_id",
   "metadata": {
    "collapsed": true,
    "ExecuteTime": {
     "end_time": "2024-12-04T21:01:38.891744Z",
     "start_time": "2024-12-04T21:01:38.517756Z"
    }
   },
   "source": [
    "import pandas as pd\n",
    "from datasets import Dataset, concatenate_datasets\n",
    "\n",
    "csv_path = './multitask_training/data_cleaned_manual_combined.csv'\n",
    "model_name = \n",
    "\n",
    "df = pd.read_csv(csv_path)\n",
    "\n",
    "labels_gs = df['Global Subject'].unique()\n",
    "labels_qi = df['Question Intent'].unique()\n",
    "\n",
    "id2label_gs = {i: label for i, label in enumerate(labels_gs)}\n",
    "label2id_gs = {label: i for i, label in enumerate(labels_gs)}\n",
    "\n",
    "id2label_qi = {i: label for i, label in enumerate(labels_qi)}\n",
    "label2id_qi = {label: i for i, label in enumerate(labels_qi)}"
   ],
   "outputs": [],
   "execution_count": 2
  },
  {
   "metadata": {
    "ExecuteTime": {
     "end_time": "2024-12-04T21:01:40.228581Z",
     "start_time": "2024-12-04T21:01:38.895567Z"
    }
   },
   "cell_type": "code",
   "source": [
    "from transformers import AutoTokenizer, AutoModel\n",
    "import numpy as np\n",
    "\n",
    "# https://huggingface.co/docs/transformers/v4.46.2/en/model_doc/auto#transformers.AutoTokenizer.from_pretrained\n",
    "# https://huggingface.co/docs/transformers/v4.46.2/en/model_doc/bert#transformers.BertTokenizer\n",
    "tokenizer = AutoTokenizer.from_pretrained('bert-base-uncased')\n",
    "\n",
    "\n",
    "def preprocess_data(example):\n",
    "    question = example['Question']\n",
    "\n",
    "    # https://huggingface.co/docs/transformers/v4.46.2/en/main_classes/tokenizer#transformers.PreTrainedTokenizer.__call__\n",
    "    encodings = tokenizer(question, padding=\"max_length\", truncation=True, max_length=128)\n",
    "    label_gs = label2id_gs[example['Global Subject']]\n",
    "    label_qi = label2id_qi[example['Question Intent']]\n",
    "\n",
    "    encodings.update({'labels': label_gs, 'labels_sub': label_qi})\n",
    "\n",
    "    return encodings"
   ],
   "id": "f2e702b87b7fa9e0",
   "outputs": [],
   "execution_count": 3
  },
  {
   "metadata": {
    "ExecuteTime": {
     "end_time": "2024-12-04T21:01:40.715378Z",
     "start_time": "2024-12-04T21:01:40.241643Z"
    }
   },
   "cell_type": "code",
   "source": [
    "from sklearn.model_selection import StratifiedShuffleSplit\n",
    "import pandas as pd\n",
    "from datasets import Dataset\n",
    "\n",
    "# Assuming df is your DataFrame and it has a column 'Global Subject' for stratification\n",
    "df = pd.read_csv(csv_path)\n",
    "\n",
    "# Create the stratified split\n",
    "split = StratifiedShuffleSplit(n_splits=1, test_size=0.2, random_state=42)\n",
    "for train_index, test_index in split.split(df, df['Global Subject']):\n",
    "    strat_train_set = df.loc[train_index]\n",
    "    strat_test_set = df.loc[test_index]\n",
    "\n",
    "# Reset index of strat_test_set\n",
    "strat_test_set = strat_test_set.reset_index(drop=True)\n",
    "\n",
    "# Convert to Hugging Face Dataset\n",
    "train_dataset = Dataset.from_pandas(strat_train_set)\n",
    "test_dataset = Dataset.from_pandas(strat_test_set)\n",
    "\n",
    "# Tokenize the datasets\n",
    "train_dataset = train_dataset.map(preprocess_data, remove_columns=train_dataset.column_names)\n",
    "test_dataset = test_dataset.map(preprocess_data, remove_columns=test_dataset.column_names)\n",
    "\n",
    "train_dataset.set_format(\"torch\")\n",
    "test_dataset.set_format(\"torch\")"
   ],
   "id": "d115d9308271cac7",
   "outputs": [
    {
     "data": {
      "text/plain": [
       "Map:   0%|          | 0/683 [00:00<?, ? examples/s]"
      ],
      "application/vnd.jupyter.widget-view+json": {
       "version_major": 2,
       "version_minor": 0,
       "model_id": "dca384d116c44c729696b637bc3a37ec"
      }
     },
     "metadata": {},
     "output_type": "display_data"
    },
    {
     "data": {
      "text/plain": [
       "Map:   0%|          | 0/171 [00:00<?, ? examples/s]"
      ],
      "application/vnd.jupyter.widget-view+json": {
       "version_major": 2,
       "version_minor": 0,
       "model_id": "e0d22b6b4c454b2498491f8ae4af15b6"
      }
     },
     "metadata": {},
     "output_type": "display_data"
    }
   ],
   "execution_count": 4
  },
  {
   "metadata": {
    "ExecuteTime": {
     "end_time": "2024-12-04T21:01:40.728772Z",
     "start_time": "2024-12-04T21:01:40.727396Z"
    }
   },
   "cell_type": "code",
   "source": "model = AutoModel.from_pretrained()",
   "id": "57306e078db66ef2",
   "outputs": [],
   "execution_count": null
  }
 ],
 "metadata": {
  "kernelspec": {
   "display_name": "Python 3",
   "language": "python",
   "name": "python3"
  },
  "language_info": {
   "codemirror_mode": {
    "name": "ipython",
    "version": 2
   },
   "file_extension": ".py",
   "mimetype": "text/x-python",
   "name": "python",
   "nbconvert_exporter": "python",
   "pygments_lexer": "ipython2",
   "version": "2.7.6"
  }
 },
 "nbformat": 4,
 "nbformat_minor": 5
}
