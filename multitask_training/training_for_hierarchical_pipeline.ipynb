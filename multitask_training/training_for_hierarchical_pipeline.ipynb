{
 "cells": [
  {
   "cell_type": "code",
   "id": "initial_id",
   "metadata": {
    "collapsed": true,
    "ExecuteTime": {
     "end_time": "2024-11-18T15:53:47.059661Z",
     "start_time": "2024-11-18T15:53:47.054189Z"
    }
   },
   "source": [
    "import pandas as pd\n",
    "from datasets import Dataset, concatenate_datasets\n",
    "\n",
    "df = pd.read_csv('./data_cleaned_manual_combined.csv')\n",
    "\n",
    "labels_gs = df['Global Subject'].unique()\n",
    "labels_qi = df['Question Intent'].unique()\n",
    "\n",
    "id2label_gs = {i: label for i, label in enumerate(labels_gs)}\n",
    "label2id_gs = {label: i for i, label in enumerate(labels_gs)}\n",
    "\n",
    "id2label_qi = {i: label for i, label in enumerate(labels_qi)}\n",
    "label2id_qi = {label: i for i, label in enumerate(labels_qi)}"
   ],
   "outputs": [],
   "execution_count": 7
  },
  {
   "metadata": {
    "ExecuteTime": {
     "end_time": "2024-11-18T15:53:47.265994Z",
     "start_time": "2024-11-18T15:53:47.071295Z"
    }
   },
   "cell_type": "code",
   "source": [
    "from transformers import AutoTokenizer, AutoModelForSequenceClassification\n",
    "import numpy as np\n",
    "\n",
    "# https://huggingface.co/docs/transformers/v4.46.2/en/model_doc/auto#transformers.AutoTokenizer.from_pretrained\n",
    "# https://huggingface.co/docs/transformers/v4.46.2/en/model_doc/bert#transformers.BertTokenizer\n",
    "tokenizer = AutoTokenizer.from_pretrained('bert-base-uncased')\n",
    "\n",
    "\n",
    "def preprocess_data(example):\n",
    "    question = example['Question']\n",
    "\n",
    "    # https://huggingface.co/docs/transformers/v4.46.2/en/main_classes/tokenizer#transformers.PreTrainedTokenizer.__call__\n",
    "    encodings = tokenizer(question, padding=\"max_length\", truncation=True, max_length=128)\n",
    "    label_gs = label2id_gs[example['Global Subject']]\n",
    "    label_qi = label2id_qi[example['Question Intent']]\n",
    "\n",
    "    encodings.update({'labels': label_gs, 'labels_sub': label_qi})\n",
    "\n",
    "    return encodings"
   ],
   "id": "d29680c0abd39d26",
   "outputs": [],
   "execution_count": 8
  },
  {
   "metadata": {
    "ExecuteTime": {
     "end_time": "2024-11-18T15:53:47.532822Z",
     "start_time": "2024-11-18T15:53:47.279463Z"
    }
   },
   "cell_type": "code",
   "source": [
    "from sklearn.model_selection import StratifiedShuffleSplit\n",
    "import pandas as pd\n",
    "from datasets import Dataset\n",
    "\n",
    "# Assuming df is your DataFrame and it has a column 'Global Subject' for stratification\n",
    "df = pd.read_csv('./data_cleaned_manual_combined.csv')\n",
    "\n",
    "# Create the stratified split\n",
    "split = StratifiedShuffleSplit(n_splits=1, test_size=0.2, random_state=42)\n",
    "for train_index, test_index in split.split(df, df['Global Subject']):\n",
    "    strat_train_set = df.loc[train_index]\n",
    "    strat_test_set = df.loc[test_index]\n",
    "\n",
    "# Reset index of strat_test_set\n",
    "strat_test_set = strat_test_set.reset_index(drop=True)\n",
    "\n",
    "# Further split the test set into validation and test sets\n",
    "split = StratifiedShuffleSplit(n_splits=1, test_size=0.5, random_state=42)\n",
    "for val_index, test_index in split.split(strat_test_set, strat_test_set['Global Subject']):\n",
    "    strat_val_set = strat_test_set.loc[val_index]\n",
    "    strat_test_set = strat_test_set.loc[test_index]\n",
    "\n",
    "# Convert to Hugging Face Dataset\n",
    "train_dataset = Dataset.from_pandas(strat_train_set)\n",
    "eval_dataset = Dataset.from_pandas(strat_val_set)\n",
    "test_dataset = Dataset.from_pandas(strat_test_set)\n",
    "\n",
    "# Tokenize the datasets\n",
    "train_dataset = train_dataset.map(preprocess_data, remove_columns=train_dataset.column_names)\n",
    "eval_dataset = eval_dataset.map(preprocess_data, remove_columns=eval_dataset.column_names)\n",
    "test_dataset = test_dataset.map(preprocess_data, remove_columns=test_dataset.column_names)\n",
    "\n",
    "train_dataset.set_format(\"torch\")\n",
    "eval_dataset.set_format(\"torch\")\n",
    "test_dataset.set_format(\"torch\")"
   ],
   "id": "b3687de51a6b6a8",
   "outputs": [
    {
     "data": {
      "text/plain": [
       "Map:   0%|          | 0/683 [00:00<?, ? examples/s]"
      ],
      "application/vnd.jupyter.widget-view+json": {
       "version_major": 2,
       "version_minor": 0,
       "model_id": "178aa272aafc4b60b5bda10c0cdf9be7"
      }
     },
     "metadata": {},
     "output_type": "display_data"
    },
    {
     "data": {
      "text/plain": [
       "Map:   0%|          | 0/85 [00:00<?, ? examples/s]"
      ],
      "application/vnd.jupyter.widget-view+json": {
       "version_major": 2,
       "version_minor": 0,
       "model_id": "2f7ffea36b624b0ea16c18eab3598441"
      }
     },
     "metadata": {},
     "output_type": "display_data"
    },
    {
     "data": {
      "text/plain": [
       "Map:   0%|          | 0/86 [00:00<?, ? examples/s]"
      ],
      "application/vnd.jupyter.widget-view+json": {
       "version_major": 2,
       "version_minor": 0,
       "model_id": "1d4c111fca48443085f5d4a32b53ceb5"
      }
     },
     "metadata": {},
     "output_type": "display_data"
    }
   ],
   "execution_count": 9
  },
  {
   "metadata": {
    "ExecuteTime": {
     "end_time": "2024-11-18T15:53:47.550351Z",
     "start_time": "2024-11-18T15:53:47.547063Z"
    }
   },
   "cell_type": "code",
   "source": [
    "from sklearn.metrics import accuracy_score, precision_recall_fscore_support\n",
    "\n",
    "\n",
    "def compute_metrics(eval_pred):\n",
    "    predictions, labels = eval_pred\n",
    "    preds = np.argmax(predictions, axis=1)\n",
    "    acc = accuracy_score(labels, preds)\n",
    "    precision, recall, f1, _ = precision_recall_fscore_support(labels, preds, average='weighted', zero_division=0)\n",
    "    metrics = {\n",
    "        'accuracy': acc,\n",
    "        'precision': precision,\n",
    "        'recall': recall,\n",
    "        'f1': f1,\n",
    "    }\n",
    "    return metrics"
   ],
   "id": "40a3873b34c0a83a",
   "outputs": [],
   "execution_count": 10
  },
  {
   "metadata": {
    "ExecuteTime": {
     "end_time": "2024-11-18T15:53:47.608051Z",
     "start_time": "2024-11-18T15:53:47.605574Z"
    }
   },
   "cell_type": "code",
   "source": [
    "import torch\n",
    "\n",
    "print(f\"CUDA available: {torch.cuda.is_available()}\")\n",
    "print(f\"Number of GPUs: {torch.cuda.device_count()}\")\n",
    "print(f\"Current CUDA device: {torch.cuda.current_device()}\")\n",
    "print(f\"Device name: {torch.cuda.get_device_name(torch.cuda.current_device())}\")"
   ],
   "id": "214ab54e6af2e24c",
   "outputs": [
    {
     "name": "stdout",
     "output_type": "stream",
     "text": [
      "CUDA available: True\n",
      "Number of GPUs: 1\n",
      "Current CUDA device: 0\n",
      "Device name: NVIDIA GeForce RTX 3070 Ti\n"
     ]
    }
   ],
   "execution_count": 11
  },
  {
   "metadata": {
    "ExecuteTime": {
     "end_time": "2024-11-18T15:53:49.009500Z",
     "start_time": "2024-11-18T15:53:47.730284Z"
    }
   },
   "cell_type": "code",
   "source": [
    "import wandb\n",
    "\n",
    "wandb.init(project='tesi', tags=['hierarchical-pipeline'], notes='Model only for the main subject classification')"
   ],
   "id": "bb8d794aba42d7b2",
   "outputs": [
    {
     "name": "stderr",
     "output_type": "stream",
     "text": [
      "\u001B[34m\u001B[1mwandb\u001B[0m: Using wandb-core as the SDK backend.  Please refer to https://wandb.me/wandb-core for more information.\n",
      "\u001B[34m\u001B[1mwandb\u001B[0m: Currently logged in as: \u001B[33mstefano-porta800\u001B[0m (\u001B[33mstefano-porta800-universit-degli-studi-di-torino\u001B[0m). Use \u001B[1m`wandb login --relogin`\u001B[0m to force relogin\n"
     ]
    },
    {
     "data": {
      "text/plain": [
       "<IPython.core.display.HTML object>"
      ],
      "text/html": [
       "Tracking run with wandb version 0.18.7"
      ]
     },
     "metadata": {},
     "output_type": "display_data"
    },
    {
     "data": {
      "text/plain": [
       "<IPython.core.display.HTML object>"
      ],
      "text/html": [
       "Run data is saved locally in <code>/home/stefa/IdeaProjects/tesi_tln/multitask_training/wandb/run-20241118_165348-sgvhomnx</code>"
      ]
     },
     "metadata": {},
     "output_type": "display_data"
    },
    {
     "data": {
      "text/plain": [
       "<IPython.core.display.HTML object>"
      ],
      "text/html": [
       "Syncing run <strong><a href='https://wandb.ai/stefano-porta800-universit-degli-studi-di-torino/tesi/runs/sgvhomnx' target=\"_blank\">glamorous-yogurt-32</a></strong> to <a href='https://wandb.ai/stefano-porta800-universit-degli-studi-di-torino/tesi' target=\"_blank\">Weights & Biases</a> (<a href='https://wandb.me/developer-guide' target=\"_blank\">docs</a>)<br/>"
      ]
     },
     "metadata": {},
     "output_type": "display_data"
    },
    {
     "data": {
      "text/plain": [
       "<IPython.core.display.HTML object>"
      ],
      "text/html": [
       " View project at <a href='https://wandb.ai/stefano-porta800-universit-degli-studi-di-torino/tesi' target=\"_blank\">https://wandb.ai/stefano-porta800-universit-degli-studi-di-torino/tesi</a>"
      ]
     },
     "metadata": {},
     "output_type": "display_data"
    },
    {
     "data": {
      "text/plain": [
       "<IPython.core.display.HTML object>"
      ],
      "text/html": [
       " View run at <a href='https://wandb.ai/stefano-porta800-universit-degli-studi-di-torino/tesi/runs/sgvhomnx' target=\"_blank\">https://wandb.ai/stefano-porta800-universit-degli-studi-di-torino/tesi/runs/sgvhomnx</a>"
      ]
     },
     "metadata": {},
     "output_type": "display_data"
    },
    {
     "data": {
      "text/html": [
       "<button onClick=\"this.nextSibling.style.display='block';this.style.display='none';\">Display W&B run</button><iframe src='https://wandb.ai/stefano-porta800-universit-degli-studi-di-torino/tesi/runs/sgvhomnx?jupyter=true' style='border:none;width:100%;height:420px;display:none;'></iframe>"
      ],
      "text/plain": [
       "<wandb.sdk.wandb_run.Run at 0x7660d0d21610>"
      ]
     },
     "execution_count": 12,
     "metadata": {},
     "output_type": "execute_result"
    }
   ],
   "execution_count": 12
  },
  {
   "metadata": {
    "ExecuteTime": {
     "end_time": "2024-11-18T15:58:11.159611Z",
     "start_time": "2024-11-18T15:53:49.042757Z"
    }
   },
   "cell_type": "code",
   "source": [
    "from transformers import TrainingArguments, Trainer\n",
    "\n",
    "model = AutoModelForSequenceClassification.from_pretrained('bert-base-uncased', num_labels=len(labels_gs))\n",
    "\n",
    "device = torch.device('cuda' if torch.cuda.is_available() else 'cpu')\n",
    "model.to(device)\n",
    "\n",
    "training_args = TrainingArguments(\n",
    "    output_dir='./results',\n",
    "    num_train_epochs=20,\n",
    "    learning_rate=2e-5,\n",
    "    warmup_ratio=0.1,  # Warmup for the first 10% of steps\n",
    "    lr_scheduler_type='linear',  # Linear scheduler\n",
    "    per_device_train_batch_size=16,\n",
    "    per_device_eval_batch_size=16,\n",
    "    save_strategy='epoch',\n",
    "    logging_strategy='epoch',\n",
    "    eval_strategy='epoch',\n",
    "    logging_dir='./logs',\n",
    "    load_best_model_at_end=True,  # Load the best model at the end based on evaluation metric\n",
    "    metric_for_best_model='f1',  # Use subtopic F1-score to determine the best model\n",
    "    greater_is_better=True,  # Higher metric indicates a better model,\n",
    "    report_to='wandb',\n",
    "    save_total_limit=1\n",
    ")\n",
    "\n",
    "trainer = Trainer(\n",
    "    model=model,\n",
    "    args=training_args,\n",
    "    train_dataset=train_dataset,\n",
    "    eval_dataset=eval_dataset,\n",
    "    processing_class=tokenizer,\n",
    "    compute_metrics=compute_metrics\n",
    ")\n",
    "\n",
    "print(f\"Trainer is using device: {trainer.args.device}\")\n",
    "\n",
    "trainer.train()\n",
    "\n",
    "wandb.finish()"
   ],
   "id": "a6123a5aed0b22d8",
   "outputs": [
    {
     "name": "stderr",
     "output_type": "stream",
     "text": [
      "Some weights of BertForSequenceClassification were not initialized from the model checkpoint at bert-base-uncased and are newly initialized: ['classifier.bias', 'classifier.weight']\n",
      "You should probably TRAIN this model on a down-stream task to be able to use it for predictions and inference.\n",
      "\u001B[34m\u001B[1mwandb\u001B[0m: \u001B[33mWARNING\u001B[0m The `run_name` is currently set to the same value as `TrainingArguments.output_dir`. If this was not intended, please specify a different run name by setting the `TrainingArguments.run_name` parameter.\n"
     ]
    },
    {
     "name": "stdout",
     "output_type": "stream",
     "text": [
      "Trainer is using device: cuda:0\n"
     ]
    },
    {
     "data": {
      "text/plain": [
       "<IPython.core.display.HTML object>"
      ],
      "text/html": [
       "\n",
       "    <div>\n",
       "      \n",
       "      <progress value='860' max='860' style='width:300px; height:20px; vertical-align: middle;'></progress>\n",
       "      [860/860 04:14, Epoch 20/20]\n",
       "    </div>\n",
       "    <table border=\"1\" class=\"dataframe\">\n",
       "  <thead>\n",
       " <tr style=\"text-align: left;\">\n",
       "      <th>Epoch</th>\n",
       "      <th>Training Loss</th>\n",
       "      <th>Validation Loss</th>\n",
       "      <th>Accuracy</th>\n",
       "      <th>Precision</th>\n",
       "      <th>Recall</th>\n",
       "      <th>F1</th>\n",
       "    </tr>\n",
       "  </thead>\n",
       "  <tbody>\n",
       "    <tr>\n",
       "      <td>1</td>\n",
       "      <td>1.915200</td>\n",
       "      <td>1.663243</td>\n",
       "      <td>0.411765</td>\n",
       "      <td>0.460920</td>\n",
       "      <td>0.411765</td>\n",
       "      <td>0.291785</td>\n",
       "    </tr>\n",
       "    <tr>\n",
       "      <td>2</td>\n",
       "      <td>1.475500</td>\n",
       "      <td>1.164157</td>\n",
       "      <td>0.647059</td>\n",
       "      <td>0.682899</td>\n",
       "      <td>0.647059</td>\n",
       "      <td>0.623515</td>\n",
       "    </tr>\n",
       "    <tr>\n",
       "      <td>3</td>\n",
       "      <td>0.914400</td>\n",
       "      <td>0.675352</td>\n",
       "      <td>0.870588</td>\n",
       "      <td>0.871660</td>\n",
       "      <td>0.870588</td>\n",
       "      <td>0.868165</td>\n",
       "    </tr>\n",
       "    <tr>\n",
       "      <td>4</td>\n",
       "      <td>0.479300</td>\n",
       "      <td>0.501129</td>\n",
       "      <td>0.858824</td>\n",
       "      <td>0.869447</td>\n",
       "      <td>0.858824</td>\n",
       "      <td>0.858726</td>\n",
       "    </tr>\n",
       "    <tr>\n",
       "      <td>5</td>\n",
       "      <td>0.240400</td>\n",
       "      <td>0.404944</td>\n",
       "      <td>0.882353</td>\n",
       "      <td>0.883806</td>\n",
       "      <td>0.882353</td>\n",
       "      <td>0.878151</td>\n",
       "    </tr>\n",
       "    <tr>\n",
       "      <td>6</td>\n",
       "      <td>0.135200</td>\n",
       "      <td>0.361241</td>\n",
       "      <td>0.894118</td>\n",
       "      <td>0.895722</td>\n",
       "      <td>0.894118</td>\n",
       "      <td>0.891858</td>\n",
       "    </tr>\n",
       "    <tr>\n",
       "      <td>7</td>\n",
       "      <td>0.079900</td>\n",
       "      <td>0.420352</td>\n",
       "      <td>0.905882</td>\n",
       "      <td>0.908959</td>\n",
       "      <td>0.905882</td>\n",
       "      <td>0.905457</td>\n",
       "    </tr>\n",
       "    <tr>\n",
       "      <td>8</td>\n",
       "      <td>0.058700</td>\n",
       "      <td>0.594881</td>\n",
       "      <td>0.870588</td>\n",
       "      <td>0.885510</td>\n",
       "      <td>0.870588</td>\n",
       "      <td>0.860954</td>\n",
       "    </tr>\n",
       "    <tr>\n",
       "      <td>9</td>\n",
       "      <td>0.050700</td>\n",
       "      <td>0.504575</td>\n",
       "      <td>0.905882</td>\n",
       "      <td>0.911045</td>\n",
       "      <td>0.905882</td>\n",
       "      <td>0.905057</td>\n",
       "    </tr>\n",
       "    <tr>\n",
       "      <td>10</td>\n",
       "      <td>0.039500</td>\n",
       "      <td>0.445815</td>\n",
       "      <td>0.905882</td>\n",
       "      <td>0.908959</td>\n",
       "      <td>0.905882</td>\n",
       "      <td>0.905457</td>\n",
       "    </tr>\n",
       "    <tr>\n",
       "      <td>11</td>\n",
       "      <td>0.031500</td>\n",
       "      <td>0.573579</td>\n",
       "      <td>0.858824</td>\n",
       "      <td>0.879717</td>\n",
       "      <td>0.858824</td>\n",
       "      <td>0.850895</td>\n",
       "    </tr>\n",
       "    <tr>\n",
       "      <td>12</td>\n",
       "      <td>0.026000</td>\n",
       "      <td>0.520681</td>\n",
       "      <td>0.894118</td>\n",
       "      <td>0.899351</td>\n",
       "      <td>0.894118</td>\n",
       "      <td>0.891548</td>\n",
       "    </tr>\n",
       "    <tr>\n",
       "      <td>13</td>\n",
       "      <td>0.032500</td>\n",
       "      <td>0.561270</td>\n",
       "      <td>0.894118</td>\n",
       "      <td>0.902087</td>\n",
       "      <td>0.894118</td>\n",
       "      <td>0.892485</td>\n",
       "    </tr>\n",
       "    <tr>\n",
       "      <td>14</td>\n",
       "      <td>0.011400</td>\n",
       "      <td>0.537827</td>\n",
       "      <td>0.905882</td>\n",
       "      <td>0.908959</td>\n",
       "      <td>0.905882</td>\n",
       "      <td>0.905457</td>\n",
       "    </tr>\n",
       "    <tr>\n",
       "      <td>15</td>\n",
       "      <td>0.018800</td>\n",
       "      <td>0.538192</td>\n",
       "      <td>0.894118</td>\n",
       "      <td>0.895722</td>\n",
       "      <td>0.894118</td>\n",
       "      <td>0.891858</td>\n",
       "    </tr>\n",
       "    <tr>\n",
       "      <td>16</td>\n",
       "      <td>0.023200</td>\n",
       "      <td>0.549161</td>\n",
       "      <td>0.905882</td>\n",
       "      <td>0.914326</td>\n",
       "      <td>0.905882</td>\n",
       "      <td>0.906211</td>\n",
       "    </tr>\n",
       "    <tr>\n",
       "      <td>17</td>\n",
       "      <td>0.015900</td>\n",
       "      <td>0.564156</td>\n",
       "      <td>0.894118</td>\n",
       "      <td>0.902087</td>\n",
       "      <td>0.894118</td>\n",
       "      <td>0.892485</td>\n",
       "    </tr>\n",
       "    <tr>\n",
       "      <td>18</td>\n",
       "      <td>0.020800</td>\n",
       "      <td>0.543153</td>\n",
       "      <td>0.905882</td>\n",
       "      <td>0.914326</td>\n",
       "      <td>0.905882</td>\n",
       "      <td>0.906211</td>\n",
       "    </tr>\n",
       "    <tr>\n",
       "      <td>19</td>\n",
       "      <td>0.013500</td>\n",
       "      <td>0.544717</td>\n",
       "      <td>0.905882</td>\n",
       "      <td>0.908959</td>\n",
       "      <td>0.905882</td>\n",
       "      <td>0.905457</td>\n",
       "    </tr>\n",
       "    <tr>\n",
       "      <td>20</td>\n",
       "      <td>0.014700</td>\n",
       "      <td>0.547877</td>\n",
       "      <td>0.905882</td>\n",
       "      <td>0.908959</td>\n",
       "      <td>0.905882</td>\n",
       "      <td>0.905457</td>\n",
       "    </tr>\n",
       "  </tbody>\n",
       "</table><p>"
      ]
     },
     "metadata": {},
     "output_type": "display_data"
    },
    {
     "data": {
      "text/plain": [
       "VBox(children=(Label(value='0.025 MB of 0.025 MB uploaded\\r'), FloatProgress(value=1.0, max=1.0)))"
      ],
      "application/vnd.jupyter.widget-view+json": {
       "version_major": 2,
       "version_minor": 0,
       "model_id": "6517614052ee45459b9c5e452641deb5"
      }
     },
     "metadata": {},
     "output_type": "display_data"
    },
    {
     "data": {
      "text/plain": [
       "<IPython.core.display.HTML object>"
      ],
      "text/html": [
       "\n",
       "    <style>\n",
       "        .wandb-row {\n",
       "            display: flex;\n",
       "            flex-direction: row;\n",
       "            flex-wrap: wrap;\n",
       "            justify-content: flex-start;\n",
       "            width: 100%;\n",
       "        }\n",
       "        .wandb-col {\n",
       "            display: flex;\n",
       "            flex-direction: column;\n",
       "            flex-basis: 100%;\n",
       "            flex: 1;\n",
       "            padding: 10px;\n",
       "        }\n",
       "    </style>\n",
       "<div class=\"wandb-row\"><div class=\"wandb-col\"><h3>Run history:</h3><br/><table class=\"wandb\"><tr><td>eval/accuracy</td><td>▁▄█▇██████▇█████████</td></tr><tr><td>eval/f1</td><td>▁▅█▇███▇██▇█████████</td></tr><tr><td>eval/loss</td><td>█▅▃▂▁▁▁▂▂▁▂▂▂▂▂▂▂▂▂▂</td></tr><tr><td>eval/precision</td><td>▁▄▇▇██████▇█████████</td></tr><tr><td>eval/recall</td><td>▁▄█▇██████▇█████████</td></tr><tr><td>eval/runtime</td><td>▆▁▅▅▄▄▄▅▅▇▆▅▄▃█▂▄▅▃▄</td></tr><tr><td>eval/samples_per_second</td><td>▂█▄▄▄▅▄▄▃▂▃▃▅▆▁▇▅▄▅▅</td></tr><tr><td>eval/steps_per_second</td><td>▂█▄▄▄▅▄▄▃▂▃▃▅▆▁▇▅▄▅▅</td></tr><tr><td>train/epoch</td><td>▁▁▁▁▂▂▂▂▂▂▃▃▃▃▄▄▄▄▄▄▅▅▅▅▅▅▆▆▆▆▇▇▇▇▇▇████</td></tr><tr><td>train/global_step</td><td>▁▁▁▁▂▂▂▂▂▂▃▃▃▃▄▄▄▄▄▄▅▅▅▅▅▅▆▆▆▆▇▇▇▇▇▇████</td></tr><tr><td>train/grad_norm</td><td>██▇█▃▂▁▁▁▁▁▁▆▁▁▁▁▁▁▁</td></tr><tr><td>train/learning_rate</td><td>▅██▇▇▆▆▆▅▅▅▄▄▃▃▃▂▂▁▁</td></tr><tr><td>train/loss</td><td>█▆▄▃▂▁▁▁▁▁▁▁▁▁▁▁▁▁▁▁</td></tr></table><br/></div><div class=\"wandb-col\"><h3>Run summary:</h3><br/><table class=\"wandb\"><tr><td>eval/accuracy</td><td>0.90588</td></tr><tr><td>eval/f1</td><td>0.90546</td></tr><tr><td>eval/loss</td><td>0.54788</td></tr><tr><td>eval/precision</td><td>0.90896</td></tr><tr><td>eval/recall</td><td>0.90588</td></tr><tr><td>eval/runtime</td><td>0.2227</td></tr><tr><td>eval/samples_per_second</td><td>381.651</td></tr><tr><td>eval/steps_per_second</td><td>26.94</td></tr><tr><td>total_flos</td><td>898564591488000.0</td></tr><tr><td>train/epoch</td><td>20</td></tr><tr><td>train/global_step</td><td>860</td></tr><tr><td>train/grad_norm</td><td>0.03234</td></tr><tr><td>train/learning_rate</td><td>0</td></tr><tr><td>train/loss</td><td>0.0147</td></tr><tr><td>train_loss</td><td>0.27986</td></tr><tr><td>train_runtime</td><td>255.1498</td></tr><tr><td>train_samples_per_second</td><td>53.537</td></tr><tr><td>train_steps_per_second</td><td>3.371</td></tr></table><br/></div></div>"
      ]
     },
     "metadata": {},
     "output_type": "display_data"
    },
    {
     "data": {
      "text/plain": [
       "<IPython.core.display.HTML object>"
      ],
      "text/html": [
       " View run <strong style=\"color:#cdcd00\">glamorous-yogurt-32</strong> at: <a href='https://wandb.ai/stefano-porta800-universit-degli-studi-di-torino/tesi/runs/sgvhomnx' target=\"_blank\">https://wandb.ai/stefano-porta800-universit-degli-studi-di-torino/tesi/runs/sgvhomnx</a><br/> View project at: <a href='https://wandb.ai/stefano-porta800-universit-degli-studi-di-torino/tesi' target=\"_blank\">https://wandb.ai/stefano-porta800-universit-degli-studi-di-torino/tesi</a><br/>Synced 5 W&B file(s), 0 media file(s), 2 artifact file(s) and 0 other file(s)"
      ]
     },
     "metadata": {},
     "output_type": "display_data"
    },
    {
     "data": {
      "text/plain": [
       "<IPython.core.display.HTML object>"
      ],
      "text/html": [
       "Find logs at: <code>./wandb/run-20241118_165348-sgvhomnx/logs</code>"
      ]
     },
     "metadata": {},
     "output_type": "display_data"
    }
   ],
   "execution_count": 13
  },
  {
   "metadata": {},
   "cell_type": "markdown",
   "source": "### Fine-tuning the model for the subtopic classification",
   "id": "dda71336771317dc"
  },
  {
   "metadata": {
    "ExecuteTime": {
     "end_time": "2024-11-18T16:46:41.348468Z",
     "start_time": "2024-11-18T16:41:01.351701Z"
    }
   },
   "cell_type": "code",
   "source": [
    "import wandb\n",
    "\n",
    "\n",
    "# Function to train a model for a specific global subject\n",
    "def train_model_for_subject(global_subject, train_data, val_data):\n",
    "    # Initialize a new wandb run for each model\n",
    "    wandb.init(project='tesi', tags=['hierarchical-pipeline', global_subject],\n",
    "               notes=f'Model for {global_subject} sub-topic classification')\n",
    "\n",
    "    # Define the model and training arguments\n",
    "    model = AutoModelForSequenceClassification.from_pretrained('bert-base-uncased', num_labels=len(labels_qi))\n",
    "    device = torch.device('cuda' if torch.cuda.is_available() else 'cpu')\n",
    "    model.to(device)\n",
    "\n",
    "    training_args = TrainingArguments(\n",
    "        output_dir=f'./results_{global_subject}',\n",
    "        num_train_epochs=20,\n",
    "        # https://datascience.stackexchange.com/questions/64583/what-are-the-good-parameter-ranges-for-bert-hyperparameters-while-finetuning-it\n",
    "        learning_rate=4e-5,\n",
    "        lr_scheduler_type='linear',\n",
    "        per_device_train_batch_size=16,\n",
    "        per_device_eval_batch_size=16,\n",
    "        save_strategy='epoch',\n",
    "        logging_strategy='epoch',\n",
    "        eval_strategy='epoch',\n",
    "        logging_dir=f'./logs_{global_subject}',\n",
    "        load_best_model_at_end=True,\n",
    "        metric_for_best_model='f1',\n",
    "        greater_is_better=True,\n",
    "        report_to='wandb',\n",
    "        save_total_limit=1\n",
    "    )\n",
    "\n",
    "    trainer = Trainer(\n",
    "        model=model,\n",
    "        args=training_args,\n",
    "        train_dataset=train_data,\n",
    "        eval_dataset=val_data,\n",
    "        processing_class=tokenizer,\n",
    "        compute_metrics=compute_metrics\n",
    "    )\n",
    "\n",
    "    # Train the model\n",
    "    trainer.train()\n",
    "\n",
    "    # Finish the wandb run\n",
    "    wandb.finish()\n",
    "\n",
    "\n",
    "# Example usage\n",
    "for global_subject in labels_gs:\n",
    "    gs_id = label2id_gs[global_subject]\n",
    "    print(f\"Training model for global subject: {global_subject}\")\n",
    "\n",
    "\n",
    "    # Filter the dataset for the current global subject\n",
    "\n",
    "    def filter_fn(x):\n",
    "        return x['labels'] == gs_id\n",
    "\n",
    "\n",
    "    # merge the two resulting datasets\n",
    "    complete_data = concatenate_datasets([train_dataset.filter(filter_fn), eval_dataset.filter(filter_fn)])\n",
    "    \n",
    "    print(f\"Complete dataset size: {len(complete_data)}\")\n",
    "    \n",
    "    # if the complete data has only one class, skip the training\n",
    "    if len(complete_data.unique('labels_sub')) == 1:\n",
    "        print(f\"Skipping training for {global_subject} as it has only one subtopic\")\n",
    "        continue\n",
    "    \n",
    "    complete_data = complete_data.class_encode_column('labels_sub')\n",
    "    complete_data = complete_data.train_test_split(test_size=0.2, shuffle=True, seed=42,\n",
    "                                                             stratify_by_column='labels_sub')\n",
    "\n",
    "    subject_train_data = complete_data['train']\n",
    "    subject_val_data = complete_data['test']\n",
    "\n",
    "    print(f\"Train dataset size: {len(subject_train_data)}, Validation dataset size: {len(subject_val_data)}\")\n",
    "    \n",
    "    # remove the labels column and map the labels_sub column to labels\n",
    "    subject_train_data = subject_train_data.remove_columns('labels').rename_column('labels_sub', 'labels')\n",
    "    subject_val_data = subject_val_data.remove_columns('labels').rename_column('labels_sub', 'labels')\n",
    "    \n",
    "    # Train the model for the current global subject\n",
    "    train_model_for_subject(global_subject, subject_train_data, subject_val_data)"
   ],
   "id": "589037a613300dc5",
   "outputs": [
    {
     "name": "stdout",
     "output_type": "stream",
     "text": [
      "Training model for global subject: start\n"
     ]
    },
    {
     "data": {
      "text/plain": [
       "Filter:   0%|          | 0/683 [00:00<?, ? examples/s]"
      ],
      "application/vnd.jupyter.widget-view+json": {
       "version_major": 2,
       "version_minor": 0,
       "model_id": "55061ed3090b46d2b63a753d2890dbac"
      }
     },
     "metadata": {},
     "output_type": "display_data"
    },
    {
     "data": {
      "text/plain": [
       "Filter:   0%|          | 0/85 [00:00<?, ? examples/s]"
      ],
      "application/vnd.jupyter.widget-view+json": {
       "version_major": 2,
       "version_minor": 0,
       "model_id": "48d77aeeba8143cba2de9b2bfe7142d8"
      }
     },
     "metadata": {},
     "output_type": "display_data"
    },
    {
     "name": "stdout",
     "output_type": "stream",
     "text": [
      "Complete dataset size: 17\n"
     ]
    },
    {
     "data": {
      "text/plain": [
       "Flattening the indices:   0%|          | 0/17 [00:00<?, ? examples/s]"
      ],
      "application/vnd.jupyter.widget-view+json": {
       "version_major": 2,
       "version_minor": 0,
       "model_id": "9ea560af1b3c45809521248b8eefaf21"
      }
     },
     "metadata": {},
     "output_type": "display_data"
    },
    {
     "name": "stdout",
     "output_type": "stream",
     "text": [
      "Skipping training for start as it has only one subtopic\n",
      "Training model for global subject: automaton\n"
     ]
    },
    {
     "data": {
      "text/plain": [
       "Filter:   0%|          | 0/683 [00:00<?, ? examples/s]"
      ],
      "application/vnd.jupyter.widget-view+json": {
       "version_major": 2,
       "version_minor": 0,
       "model_id": "e8a4f856f38146e2abe9fb103c73907a"
      }
     },
     "metadata": {},
     "output_type": "display_data"
    },
    {
     "data": {
      "text/plain": [
       "Filter:   0%|          | 0/85 [00:00<?, ? examples/s]"
      ],
      "application/vnd.jupyter.widget-view+json": {
       "version_major": 2,
       "version_minor": 0,
       "model_id": "ab72b701a20c43979c81deba7f1a4952"
      }
     },
     "metadata": {},
     "output_type": "display_data"
    },
    {
     "name": "stdout",
     "output_type": "stream",
     "text": [
      "Complete dataset size: 127\n"
     ]
    },
    {
     "data": {
      "text/plain": [
       "Flattening the indices:   0%|          | 0/127 [00:00<?, ? examples/s]"
      ],
      "application/vnd.jupyter.widget-view+json": {
       "version_major": 2,
       "version_minor": 0,
       "model_id": "9d5c8939dd114588bfc7a5889c29e9df"
      }
     },
     "metadata": {},
     "output_type": "display_data"
    },
    {
     "data": {
      "text/plain": [
       "Stringifying the column:   0%|          | 0/127 [00:00<?, ? examples/s]"
      ],
      "application/vnd.jupyter.widget-view+json": {
       "version_major": 2,
       "version_minor": 0,
       "model_id": "2de2bf42f3484a1fb9fd89fbf20e9a29"
      }
     },
     "metadata": {},
     "output_type": "display_data"
    },
    {
     "data": {
      "text/plain": [
       "Casting to class labels:   0%|          | 0/127 [00:00<?, ? examples/s]"
      ],
      "application/vnd.jupyter.widget-view+json": {
       "version_major": 2,
       "version_minor": 0,
       "model_id": "b3f6980f1c544e35a50a153014dca4d5"
      }
     },
     "metadata": {},
     "output_type": "display_data"
    },
    {
     "name": "stdout",
     "output_type": "stream",
     "text": [
      "Train dataset size: 101, Validation dataset size: 26\n"
     ]
    },
    {
     "data": {
      "text/plain": [
       "<IPython.core.display.HTML object>"
      ],
      "text/html": [
       "Finishing last run (ID:93orvl5v) before initializing another..."
      ]
     },
     "metadata": {},
     "output_type": "display_data"
    },
    {
     "data": {
      "text/plain": [
       "VBox(children=(Label(value='0.028 MB of 0.028 MB uploaded\\r'), FloatProgress(value=1.0, max=1.0)))"
      ],
      "application/vnd.jupyter.widget-view+json": {
       "version_major": 2,
       "version_minor": 0,
       "model_id": "bc52127f40054a5185447df41abf8065"
      }
     },
     "metadata": {},
     "output_type": "display_data"
    },
    {
     "data": {
      "text/plain": [
       "<IPython.core.display.HTML object>"
      ],
      "text/html": [
       "\n",
       "    <style>\n",
       "        .wandb-row {\n",
       "            display: flex;\n",
       "            flex-direction: row;\n",
       "            flex-wrap: wrap;\n",
       "            justify-content: flex-start;\n",
       "            width: 100%;\n",
       "        }\n",
       "        .wandb-col {\n",
       "            display: flex;\n",
       "            flex-direction: column;\n",
       "            flex-basis: 100%;\n",
       "            flex: 1;\n",
       "            padding: 10px;\n",
       "        }\n",
       "    </style>\n",
       "<div class=\"wandb-row\"><div class=\"wandb-col\"><h3>Run history:</h3><br/><table class=\"wandb\"><tr><td>eval/accuracy</td><td>▁▃▂▇▆▆████</td></tr><tr><td>eval/f1</td><td>▁▂▂▆▆▆████</td></tr><tr><td>eval/loss</td><td>█▇▅▄▃▃▂▂▁▁</td></tr><tr><td>eval/precision</td><td>▁▂▃▅▅▅▇▇▇█</td></tr><tr><td>eval/recall</td><td>▁▃▂▇▆▆████</td></tr><tr><td>eval/runtime</td><td>▂▄▂▃▇▁▂▂█▃</td></tr><tr><td>eval/samples_per_second</td><td>▆▅▆▆▂█▇▇▁▆</td></tr><tr><td>eval/steps_per_second</td><td>▆▅▆▆▂█▇▇▁▆</td></tr><tr><td>train/epoch</td><td>▁▁▂▂▃▃▃▃▄▄▅▅▆▆▆▆▇▇██</td></tr><tr><td>train/global_step</td><td>▁▁▂▂▃▃▃▃▄▄▅▅▆▆▆▆▇▇██</td></tr><tr><td>train/grad_norm</td><td>▄▄▄█▃▄▂▃▁▁</td></tr><tr><td>train/learning_rate</td><td>█▇▆▆▅▄▃▃▂▁</td></tr><tr><td>train/loss</td><td>█▇▆▅▄▃▂▂▁▁</td></tr></table><br/></div><div class=\"wandb-col\"><h3>Run summary:</h3><br/><table class=\"wandb\"><tr><td>eval/accuracy</td><td>0.68293</td></tr><tr><td>eval/f1</td><td>0.61933</td></tr><tr><td>eval/loss</td><td>1.06647</td></tr><tr><td>eval/precision</td><td>0.57382</td></tr><tr><td>eval/recall</td><td>0.68293</td></tr><tr><td>eval/runtime</td><td>0.1101</td></tr><tr><td>eval/samples_per_second</td><td>372.246</td></tr><tr><td>eval/steps_per_second</td><td>27.238</td></tr><tr><td>train/epoch</td><td>10</td></tr><tr><td>train/global_step</td><td>110</td></tr><tr><td>train/grad_norm</td><td>7.57184</td></tr><tr><td>train/learning_rate</td><td>2e-05</td></tr><tr><td>train/loss</td><td>0.6556</td></tr></table><br/></div></div>"
      ]
     },
     "metadata": {},
     "output_type": "display_data"
    },
    {
     "data": {
      "text/plain": [
       "<IPython.core.display.HTML object>"
      ],
      "text/html": [
       " View run <strong style=\"color:#cdcd00\">trim-firebrand-42</strong> at: <a href='https://wandb.ai/stefano-porta800-universit-degli-studi-di-torino/tesi/runs/93orvl5v' target=\"_blank\">https://wandb.ai/stefano-porta800-universit-degli-studi-di-torino/tesi/runs/93orvl5v</a><br/> View project at: <a href='https://wandb.ai/stefano-porta800-universit-degli-studi-di-torino/tesi' target=\"_blank\">https://wandb.ai/stefano-porta800-universit-degli-studi-di-torino/tesi</a><br/>Synced 5 W&B file(s), 0 media file(s), 2 artifact file(s) and 0 other file(s)"
      ]
     },
     "metadata": {},
     "output_type": "display_data"
    },
    {
     "data": {
      "text/plain": [
       "<IPython.core.display.HTML object>"
      ],
      "text/html": [
       "Find logs at: <code>./wandb/run-20241118_173932-93orvl5v/logs</code>"
      ]
     },
     "metadata": {},
     "output_type": "display_data"
    },
    {
     "data": {
      "text/plain": [
       "<IPython.core.display.HTML object>"
      ],
      "text/html": [
       "Successfully finished last run (ID:93orvl5v). Initializing new run:<br/>"
      ]
     },
     "metadata": {},
     "output_type": "display_data"
    },
    {
     "data": {
      "text/plain": [
       "<IPython.core.display.HTML object>"
      ],
      "text/html": [
       "Tracking run with wandb version 0.18.7"
      ]
     },
     "metadata": {},
     "output_type": "display_data"
    },
    {
     "data": {
      "text/plain": [
       "<IPython.core.display.HTML object>"
      ],
      "text/html": [
       "Run data is saved locally in <code>/home/stefa/IdeaProjects/tesi_tln/multitask_training/wandb/run-20241118_174101-fgfcsyz7</code>"
      ]
     },
     "metadata": {},
     "output_type": "display_data"
    },
    {
     "data": {
      "text/plain": [
       "<IPython.core.display.HTML object>"
      ],
      "text/html": [
       "Syncing run <strong><a href='https://wandb.ai/stefano-porta800-universit-degli-studi-di-torino/tesi/runs/fgfcsyz7' target=\"_blank\">dauntless-paper-43</a></strong> to <a href='https://wandb.ai/stefano-porta800-universit-degli-studi-di-torino/tesi' target=\"_blank\">Weights & Biases</a> (<a href='https://wandb.me/developer-guide' target=\"_blank\">docs</a>)<br/>"
      ]
     },
     "metadata": {},
     "output_type": "display_data"
    },
    {
     "data": {
      "text/plain": [
       "<IPython.core.display.HTML object>"
      ],
      "text/html": [
       " View project at <a href='https://wandb.ai/stefano-porta800-universit-degli-studi-di-torino/tesi' target=\"_blank\">https://wandb.ai/stefano-porta800-universit-degli-studi-di-torino/tesi</a>"
      ]
     },
     "metadata": {},
     "output_type": "display_data"
    },
    {
     "data": {
      "text/plain": [
       "<IPython.core.display.HTML object>"
      ],
      "text/html": [
       " View run at <a href='https://wandb.ai/stefano-porta800-universit-degli-studi-di-torino/tesi/runs/fgfcsyz7' target=\"_blank\">https://wandb.ai/stefano-porta800-universit-degli-studi-di-torino/tesi/runs/fgfcsyz7</a>"
      ]
     },
     "metadata": {},
     "output_type": "display_data"
    },
    {
     "name": "stderr",
     "output_type": "stream",
     "text": [
      "Some weights of BertForSequenceClassification were not initialized from the model checkpoint at bert-base-uncased and are newly initialized: ['classifier.bias', 'classifier.weight']\n",
      "You should probably TRAIN this model on a down-stream task to be able to use it for predictions and inference.\n"
     ]
    },
    {
     "data": {
      "text/plain": [
       "<IPython.core.display.HTML object>"
      ],
      "text/html": [
       "\n",
       "    <div>\n",
       "      \n",
       "      <progress value='140' max='140' style='width:300px; height:20px; vertical-align: middle;'></progress>\n",
       "      [140/140 01:02, Epoch 20/20]\n",
       "    </div>\n",
       "    <table border=\"1\" class=\"dataframe\">\n",
       "  <thead>\n",
       " <tr style=\"text-align: left;\">\n",
       "      <th>Epoch</th>\n",
       "      <th>Training Loss</th>\n",
       "      <th>Validation Loss</th>\n",
       "      <th>Accuracy</th>\n",
       "      <th>Precision</th>\n",
       "      <th>Recall</th>\n",
       "      <th>F1</th>\n",
       "    </tr>\n",
       "  </thead>\n",
       "  <tbody>\n",
       "    <tr>\n",
       "      <td>1</td>\n",
       "      <td>3.147100</td>\n",
       "      <td>2.749605</td>\n",
       "      <td>0.500000</td>\n",
       "      <td>0.250000</td>\n",
       "      <td>0.500000</td>\n",
       "      <td>0.333333</td>\n",
       "    </tr>\n",
       "    <tr>\n",
       "      <td>2</td>\n",
       "      <td>2.574200</td>\n",
       "      <td>2.279550</td>\n",
       "      <td>0.500000</td>\n",
       "      <td>0.250000</td>\n",
       "      <td>0.500000</td>\n",
       "      <td>0.333333</td>\n",
       "    </tr>\n",
       "    <tr>\n",
       "      <td>3</td>\n",
       "      <td>2.104500</td>\n",
       "      <td>1.980132</td>\n",
       "      <td>0.500000</td>\n",
       "      <td>0.250000</td>\n",
       "      <td>0.500000</td>\n",
       "      <td>0.333333</td>\n",
       "    </tr>\n",
       "    <tr>\n",
       "      <td>4</td>\n",
       "      <td>1.911800</td>\n",
       "      <td>1.758918</td>\n",
       "      <td>0.500000</td>\n",
       "      <td>0.250000</td>\n",
       "      <td>0.500000</td>\n",
       "      <td>0.333333</td>\n",
       "    </tr>\n",
       "    <tr>\n",
       "      <td>5</td>\n",
       "      <td>1.646100</td>\n",
       "      <td>1.584418</td>\n",
       "      <td>0.538462</td>\n",
       "      <td>0.375385</td>\n",
       "      <td>0.538462</td>\n",
       "      <td>0.399798</td>\n",
       "    </tr>\n",
       "    <tr>\n",
       "      <td>6</td>\n",
       "      <td>1.472600</td>\n",
       "      <td>1.413909</td>\n",
       "      <td>0.576923</td>\n",
       "      <td>0.386218</td>\n",
       "      <td>0.576923</td>\n",
       "      <td>0.443659</td>\n",
       "    </tr>\n",
       "    <tr>\n",
       "      <td>7</td>\n",
       "      <td>1.300200</td>\n",
       "      <td>1.318507</td>\n",
       "      <td>0.730769</td>\n",
       "      <td>0.555769</td>\n",
       "      <td>0.730769</td>\n",
       "      <td>0.624709</td>\n",
       "    </tr>\n",
       "    <tr>\n",
       "      <td>8</td>\n",
       "      <td>1.161700</td>\n",
       "      <td>1.192267</td>\n",
       "      <td>0.730769</td>\n",
       "      <td>0.544028</td>\n",
       "      <td>0.730769</td>\n",
       "      <td>0.620536</td>\n",
       "    </tr>\n",
       "    <tr>\n",
       "      <td>9</td>\n",
       "      <td>0.980500</td>\n",
       "      <td>1.083906</td>\n",
       "      <td>0.807692</td>\n",
       "      <td>0.706250</td>\n",
       "      <td>0.807692</td>\n",
       "      <td>0.742507</td>\n",
       "    </tr>\n",
       "    <tr>\n",
       "      <td>10</td>\n",
       "      <td>0.801500</td>\n",
       "      <td>1.008180</td>\n",
       "      <td>0.807692</td>\n",
       "      <td>0.706250</td>\n",
       "      <td>0.807692</td>\n",
       "      <td>0.742507</td>\n",
       "    </tr>\n",
       "    <tr>\n",
       "      <td>11</td>\n",
       "      <td>0.718600</td>\n",
       "      <td>0.939636</td>\n",
       "      <td>0.846154</td>\n",
       "      <td>0.733333</td>\n",
       "      <td>0.846154</td>\n",
       "      <td>0.781593</td>\n",
       "    </tr>\n",
       "    <tr>\n",
       "      <td>12</td>\n",
       "      <td>0.621000</td>\n",
       "      <td>0.890971</td>\n",
       "      <td>0.846154</td>\n",
       "      <td>0.733333</td>\n",
       "      <td>0.846154</td>\n",
       "      <td>0.781593</td>\n",
       "    </tr>\n",
       "    <tr>\n",
       "      <td>13</td>\n",
       "      <td>0.641200</td>\n",
       "      <td>0.875885</td>\n",
       "      <td>0.846154</td>\n",
       "      <td>0.733333</td>\n",
       "      <td>0.846154</td>\n",
       "      <td>0.781593</td>\n",
       "    </tr>\n",
       "    <tr>\n",
       "      <td>14</td>\n",
       "      <td>0.511300</td>\n",
       "      <td>0.856743</td>\n",
       "      <td>0.846154</td>\n",
       "      <td>0.733333</td>\n",
       "      <td>0.846154</td>\n",
       "      <td>0.781593</td>\n",
       "    </tr>\n",
       "    <tr>\n",
       "      <td>15</td>\n",
       "      <td>0.478400</td>\n",
       "      <td>0.815671</td>\n",
       "      <td>0.846154</td>\n",
       "      <td>0.733333</td>\n",
       "      <td>0.846154</td>\n",
       "      <td>0.781593</td>\n",
       "    </tr>\n",
       "    <tr>\n",
       "      <td>16</td>\n",
       "      <td>0.424800</td>\n",
       "      <td>0.808523</td>\n",
       "      <td>0.846154</td>\n",
       "      <td>0.733333</td>\n",
       "      <td>0.846154</td>\n",
       "      <td>0.781593</td>\n",
       "    </tr>\n",
       "    <tr>\n",
       "      <td>17</td>\n",
       "      <td>0.436400</td>\n",
       "      <td>0.805590</td>\n",
       "      <td>0.846154</td>\n",
       "      <td>0.733333</td>\n",
       "      <td>0.846154</td>\n",
       "      <td>0.781593</td>\n",
       "    </tr>\n",
       "    <tr>\n",
       "      <td>18</td>\n",
       "      <td>0.392500</td>\n",
       "      <td>0.796447</td>\n",
       "      <td>0.846154</td>\n",
       "      <td>0.733333</td>\n",
       "      <td>0.846154</td>\n",
       "      <td>0.781593</td>\n",
       "    </tr>\n",
       "    <tr>\n",
       "      <td>19</td>\n",
       "      <td>0.380500</td>\n",
       "      <td>0.792289</td>\n",
       "      <td>0.846154</td>\n",
       "      <td>0.733333</td>\n",
       "      <td>0.846154</td>\n",
       "      <td>0.781593</td>\n",
       "    </tr>\n",
       "    <tr>\n",
       "      <td>20</td>\n",
       "      <td>0.375200</td>\n",
       "      <td>0.790946</td>\n",
       "      <td>0.846154</td>\n",
       "      <td>0.733333</td>\n",
       "      <td>0.846154</td>\n",
       "      <td>0.781593</td>\n",
       "    </tr>\n",
       "  </tbody>\n",
       "</table><p>"
      ]
     },
     "metadata": {},
     "output_type": "display_data"
    },
    {
     "data": {
      "text/plain": [
       "<IPython.core.display.HTML object>"
      ],
      "text/html": [
       "\n",
       "    <style>\n",
       "        .wandb-row {\n",
       "            display: flex;\n",
       "            flex-direction: row;\n",
       "            flex-wrap: wrap;\n",
       "            justify-content: flex-start;\n",
       "            width: 100%;\n",
       "        }\n",
       "        .wandb-col {\n",
       "            display: flex;\n",
       "            flex-direction: column;\n",
       "            flex-basis: 100%;\n",
       "            flex: 1;\n",
       "            padding: 10px;\n",
       "        }\n",
       "    </style>\n",
       "<div class=\"wandb-row\"><div class=\"wandb-col\"><h3>Run history:</h3><br/><table class=\"wandb\"><tr><td>eval/accuracy</td><td>▁▁▁▁▂▃▆▆▇▇██████████</td></tr><tr><td>eval/f1</td><td>▁▁▁▁▂▃▆▅▇▇██████████</td></tr><tr><td>eval/loss</td><td>█▆▅▄▄▃▃▂▂▂▂▁▁▁▁▁▁▁▁▁</td></tr><tr><td>eval/precision</td><td>▁▁▁▁▃▃▅▅████████████</td></tr><tr><td>eval/recall</td><td>▁▁▁▁▂▃▆▆▇▇██████████</td></tr><tr><td>eval/runtime</td><td>▃▁▁▂▆▅▂▁▅▃▄▂▂▄▃▂▁█▆▇</td></tr><tr><td>eval/samples_per_second</td><td>▅██▇▂▃▆█▄▆▄▇▇▅▆▇█▁▃▂</td></tr><tr><td>eval/steps_per_second</td><td>▅██▇▂▃▆█▄▆▄▇▇▅▆▇█▁▃▂</td></tr><tr><td>train/epoch</td><td>▁▁▁▁▂▂▂▂▂▂▃▃▃▃▄▄▄▄▄▄▅▅▅▅▅▅▆▆▆▆▇▇▇▇▇▇████</td></tr><tr><td>train/global_step</td><td>▁▁▁▁▂▂▂▂▂▂▃▃▃▃▄▄▄▄▄▄▅▅▅▅▅▅▆▆▆▆▇▇▇▇▇▇████</td></tr><tr><td>train/grad_norm</td><td>█▆▅▅▄▄▄▅▆▃▄▃▄▂▃▁▃▁▁▁</td></tr><tr><td>train/learning_rate</td><td>██▇▇▇▆▆▅▅▅▄▄▄▃▃▂▂▂▁▁</td></tr><tr><td>train/loss</td><td>█▇▅▅▄▄▃▃▃▂▂▂▂▁▁▁▁▁▁▁</td></tr></table><br/></div><div class=\"wandb-col\"><h3>Run summary:</h3><br/><table class=\"wandb\"><tr><td>eval/accuracy</td><td>0.84615</td></tr><tr><td>eval/f1</td><td>0.78159</td></tr><tr><td>eval/loss</td><td>0.79095</td></tr><tr><td>eval/precision</td><td>0.73333</td></tr><tr><td>eval/recall</td><td>0.84615</td></tr><tr><td>eval/runtime</td><td>0.0751</td></tr><tr><td>eval/samples_per_second</td><td>346.18</td></tr><tr><td>eval/steps_per_second</td><td>26.629</td></tr><tr><td>total_flos</td><td>132915223802880.0</td></tr><tr><td>train/epoch</td><td>20</td></tr><tr><td>train/global_step</td><td>140</td></tr><tr><td>train/grad_norm</td><td>1.6329</td></tr><tr><td>train/learning_rate</td><td>0</td></tr><tr><td>train/loss</td><td>0.3752</td></tr><tr><td>train_loss</td><td>1.104</td></tr><tr><td>train_runtime</td><td>62.1332</td></tr><tr><td>train_samples_per_second</td><td>32.511</td></tr><tr><td>train_steps_per_second</td><td>2.253</td></tr></table><br/></div></div>"
      ]
     },
     "metadata": {},
     "output_type": "display_data"
    },
    {
     "data": {
      "text/plain": [
       "<IPython.core.display.HTML object>"
      ],
      "text/html": [
       " View run <strong style=\"color:#cdcd00\">dauntless-paper-43</strong> at: <a href='https://wandb.ai/stefano-porta800-universit-degli-studi-di-torino/tesi/runs/fgfcsyz7' target=\"_blank\">https://wandb.ai/stefano-porta800-universit-degli-studi-di-torino/tesi/runs/fgfcsyz7</a><br/> View project at: <a href='https://wandb.ai/stefano-porta800-universit-degli-studi-di-torino/tesi' target=\"_blank\">https://wandb.ai/stefano-porta800-universit-degli-studi-di-torino/tesi</a><br/>Synced 5 W&B file(s), 0 media file(s), 0 artifact file(s) and 0 other file(s)"
      ]
     },
     "metadata": {},
     "output_type": "display_data"
    },
    {
     "data": {
      "text/plain": [
       "<IPython.core.display.HTML object>"
      ],
      "text/html": [
       "Find logs at: <code>./wandb/run-20241118_174101-fgfcsyz7/logs</code>"
      ]
     },
     "metadata": {},
     "output_type": "display_data"
    },
    {
     "name": "stdout",
     "output_type": "stream",
     "text": [
      "Training model for global subject: transition\n"
     ]
    },
    {
     "data": {
      "text/plain": [
       "Filter:   0%|          | 0/683 [00:00<?, ? examples/s]"
      ],
      "application/vnd.jupyter.widget-view+json": {
       "version_major": 2,
       "version_minor": 0,
       "model_id": "61eb5dfd59604214a44fe613e8441bab"
      }
     },
     "metadata": {},
     "output_type": "display_data"
    },
    {
     "data": {
      "text/plain": [
       "Filter:   0%|          | 0/85 [00:00<?, ? examples/s]"
      ],
      "application/vnd.jupyter.widget-view+json": {
       "version_major": 2,
       "version_minor": 0,
       "model_id": "4a29b95b3be94f53b7e91f9515549030"
      }
     },
     "metadata": {},
     "output_type": "display_data"
    },
    {
     "name": "stdout",
     "output_type": "stream",
     "text": [
      "Complete dataset size: 202\n"
     ]
    },
    {
     "data": {
      "text/plain": [
       "Flattening the indices:   0%|          | 0/202 [00:00<?, ? examples/s]"
      ],
      "application/vnd.jupyter.widget-view+json": {
       "version_major": 2,
       "version_minor": 0,
       "model_id": "b29fe843f2b04bf38936b39de1f16804"
      }
     },
     "metadata": {},
     "output_type": "display_data"
    },
    {
     "data": {
      "text/plain": [
       "Stringifying the column:   0%|          | 0/202 [00:00<?, ? examples/s]"
      ],
      "application/vnd.jupyter.widget-view+json": {
       "version_major": 2,
       "version_minor": 0,
       "model_id": "3c469473341543fea9aca81eb8102edf"
      }
     },
     "metadata": {},
     "output_type": "display_data"
    },
    {
     "data": {
      "text/plain": [
       "Casting to class labels:   0%|          | 0/202 [00:00<?, ? examples/s]"
      ],
      "application/vnd.jupyter.widget-view+json": {
       "version_major": 2,
       "version_minor": 0,
       "model_id": "922dd688a3f542c8bc123f2e53fcb474"
      }
     },
     "metadata": {},
     "output_type": "display_data"
    },
    {
     "name": "stdout",
     "output_type": "stream",
     "text": [
      "Train dataset size: 161, Validation dataset size: 41\n"
     ]
    },
    {
     "data": {
      "text/plain": [
       "VBox(children=(Label(value='Waiting for wandb.init()...\\r'), FloatProgress(value=0.011112032888882418, max=1.0…"
      ],
      "application/vnd.jupyter.widget-view+json": {
       "version_major": 2,
       "version_minor": 0,
       "model_id": "2e79cefa0ac94db4bb7062d96239a325"
      }
     },
     "metadata": {},
     "output_type": "display_data"
    },
    {
     "data": {
      "text/plain": [
       "<IPython.core.display.HTML object>"
      ],
      "text/html": [
       "Tracking run with wandb version 0.18.7"
      ]
     },
     "metadata": {},
     "output_type": "display_data"
    },
    {
     "data": {
      "text/plain": [
       "<IPython.core.display.HTML object>"
      ],
      "text/html": [
       "Run data is saved locally in <code>/home/stefa/IdeaProjects/tesi_tln/multitask_training/wandb/run-20241118_174211-3gudrjq8</code>"
      ]
     },
     "metadata": {},
     "output_type": "display_data"
    },
    {
     "data": {
      "text/plain": [
       "<IPython.core.display.HTML object>"
      ],
      "text/html": [
       "Syncing run <strong><a href='https://wandb.ai/stefano-porta800-universit-degli-studi-di-torino/tesi/runs/3gudrjq8' target=\"_blank\">lemon-rain-44</a></strong> to <a href='https://wandb.ai/stefano-porta800-universit-degli-studi-di-torino/tesi' target=\"_blank\">Weights & Biases</a> (<a href='https://wandb.me/developer-guide' target=\"_blank\">docs</a>)<br/>"
      ]
     },
     "metadata": {},
     "output_type": "display_data"
    },
    {
     "data": {
      "text/plain": [
       "<IPython.core.display.HTML object>"
      ],
      "text/html": [
       " View project at <a href='https://wandb.ai/stefano-porta800-universit-degli-studi-di-torino/tesi' target=\"_blank\">https://wandb.ai/stefano-porta800-universit-degli-studi-di-torino/tesi</a>"
      ]
     },
     "metadata": {},
     "output_type": "display_data"
    },
    {
     "data": {
      "text/plain": [
       "<IPython.core.display.HTML object>"
      ],
      "text/html": [
       " View run at <a href='https://wandb.ai/stefano-porta800-universit-degli-studi-di-torino/tesi/runs/3gudrjq8' target=\"_blank\">https://wandb.ai/stefano-porta800-universit-degli-studi-di-torino/tesi/runs/3gudrjq8</a>"
      ]
     },
     "metadata": {},
     "output_type": "display_data"
    },
    {
     "name": "stderr",
     "output_type": "stream",
     "text": [
      "Some weights of BertForSequenceClassification were not initialized from the model checkpoint at bert-base-uncased and are newly initialized: ['classifier.bias', 'classifier.weight']\n",
      "You should probably TRAIN this model on a down-stream task to be able to use it for predictions and inference.\n"
     ]
    },
    {
     "data": {
      "text/plain": [
       "<IPython.core.display.HTML object>"
      ],
      "text/html": [
       "\n",
       "    <div>\n",
       "      \n",
       "      <progress value='220' max='220' style='width:300px; height:20px; vertical-align: middle;'></progress>\n",
       "      [220/220 01:14, Epoch 20/20]\n",
       "    </div>\n",
       "    <table border=\"1\" class=\"dataframe\">\n",
       "  <thead>\n",
       " <tr style=\"text-align: left;\">\n",
       "      <th>Epoch</th>\n",
       "      <th>Training Loss</th>\n",
       "      <th>Validation Loss</th>\n",
       "      <th>Accuracy</th>\n",
       "      <th>Precision</th>\n",
       "      <th>Recall</th>\n",
       "      <th>F1</th>\n",
       "    </tr>\n",
       "  </thead>\n",
       "  <tbody>\n",
       "    <tr>\n",
       "      <td>1</td>\n",
       "      <td>3.351500</td>\n",
       "      <td>3.022951</td>\n",
       "      <td>0.243902</td>\n",
       "      <td>0.154839</td>\n",
       "      <td>0.243902</td>\n",
       "      <td>0.166468</td>\n",
       "    </tr>\n",
       "    <tr>\n",
       "      <td>2</td>\n",
       "      <td>2.880400</td>\n",
       "      <td>2.633957</td>\n",
       "      <td>0.390244</td>\n",
       "      <td>0.211440</td>\n",
       "      <td>0.390244</td>\n",
       "      <td>0.257445</td>\n",
       "    </tr>\n",
       "    <tr>\n",
       "      <td>3</td>\n",
       "      <td>2.482800</td>\n",
       "      <td>2.295789</td>\n",
       "      <td>0.317073</td>\n",
       "      <td>0.266814</td>\n",
       "      <td>0.317073</td>\n",
       "      <td>0.229804</td>\n",
       "    </tr>\n",
       "    <tr>\n",
       "      <td>4</td>\n",
       "      <td>2.057100</td>\n",
       "      <td>1.985682</td>\n",
       "      <td>0.609756</td>\n",
       "      <td>0.421138</td>\n",
       "      <td>0.609756</td>\n",
       "      <td>0.489976</td>\n",
       "    </tr>\n",
       "    <tr>\n",
       "      <td>5</td>\n",
       "      <td>1.711900</td>\n",
       "      <td>1.721367</td>\n",
       "      <td>0.585366</td>\n",
       "      <td>0.397890</td>\n",
       "      <td>0.585366</td>\n",
       "      <td>0.469472</td>\n",
       "    </tr>\n",
       "    <tr>\n",
       "      <td>6</td>\n",
       "      <td>1.495900</td>\n",
       "      <td>1.508317</td>\n",
       "      <td>0.585366</td>\n",
       "      <td>0.403310</td>\n",
       "      <td>0.585366</td>\n",
       "      <td>0.474475</td>\n",
       "    </tr>\n",
       "    <tr>\n",
       "      <td>7</td>\n",
       "      <td>1.146200</td>\n",
       "      <td>1.303472</td>\n",
       "      <td>0.658537</td>\n",
       "      <td>0.543219</td>\n",
       "      <td>0.658537</td>\n",
       "      <td>0.590548</td>\n",
       "    </tr>\n",
       "    <tr>\n",
       "      <td>8</td>\n",
       "      <td>0.998400</td>\n",
       "      <td>1.243428</td>\n",
       "      <td>0.658537</td>\n",
       "      <td>0.537644</td>\n",
       "      <td>0.658537</td>\n",
       "      <td>0.587212</td>\n",
       "    </tr>\n",
       "    <tr>\n",
       "      <td>9</td>\n",
       "      <td>0.781000</td>\n",
       "      <td>1.120260</td>\n",
       "      <td>0.658537</td>\n",
       "      <td>0.537644</td>\n",
       "      <td>0.658537</td>\n",
       "      <td>0.587212</td>\n",
       "    </tr>\n",
       "    <tr>\n",
       "      <td>10</td>\n",
       "      <td>0.655600</td>\n",
       "      <td>1.066471</td>\n",
       "      <td>0.682927</td>\n",
       "      <td>0.573820</td>\n",
       "      <td>0.682927</td>\n",
       "      <td>0.619333</td>\n",
       "    </tr>\n",
       "    <tr>\n",
       "      <td>11</td>\n",
       "      <td>0.540300</td>\n",
       "      <td>1.118302</td>\n",
       "      <td>0.682927</td>\n",
       "      <td>0.612383</td>\n",
       "      <td>0.682927</td>\n",
       "      <td>0.631401</td>\n",
       "    </tr>\n",
       "    <tr>\n",
       "      <td>12</td>\n",
       "      <td>0.487500</td>\n",
       "      <td>1.097822</td>\n",
       "      <td>0.682927</td>\n",
       "      <td>0.550563</td>\n",
       "      <td>0.682927</td>\n",
       "      <td>0.604336</td>\n",
       "    </tr>\n",
       "    <tr>\n",
       "      <td>13</td>\n",
       "      <td>0.406500</td>\n",
       "      <td>0.949273</td>\n",
       "      <td>0.707317</td>\n",
       "      <td>0.649430</td>\n",
       "      <td>0.707317</td>\n",
       "      <td>0.668656</td>\n",
       "    </tr>\n",
       "    <tr>\n",
       "      <td>14</td>\n",
       "      <td>0.344800</td>\n",
       "      <td>0.921030</td>\n",
       "      <td>0.707317</td>\n",
       "      <td>0.649430</td>\n",
       "      <td>0.707317</td>\n",
       "      <td>0.668656</td>\n",
       "    </tr>\n",
       "    <tr>\n",
       "      <td>15</td>\n",
       "      <td>0.309600</td>\n",
       "      <td>0.947612</td>\n",
       "      <td>0.731707</td>\n",
       "      <td>0.672764</td>\n",
       "      <td>0.731707</td>\n",
       "      <td>0.690360</td>\n",
       "    </tr>\n",
       "    <tr>\n",
       "      <td>16</td>\n",
       "      <td>0.291600</td>\n",
       "      <td>0.933608</td>\n",
       "      <td>0.756098</td>\n",
       "      <td>0.737998</td>\n",
       "      <td>0.756098</td>\n",
       "      <td>0.737258</td>\n",
       "    </tr>\n",
       "    <tr>\n",
       "      <td>17</td>\n",
       "      <td>0.256000</td>\n",
       "      <td>0.947420</td>\n",
       "      <td>0.707317</td>\n",
       "      <td>0.649430</td>\n",
       "      <td>0.707317</td>\n",
       "      <td>0.668656</td>\n",
       "    </tr>\n",
       "    <tr>\n",
       "      <td>18</td>\n",
       "      <td>0.226400</td>\n",
       "      <td>0.921456</td>\n",
       "      <td>0.707317</td>\n",
       "      <td>0.649430</td>\n",
       "      <td>0.707317</td>\n",
       "      <td>0.668656</td>\n",
       "    </tr>\n",
       "    <tr>\n",
       "      <td>19</td>\n",
       "      <td>0.228600</td>\n",
       "      <td>0.910845</td>\n",
       "      <td>0.756098</td>\n",
       "      <td>0.754530</td>\n",
       "      <td>0.756098</td>\n",
       "      <td>0.742423</td>\n",
       "    </tr>\n",
       "    <tr>\n",
       "      <td>20</td>\n",
       "      <td>0.213700</td>\n",
       "      <td>0.932582</td>\n",
       "      <td>0.707317</td>\n",
       "      <td>0.649430</td>\n",
       "      <td>0.707317</td>\n",
       "      <td>0.668656</td>\n",
       "    </tr>\n",
       "  </tbody>\n",
       "</table><p>"
      ]
     },
     "metadata": {},
     "output_type": "display_data"
    },
    {
     "data": {
      "text/plain": [
       "<IPython.core.display.HTML object>"
      ],
      "text/html": [
       "\n",
       "    <style>\n",
       "        .wandb-row {\n",
       "            display: flex;\n",
       "            flex-direction: row;\n",
       "            flex-wrap: wrap;\n",
       "            justify-content: flex-start;\n",
       "            width: 100%;\n",
       "        }\n",
       "        .wandb-col {\n",
       "            display: flex;\n",
       "            flex-direction: column;\n",
       "            flex-basis: 100%;\n",
       "            flex: 1;\n",
       "            padding: 10px;\n",
       "        }\n",
       "    </style>\n",
       "<div class=\"wandb-row\"><div class=\"wandb-col\"><h3>Run history:</h3><br/><table class=\"wandb\"><tr><td>eval/accuracy</td><td>▁▃▂▆▆▆▇▇▇▇▇▇▇▇██▇▇█▇</td></tr><tr><td>eval/f1</td><td>▁▂▂▅▅▅▆▆▆▇▇▆▇▇▇█▇▇█▇</td></tr><tr><td>eval/loss</td><td>█▇▆▅▄▃▂▂▂▂▂▂▁▁▁▁▁▁▁▁</td></tr><tr><td>eval/precision</td><td>▁▂▂▄▄▄▆▅▅▆▆▆▇▇▇█▇▇█▇</td></tr><tr><td>eval/recall</td><td>▁▃▂▆▆▆▇▇▇▇▇▇▇▇██▇▇█▇</td></tr><tr><td>eval/runtime</td><td>▆▄▇▁▆▅▂▄█▅▆▆▇█▂▆▃▇█▄</td></tr><tr><td>eval/samples_per_second</td><td>▂▅▂█▃▃▇▅▁▄▃▃▂▁▇▂▆▂▁▄</td></tr><tr><td>eval/steps_per_second</td><td>▂▅▂█▃▃▇▅▁▄▃▃▂▁▇▂▆▂▁▄</td></tr><tr><td>train/epoch</td><td>▁▁▁▁▂▂▂▂▂▂▃▃▃▃▄▄▄▄▄▄▅▅▅▅▅▅▆▆▆▆▇▇▇▇▇▇████</td></tr><tr><td>train/global_step</td><td>▁▁▁▁▂▂▂▂▂▂▃▃▃▃▄▄▄▄▄▄▅▅▅▅▅▅▆▆▆▆▇▇▇▇▇▇████</td></tr><tr><td>train/grad_norm</td><td>▄▅▄█▃▄▂▃▂▂▂▃▂▁▁▂▁▁▂▁</td></tr><tr><td>train/learning_rate</td><td>██▇▇▇▆▆▅▅▅▄▄▄▃▃▂▂▂▁▁</td></tr><tr><td>train/loss</td><td>█▇▆▅▄▄▃▃▂▂▂▂▁▁▁▁▁▁▁▁</td></tr></table><br/></div><div class=\"wandb-col\"><h3>Run summary:</h3><br/><table class=\"wandb\"><tr><td>eval/accuracy</td><td>0.70732</td></tr><tr><td>eval/f1</td><td>0.66866</td></tr><tr><td>eval/loss</td><td>0.93258</td></tr><tr><td>eval/precision</td><td>0.64943</td></tr><tr><td>eval/recall</td><td>0.70732</td></tr><tr><td>eval/runtime</td><td>0.118</td></tr><tr><td>eval/samples_per_second</td><td>347.429</td></tr><tr><td>eval/steps_per_second</td><td>25.422</td></tr><tr><td>total_flos</td><td>211874762695680.0</td></tr><tr><td>train/epoch</td><td>20</td></tr><tr><td>train/global_step</td><td>220</td></tr><tr><td>train/grad_norm</td><td>3.11752</td></tr><tr><td>train/learning_rate</td><td>0</td></tr><tr><td>train/loss</td><td>0.2137</td></tr><tr><td>train_loss</td><td>1.0433</td></tr><tr><td>train_runtime</td><td>74.4653</td></tr><tr><td>train_samples_per_second</td><td>43.242</td></tr><tr><td>train_steps_per_second</td><td>2.954</td></tr></table><br/></div></div>"
      ]
     },
     "metadata": {},
     "output_type": "display_data"
    },
    {
     "data": {
      "text/plain": [
       "<IPython.core.display.HTML object>"
      ],
      "text/html": [
       " View run <strong style=\"color:#cdcd00\">lemon-rain-44</strong> at: <a href='https://wandb.ai/stefano-porta800-universit-degli-studi-di-torino/tesi/runs/3gudrjq8' target=\"_blank\">https://wandb.ai/stefano-porta800-universit-degli-studi-di-torino/tesi/runs/3gudrjq8</a><br/> View project at: <a href='https://wandb.ai/stefano-porta800-universit-degli-studi-di-torino/tesi' target=\"_blank\">https://wandb.ai/stefano-porta800-universit-degli-studi-di-torino/tesi</a><br/>Synced 5 W&B file(s), 0 media file(s), 0 artifact file(s) and 0 other file(s)"
      ]
     },
     "metadata": {},
     "output_type": "display_data"
    },
    {
     "data": {
      "text/plain": [
       "<IPython.core.display.HTML object>"
      ],
      "text/html": [
       "Find logs at: <code>./wandb/run-20241118_174211-3gudrjq8/logs</code>"
      ]
     },
     "metadata": {},
     "output_type": "display_data"
    },
    {
     "name": "stdout",
     "output_type": "stream",
     "text": [
      "Training model for global subject: grammar\n"
     ]
    },
    {
     "data": {
      "text/plain": [
       "Filter:   0%|          | 0/683 [00:00<?, ? examples/s]"
      ],
      "application/vnd.jupyter.widget-view+json": {
       "version_major": 2,
       "version_minor": 0,
       "model_id": "ac034329e0c043bcb215f697aea69d18"
      }
     },
     "metadata": {},
     "output_type": "display_data"
    },
    {
     "data": {
      "text/plain": [
       "Filter:   0%|          | 0/85 [00:00<?, ? examples/s]"
      ],
      "application/vnd.jupyter.widget-view+json": {
       "version_major": 2,
       "version_minor": 0,
       "model_id": "055e3bcf30ad4ad69917794d62b976ae"
      }
     },
     "metadata": {},
     "output_type": "display_data"
    },
    {
     "name": "stdout",
     "output_type": "stream",
     "text": [
      "Complete dataset size: 129\n"
     ]
    },
    {
     "data": {
      "text/plain": [
       "Flattening the indices:   0%|          | 0/129 [00:00<?, ? examples/s]"
      ],
      "application/vnd.jupyter.widget-view+json": {
       "version_major": 2,
       "version_minor": 0,
       "model_id": "82030bc7e5704673abc140967eb24478"
      }
     },
     "metadata": {},
     "output_type": "display_data"
    },
    {
     "data": {
      "text/plain": [
       "Stringifying the column:   0%|          | 0/129 [00:00<?, ? examples/s]"
      ],
      "application/vnd.jupyter.widget-view+json": {
       "version_major": 2,
       "version_minor": 0,
       "model_id": "c68680e6a4d04dd08738343caf6c3ecd"
      }
     },
     "metadata": {},
     "output_type": "display_data"
    },
    {
     "data": {
      "text/plain": [
       "Casting to class labels:   0%|          | 0/129 [00:00<?, ? examples/s]"
      ],
      "application/vnd.jupyter.widget-view+json": {
       "version_major": 2,
       "version_minor": 0,
       "model_id": "e72cb190c45e4c999e6a77e27fb660f2"
      }
     },
     "metadata": {},
     "output_type": "display_data"
    },
    {
     "name": "stdout",
     "output_type": "stream",
     "text": [
      "Train dataset size: 103, Validation dataset size: 26\n"
     ]
    },
    {
     "data": {
      "text/plain": [
       "<IPython.core.display.HTML object>"
      ],
      "text/html": [
       "Tracking run with wandb version 0.18.7"
      ]
     },
     "metadata": {},
     "output_type": "display_data"
    },
    {
     "data": {
      "text/plain": [
       "<IPython.core.display.HTML object>"
      ],
      "text/html": [
       "Run data is saved locally in <code>/home/stefa/IdeaProjects/tesi_tln/multitask_training/wandb/run-20241118_174330-v5ze3olj</code>"
      ]
     },
     "metadata": {},
     "output_type": "display_data"
    },
    {
     "data": {
      "text/plain": [
       "<IPython.core.display.HTML object>"
      ],
      "text/html": [
       "Syncing run <strong><a href='https://wandb.ai/stefano-porta800-universit-degli-studi-di-torino/tesi/runs/v5ze3olj' target=\"_blank\">major-sponge-45</a></strong> to <a href='https://wandb.ai/stefano-porta800-universit-degli-studi-di-torino/tesi' target=\"_blank\">Weights & Biases</a> (<a href='https://wandb.me/developer-guide' target=\"_blank\">docs</a>)<br/>"
      ]
     },
     "metadata": {},
     "output_type": "display_data"
    },
    {
     "data": {
      "text/plain": [
       "<IPython.core.display.HTML object>"
      ],
      "text/html": [
       " View project at <a href='https://wandb.ai/stefano-porta800-universit-degli-studi-di-torino/tesi' target=\"_blank\">https://wandb.ai/stefano-porta800-universit-degli-studi-di-torino/tesi</a>"
      ]
     },
     "metadata": {},
     "output_type": "display_data"
    },
    {
     "data": {
      "text/plain": [
       "<IPython.core.display.HTML object>"
      ],
      "text/html": [
       " View run at <a href='https://wandb.ai/stefano-porta800-universit-degli-studi-di-torino/tesi/runs/v5ze3olj' target=\"_blank\">https://wandb.ai/stefano-porta800-universit-degli-studi-di-torino/tesi/runs/v5ze3olj</a>"
      ]
     },
     "metadata": {},
     "output_type": "display_data"
    },
    {
     "name": "stderr",
     "output_type": "stream",
     "text": [
      "Some weights of BertForSequenceClassification were not initialized from the model checkpoint at bert-base-uncased and are newly initialized: ['classifier.bias', 'classifier.weight']\n",
      "You should probably TRAIN this model on a down-stream task to be able to use it for predictions and inference.\n"
     ]
    },
    {
     "data": {
      "text/plain": [
       "<IPython.core.display.HTML object>"
      ],
      "text/html": [
       "\n",
       "    <div>\n",
       "      \n",
       "      <progress value='140' max='140' style='width:300px; height:20px; vertical-align: middle;'></progress>\n",
       "      [140/140 01:04, Epoch 20/20]\n",
       "    </div>\n",
       "    <table border=\"1\" class=\"dataframe\">\n",
       "  <thead>\n",
       " <tr style=\"text-align: left;\">\n",
       "      <th>Epoch</th>\n",
       "      <th>Training Loss</th>\n",
       "      <th>Validation Loss</th>\n",
       "      <th>Accuracy</th>\n",
       "      <th>Precision</th>\n",
       "      <th>Recall</th>\n",
       "      <th>F1</th>\n",
       "    </tr>\n",
       "  </thead>\n",
       "  <tbody>\n",
       "    <tr>\n",
       "      <td>1</td>\n",
       "      <td>3.381600</td>\n",
       "      <td>3.058219</td>\n",
       "      <td>0.423077</td>\n",
       "      <td>0.186154</td>\n",
       "      <td>0.423077</td>\n",
       "      <td>0.258547</td>\n",
       "    </tr>\n",
       "    <tr>\n",
       "      <td>2</td>\n",
       "      <td>2.799000</td>\n",
       "      <td>2.491895</td>\n",
       "      <td>0.423077</td>\n",
       "      <td>0.178994</td>\n",
       "      <td>0.423077</td>\n",
       "      <td>0.251559</td>\n",
       "    </tr>\n",
       "    <tr>\n",
       "      <td>3</td>\n",
       "      <td>2.380200</td>\n",
       "      <td>2.180712</td>\n",
       "      <td>0.423077</td>\n",
       "      <td>0.186154</td>\n",
       "      <td>0.423077</td>\n",
       "      <td>0.258547</td>\n",
       "    </tr>\n",
       "    <tr>\n",
       "      <td>4</td>\n",
       "      <td>2.057600</td>\n",
       "      <td>1.856510</td>\n",
       "      <td>0.423077</td>\n",
       "      <td>0.186154</td>\n",
       "      <td>0.423077</td>\n",
       "      <td>0.258547</td>\n",
       "    </tr>\n",
       "    <tr>\n",
       "      <td>5</td>\n",
       "      <td>1.765900</td>\n",
       "      <td>1.662922</td>\n",
       "      <td>0.538462</td>\n",
       "      <td>0.326923</td>\n",
       "      <td>0.538462</td>\n",
       "      <td>0.397436</td>\n",
       "    </tr>\n",
       "    <tr>\n",
       "      <td>6</td>\n",
       "      <td>1.483400</td>\n",
       "      <td>1.498599</td>\n",
       "      <td>0.692308</td>\n",
       "      <td>0.612393</td>\n",
       "      <td>0.692308</td>\n",
       "      <td>0.611553</td>\n",
       "    </tr>\n",
       "    <tr>\n",
       "      <td>7</td>\n",
       "      <td>1.339600</td>\n",
       "      <td>1.336496</td>\n",
       "      <td>0.692308</td>\n",
       "      <td>0.629555</td>\n",
       "      <td>0.692308</td>\n",
       "      <td>0.625275</td>\n",
       "    </tr>\n",
       "    <tr>\n",
       "      <td>8</td>\n",
       "      <td>1.248400</td>\n",
       "      <td>1.145809</td>\n",
       "      <td>0.769231</td>\n",
       "      <td>0.720513</td>\n",
       "      <td>0.769231</td>\n",
       "      <td>0.715497</td>\n",
       "    </tr>\n",
       "    <tr>\n",
       "      <td>9</td>\n",
       "      <td>1.073100</td>\n",
       "      <td>1.076996</td>\n",
       "      <td>0.769231</td>\n",
       "      <td>0.644712</td>\n",
       "      <td>0.769231</td>\n",
       "      <td>0.686610</td>\n",
       "    </tr>\n",
       "    <tr>\n",
       "      <td>10</td>\n",
       "      <td>0.940300</td>\n",
       "      <td>0.933683</td>\n",
       "      <td>0.807692</td>\n",
       "      <td>0.753593</td>\n",
       "      <td>0.807692</td>\n",
       "      <td>0.756119</td>\n",
       "    </tr>\n",
       "    <tr>\n",
       "      <td>11</td>\n",
       "      <td>0.850700</td>\n",
       "      <td>0.852162</td>\n",
       "      <td>0.846154</td>\n",
       "      <td>0.845168</td>\n",
       "      <td>0.846154</td>\n",
       "      <td>0.818590</td>\n",
       "    </tr>\n",
       "    <tr>\n",
       "      <td>12</td>\n",
       "      <td>0.752600</td>\n",
       "      <td>0.794298</td>\n",
       "      <td>0.846154</td>\n",
       "      <td>0.845168</td>\n",
       "      <td>0.846154</td>\n",
       "      <td>0.818590</td>\n",
       "    </tr>\n",
       "    <tr>\n",
       "      <td>13</td>\n",
       "      <td>0.657300</td>\n",
       "      <td>0.734159</td>\n",
       "      <td>0.884615</td>\n",
       "      <td>0.875000</td>\n",
       "      <td>0.884615</td>\n",
       "      <td>0.861093</td>\n",
       "    </tr>\n",
       "    <tr>\n",
       "      <td>14</td>\n",
       "      <td>0.571800</td>\n",
       "      <td>0.676843</td>\n",
       "      <td>0.884615</td>\n",
       "      <td>0.862179</td>\n",
       "      <td>0.884615</td>\n",
       "      <td>0.863657</td>\n",
       "    </tr>\n",
       "    <tr>\n",
       "      <td>15</td>\n",
       "      <td>0.544900</td>\n",
       "      <td>0.656640</td>\n",
       "      <td>0.884615</td>\n",
       "      <td>0.862179</td>\n",
       "      <td>0.884615</td>\n",
       "      <td>0.863657</td>\n",
       "    </tr>\n",
       "    <tr>\n",
       "      <td>16</td>\n",
       "      <td>0.461200</td>\n",
       "      <td>0.615392</td>\n",
       "      <td>0.884615</td>\n",
       "      <td>0.862179</td>\n",
       "      <td>0.884615</td>\n",
       "      <td>0.863657</td>\n",
       "    </tr>\n",
       "    <tr>\n",
       "      <td>17</td>\n",
       "      <td>0.429500</td>\n",
       "      <td>0.600425</td>\n",
       "      <td>0.884615</td>\n",
       "      <td>0.870809</td>\n",
       "      <td>0.884615</td>\n",
       "      <td>0.863278</td>\n",
       "    </tr>\n",
       "    <tr>\n",
       "      <td>18</td>\n",
       "      <td>0.436400</td>\n",
       "      <td>0.588508</td>\n",
       "      <td>0.884615</td>\n",
       "      <td>0.870809</td>\n",
       "      <td>0.884615</td>\n",
       "      <td>0.863278</td>\n",
       "    </tr>\n",
       "    <tr>\n",
       "      <td>19</td>\n",
       "      <td>0.411400</td>\n",
       "      <td>0.572523</td>\n",
       "      <td>0.923077</td>\n",
       "      <td>0.939103</td>\n",
       "      <td>0.923077</td>\n",
       "      <td>0.918602</td>\n",
       "    </tr>\n",
       "    <tr>\n",
       "      <td>20</td>\n",
       "      <td>0.390800</td>\n",
       "      <td>0.568143</td>\n",
       "      <td>0.923077</td>\n",
       "      <td>0.939103</td>\n",
       "      <td>0.923077</td>\n",
       "      <td>0.918602</td>\n",
       "    </tr>\n",
       "  </tbody>\n",
       "</table><p>"
      ]
     },
     "metadata": {},
     "output_type": "display_data"
    },
    {
     "data": {
      "text/plain": [
       "<IPython.core.display.HTML object>"
      ],
      "text/html": [
       "\n",
       "    <style>\n",
       "        .wandb-row {\n",
       "            display: flex;\n",
       "            flex-direction: row;\n",
       "            flex-wrap: wrap;\n",
       "            justify-content: flex-start;\n",
       "            width: 100%;\n",
       "        }\n",
       "        .wandb-col {\n",
       "            display: flex;\n",
       "            flex-direction: column;\n",
       "            flex-basis: 100%;\n",
       "            flex: 1;\n",
       "            padding: 10px;\n",
       "        }\n",
       "    </style>\n",
       "<div class=\"wandb-row\"><div class=\"wandb-col\"><h3>Run history:</h3><br/><table class=\"wandb\"><tr><td>eval/accuracy</td><td>▁▁▁▁▃▅▅▆▆▆▇▇▇▇▇▇▇▇██</td></tr><tr><td>eval/f1</td><td>▁▁▁▁▃▅▅▆▆▆▇▇▇▇▇▇▇▇██</td></tr><tr><td>eval/loss</td><td>█▆▆▅▄▄▃▃▂▂▂▂▁▁▁▁▁▁▁▁</td></tr><tr><td>eval/precision</td><td>▁▁▁▁▂▅▅▆▅▆▇▇▇▇▇▇▇▇██</td></tr><tr><td>eval/recall</td><td>▁▁▁▁▃▅▅▆▆▆▇▇▇▇▇▇▇▇██</td></tr><tr><td>eval/runtime</td><td>███▄▆▅▆▅▅▂▁▅▂▅▃▁▂▁▁▄</td></tr><tr><td>eval/samples_per_second</td><td>▁▁▁▄▃▄▃▃▄▆▇▃▇▄▆█▇▇█▄</td></tr><tr><td>eval/steps_per_second</td><td>▁▁▁▄▃▄▃▃▄▆▇▃▇▄▆█▇▇█▄</td></tr><tr><td>train/epoch</td><td>▁▁▁▁▂▂▂▂▂▂▃▃▃▃▄▄▄▄▄▄▅▅▅▅▅▅▆▆▆▆▇▇▇▇▇▇████</td></tr><tr><td>train/global_step</td><td>▁▁▁▁▂▂▂▂▂▂▃▃▃▃▄▄▄▄▄▄▅▅▅▅▅▅▆▆▆▆▇▇▇▇▇▇████</td></tr><tr><td>train/grad_norm</td><td>█▇▅▄▅▄▄█▅▂▄▃▂▁▄▁▂▃▃▂</td></tr><tr><td>train/learning_rate</td><td>██▇▇▇▆▆▅▅▅▄▄▄▃▃▂▂▂▁▁</td></tr><tr><td>train/loss</td><td>█▇▆▅▄▄▃▃▃▂▂▂▂▁▁▁▁▁▁▁</td></tr></table><br/></div><div class=\"wandb-col\"><h3>Run summary:</h3><br/><table class=\"wandb\"><tr><td>eval/accuracy</td><td>0.92308</td></tr><tr><td>eval/f1</td><td>0.9186</td></tr><tr><td>eval/loss</td><td>0.56814</td></tr><tr><td>eval/precision</td><td>0.9391</td></tr><tr><td>eval/recall</td><td>0.92308</td></tr><tr><td>eval/runtime</td><td>0.0732</td></tr><tr><td>eval/samples_per_second</td><td>354.989</td></tr><tr><td>eval/steps_per_second</td><td>27.307</td></tr><tr><td>total_flos</td><td>135547208432640.0</td></tr><tr><td>train/epoch</td><td>20</td></tr><tr><td>train/global_step</td><td>140</td></tr><tr><td>train/grad_norm</td><td>4.0193</td></tr><tr><td>train/learning_rate</td><td>0</td></tr><tr><td>train/loss</td><td>0.3908</td></tr><tr><td>train_loss</td><td>1.19878</td></tr><tr><td>train_runtime</td><td>64.5083</td></tr><tr><td>train_samples_per_second</td><td>31.934</td></tr><tr><td>train_steps_per_second</td><td>2.17</td></tr></table><br/></div></div>"
      ]
     },
     "metadata": {},
     "output_type": "display_data"
    },
    {
     "data": {
      "text/plain": [
       "<IPython.core.display.HTML object>"
      ],
      "text/html": [
       " View run <strong style=\"color:#cdcd00\">major-sponge-45</strong> at: <a href='https://wandb.ai/stefano-porta800-universit-degli-studi-di-torino/tesi/runs/v5ze3olj' target=\"_blank\">https://wandb.ai/stefano-porta800-universit-degli-studi-di-torino/tesi/runs/v5ze3olj</a><br/> View project at: <a href='https://wandb.ai/stefano-porta800-universit-degli-studi-di-torino/tesi' target=\"_blank\">https://wandb.ai/stefano-porta800-universit-degli-studi-di-torino/tesi</a><br/>Synced 5 W&B file(s), 0 media file(s), 0 artifact file(s) and 0 other file(s)"
      ]
     },
     "metadata": {},
     "output_type": "display_data"
    },
    {
     "data": {
      "text/plain": [
       "<IPython.core.display.HTML object>"
      ],
      "text/html": [
       "Find logs at: <code>./wandb/run-20241118_174330-v5ze3olj/logs</code>"
      ]
     },
     "metadata": {},
     "output_type": "display_data"
    },
    {
     "name": "stdout",
     "output_type": "stream",
     "text": [
      "Training model for global subject: state\n"
     ]
    },
    {
     "data": {
      "text/plain": [
       "Filter:   0%|          | 0/683 [00:00<?, ? examples/s]"
      ],
      "application/vnd.jupyter.widget-view+json": {
       "version_major": 2,
       "version_minor": 0,
       "model_id": "9ee72db9f05a49dfa57033a7b7f83d6d"
      }
     },
     "metadata": {},
     "output_type": "display_data"
    },
    {
     "data": {
      "text/plain": [
       "Filter:   0%|          | 0/85 [00:00<?, ? examples/s]"
      ],
      "application/vnd.jupyter.widget-view+json": {
       "version_major": 2,
       "version_minor": 0,
       "model_id": "ee9ca2dfe6384413966b3dfbc268bb2a"
      }
     },
     "metadata": {},
     "output_type": "display_data"
    },
    {
     "name": "stdout",
     "output_type": "stream",
     "text": [
      "Complete dataset size: 94\n"
     ]
    },
    {
     "data": {
      "text/plain": [
       "Flattening the indices:   0%|          | 0/94 [00:00<?, ? examples/s]"
      ],
      "application/vnd.jupyter.widget-view+json": {
       "version_major": 2,
       "version_minor": 0,
       "model_id": "429c0fc1dd544cf5a4495a32c145c48e"
      }
     },
     "metadata": {},
     "output_type": "display_data"
    },
    {
     "data": {
      "text/plain": [
       "Stringifying the column:   0%|          | 0/94 [00:00<?, ? examples/s]"
      ],
      "application/vnd.jupyter.widget-view+json": {
       "version_major": 2,
       "version_minor": 0,
       "model_id": "c05f0be592fd43238961b17a7f8afdca"
      }
     },
     "metadata": {},
     "output_type": "display_data"
    },
    {
     "data": {
      "text/plain": [
       "Casting to class labels:   0%|          | 0/94 [00:00<?, ? examples/s]"
      ],
      "application/vnd.jupyter.widget-view+json": {
       "version_major": 2,
       "version_minor": 0,
       "model_id": "65633f9223db49cf9adae46f9df14d89"
      }
     },
     "metadata": {},
     "output_type": "display_data"
    },
    {
     "name": "stdout",
     "output_type": "stream",
     "text": [
      "Train dataset size: 75, Validation dataset size: 19\n"
     ]
    },
    {
     "data": {
      "text/plain": [
       "<IPython.core.display.HTML object>"
      ],
      "text/html": [
       "Tracking run with wandb version 0.18.7"
      ]
     },
     "metadata": {},
     "output_type": "display_data"
    },
    {
     "data": {
      "text/plain": [
       "<IPython.core.display.HTML object>"
      ],
      "text/html": [
       "Run data is saved locally in <code>/home/stefa/IdeaProjects/tesi_tln/multitask_training/wandb/run-20241118_174438-lmmseunx</code>"
      ]
     },
     "metadata": {},
     "output_type": "display_data"
    },
    {
     "data": {
      "text/plain": [
       "<IPython.core.display.HTML object>"
      ],
      "text/html": [
       "Syncing run <strong><a href='https://wandb.ai/stefano-porta800-universit-degli-studi-di-torino/tesi/runs/lmmseunx' target=\"_blank\">elated-capybara-46</a></strong> to <a href='https://wandb.ai/stefano-porta800-universit-degli-studi-di-torino/tesi' target=\"_blank\">Weights & Biases</a> (<a href='https://wandb.me/developer-guide' target=\"_blank\">docs</a>)<br/>"
      ]
     },
     "metadata": {},
     "output_type": "display_data"
    },
    {
     "data": {
      "text/plain": [
       "<IPython.core.display.HTML object>"
      ],
      "text/html": [
       " View project at <a href='https://wandb.ai/stefano-porta800-universit-degli-studi-di-torino/tesi' target=\"_blank\">https://wandb.ai/stefano-porta800-universit-degli-studi-di-torino/tesi</a>"
      ]
     },
     "metadata": {},
     "output_type": "display_data"
    },
    {
     "data": {
      "text/plain": [
       "<IPython.core.display.HTML object>"
      ],
      "text/html": [
       " View run at <a href='https://wandb.ai/stefano-porta800-universit-degli-studi-di-torino/tesi/runs/lmmseunx' target=\"_blank\">https://wandb.ai/stefano-porta800-universit-degli-studi-di-torino/tesi/runs/lmmseunx</a>"
      ]
     },
     "metadata": {},
     "output_type": "display_data"
    },
    {
     "name": "stderr",
     "output_type": "stream",
     "text": [
      "Some weights of BertForSequenceClassification were not initialized from the model checkpoint at bert-base-uncased and are newly initialized: ['classifier.bias', 'classifier.weight']\n",
      "You should probably TRAIN this model on a down-stream task to be able to use it for predictions and inference.\n"
     ]
    },
    {
     "data": {
      "text/plain": [
       "<IPython.core.display.HTML object>"
      ],
      "text/html": [
       "\n",
       "    <div>\n",
       "      \n",
       "      <progress value='100' max='100' style='width:300px; height:20px; vertical-align: middle;'></progress>\n",
       "      [100/100 00:58, Epoch 20/20]\n",
       "    </div>\n",
       "    <table border=\"1\" class=\"dataframe\">\n",
       "  <thead>\n",
       " <tr style=\"text-align: left;\">\n",
       "      <th>Epoch</th>\n",
       "      <th>Training Loss</th>\n",
       "      <th>Validation Loss</th>\n",
       "      <th>Accuracy</th>\n",
       "      <th>Precision</th>\n",
       "      <th>Recall</th>\n",
       "      <th>F1</th>\n",
       "    </tr>\n",
       "  </thead>\n",
       "  <tbody>\n",
       "    <tr>\n",
       "      <td>1</td>\n",
       "      <td>3.502400</td>\n",
       "      <td>3.225173</td>\n",
       "      <td>0.368421</td>\n",
       "      <td>0.193182</td>\n",
       "      <td>0.368421</td>\n",
       "      <td>0.247542</td>\n",
       "    </tr>\n",
       "    <tr>\n",
       "      <td>2</td>\n",
       "      <td>3.109000</td>\n",
       "      <td>2.868631</td>\n",
       "      <td>0.263158</td>\n",
       "      <td>0.069252</td>\n",
       "      <td>0.263158</td>\n",
       "      <td>0.109649</td>\n",
       "    </tr>\n",
       "    <tr>\n",
       "      <td>3</td>\n",
       "      <td>2.803100</td>\n",
       "      <td>2.621925</td>\n",
       "      <td>0.263158</td>\n",
       "      <td>0.069252</td>\n",
       "      <td>0.263158</td>\n",
       "      <td>0.109649</td>\n",
       "    </tr>\n",
       "    <tr>\n",
       "      <td>4</td>\n",
       "      <td>2.582700</td>\n",
       "      <td>2.433649</td>\n",
       "      <td>0.315789</td>\n",
       "      <td>0.230994</td>\n",
       "      <td>0.315789</td>\n",
       "      <td>0.193364</td>\n",
       "    </tr>\n",
       "    <tr>\n",
       "      <td>5</td>\n",
       "      <td>2.373800</td>\n",
       "      <td>2.302485</td>\n",
       "      <td>0.368421</td>\n",
       "      <td>0.235294</td>\n",
       "      <td>0.368421</td>\n",
       "      <td>0.245933</td>\n",
       "    </tr>\n",
       "    <tr>\n",
       "      <td>6</td>\n",
       "      <td>2.129700</td>\n",
       "      <td>2.251000</td>\n",
       "      <td>0.368421</td>\n",
       "      <td>0.180162</td>\n",
       "      <td>0.368421</td>\n",
       "      <td>0.236424</td>\n",
       "    </tr>\n",
       "    <tr>\n",
       "      <td>7</td>\n",
       "      <td>2.004500</td>\n",
       "      <td>2.101247</td>\n",
       "      <td>0.473684</td>\n",
       "      <td>0.277512</td>\n",
       "      <td>0.473684</td>\n",
       "      <td>0.344925</td>\n",
       "    </tr>\n",
       "    <tr>\n",
       "      <td>8</td>\n",
       "      <td>1.924800</td>\n",
       "      <td>2.076839</td>\n",
       "      <td>0.526316</td>\n",
       "      <td>0.356459</td>\n",
       "      <td>0.526316</td>\n",
       "      <td>0.412594</td>\n",
       "    </tr>\n",
       "    <tr>\n",
       "      <td>9</td>\n",
       "      <td>1.755900</td>\n",
       "      <td>1.939108</td>\n",
       "      <td>0.526316</td>\n",
       "      <td>0.356459</td>\n",
       "      <td>0.526316</td>\n",
       "      <td>0.412594</td>\n",
       "    </tr>\n",
       "    <tr>\n",
       "      <td>10</td>\n",
       "      <td>1.653800</td>\n",
       "      <td>1.920463</td>\n",
       "      <td>0.526316</td>\n",
       "      <td>0.356459</td>\n",
       "      <td>0.526316</td>\n",
       "      <td>0.412594</td>\n",
       "    </tr>\n",
       "    <tr>\n",
       "      <td>11</td>\n",
       "      <td>1.538400</td>\n",
       "      <td>1.866656</td>\n",
       "      <td>0.526316</td>\n",
       "      <td>0.368421</td>\n",
       "      <td>0.526316</td>\n",
       "      <td>0.423559</td>\n",
       "    </tr>\n",
       "    <tr>\n",
       "      <td>12</td>\n",
       "      <td>1.504200</td>\n",
       "      <td>1.728961</td>\n",
       "      <td>0.578947</td>\n",
       "      <td>0.407895</td>\n",
       "      <td>0.578947</td>\n",
       "      <td>0.468672</td>\n",
       "    </tr>\n",
       "    <tr>\n",
       "      <td>13</td>\n",
       "      <td>1.365900</td>\n",
       "      <td>1.691786</td>\n",
       "      <td>0.631579</td>\n",
       "      <td>0.552632</td>\n",
       "      <td>0.631579</td>\n",
       "      <td>0.561404</td>\n",
       "    </tr>\n",
       "    <tr>\n",
       "      <td>14</td>\n",
       "      <td>1.294600</td>\n",
       "      <td>1.711845</td>\n",
       "      <td>0.631579</td>\n",
       "      <td>0.552632</td>\n",
       "      <td>0.631579</td>\n",
       "      <td>0.561404</td>\n",
       "    </tr>\n",
       "    <tr>\n",
       "      <td>15</td>\n",
       "      <td>1.242200</td>\n",
       "      <td>1.622961</td>\n",
       "      <td>0.631579</td>\n",
       "      <td>0.552632</td>\n",
       "      <td>0.631579</td>\n",
       "      <td>0.561404</td>\n",
       "    </tr>\n",
       "    <tr>\n",
       "      <td>16</td>\n",
       "      <td>1.214200</td>\n",
       "      <td>1.576735</td>\n",
       "      <td>0.631579</td>\n",
       "      <td>0.552632</td>\n",
       "      <td>0.631579</td>\n",
       "      <td>0.561404</td>\n",
       "    </tr>\n",
       "    <tr>\n",
       "      <td>17</td>\n",
       "      <td>1.158400</td>\n",
       "      <td>1.606178</td>\n",
       "      <td>0.631579</td>\n",
       "      <td>0.552632</td>\n",
       "      <td>0.631579</td>\n",
       "      <td>0.561404</td>\n",
       "    </tr>\n",
       "    <tr>\n",
       "      <td>18</td>\n",
       "      <td>1.138300</td>\n",
       "      <td>1.592017</td>\n",
       "      <td>0.631579</td>\n",
       "      <td>0.552632</td>\n",
       "      <td>0.631579</td>\n",
       "      <td>0.561404</td>\n",
       "    </tr>\n",
       "    <tr>\n",
       "      <td>19</td>\n",
       "      <td>1.107000</td>\n",
       "      <td>1.570405</td>\n",
       "      <td>0.631579</td>\n",
       "      <td>0.552632</td>\n",
       "      <td>0.631579</td>\n",
       "      <td>0.561404</td>\n",
       "    </tr>\n",
       "    <tr>\n",
       "      <td>20</td>\n",
       "      <td>1.117500</td>\n",
       "      <td>1.559890</td>\n",
       "      <td>0.631579</td>\n",
       "      <td>0.552632</td>\n",
       "      <td>0.631579</td>\n",
       "      <td>0.561404</td>\n",
       "    </tr>\n",
       "  </tbody>\n",
       "</table><p>"
      ]
     },
     "metadata": {},
     "output_type": "display_data"
    },
    {
     "data": {
      "text/plain": [
       "<IPython.core.display.HTML object>"
      ],
      "text/html": [
       "\n",
       "    <style>\n",
       "        .wandb-row {\n",
       "            display: flex;\n",
       "            flex-direction: row;\n",
       "            flex-wrap: wrap;\n",
       "            justify-content: flex-start;\n",
       "            width: 100%;\n",
       "        }\n",
       "        .wandb-col {\n",
       "            display: flex;\n",
       "            flex-direction: column;\n",
       "            flex-basis: 100%;\n",
       "            flex: 1;\n",
       "            padding: 10px;\n",
       "        }\n",
       "    </style>\n",
       "<div class=\"wandb-row\"><div class=\"wandb-col\"><h3>Run history:</h3><br/><table class=\"wandb\"><tr><td>eval/accuracy</td><td>▃▁▁▂▃▃▅▆▆▆▆▇████████</td></tr><tr><td>eval/f1</td><td>▃▁▁▂▃▃▅▆▆▆▆▇████████</td></tr><tr><td>eval/loss</td><td>█▇▅▅▄▄▃▃▃▃▂▂▂▂▁▁▁▁▁▁</td></tr><tr><td>eval/precision</td><td>▃▁▁▃▃▃▄▅▅▅▅▆████████</td></tr><tr><td>eval/recall</td><td>▃▁▁▂▃▃▅▆▆▆▆▇████████</td></tr><tr><td>eval/runtime</td><td>▁█▄▁▁▅▅▅▂▆▄▂▄▂▄▃▂▂▃▄</td></tr><tr><td>eval/samples_per_second</td><td>█▁▅██▃▄▃▇▂▄▇▅▇▄▅▇▇▆▅</td></tr><tr><td>eval/steps_per_second</td><td>█▁▅██▃▄▃▇▂▄▇▅▇▄▅▇▇▆▅</td></tr><tr><td>train/epoch</td><td>▁▁▁▁▂▂▂▂▂▂▃▃▃▃▄▄▄▄▄▄▅▅▅▅▅▅▆▆▆▆▇▇▇▇▇▇████</td></tr><tr><td>train/global_step</td><td>▁▁▁▁▂▂▂▂▂▂▃▃▃▃▄▄▄▄▄▄▅▅▅▅▅▅▆▆▆▆▇▇▇▇▇▇████</td></tr><tr><td>train/grad_norm</td><td>▅▆▄▄▄▄▅█▃▃▃▄▁▂▂▃▂▂▁▂</td></tr><tr><td>train/learning_rate</td><td>██▇▇▇▆▆▅▅▅▄▄▄▃▃▂▂▂▁▁</td></tr><tr><td>train/loss</td><td>█▇▆▅▅▄▄▃▃▃▂▂▂▂▁▁▁▁▁▁</td></tr></table><br/></div><div class=\"wandb-col\"><h3>Run summary:</h3><br/><table class=\"wandb\"><tr><td>eval/accuracy</td><td>0.63158</td></tr><tr><td>eval/f1</td><td>0.5614</td></tr><tr><td>eval/loss</td><td>1.55989</td></tr><tr><td>eval/precision</td><td>0.55263</td></tr><tr><td>eval/recall</td><td>0.63158</td></tr><tr><td>eval/runtime</td><td>0.0554</td></tr><tr><td>eval/samples_per_second</td><td>343.01</td></tr><tr><td>eval/steps_per_second</td><td>36.106</td></tr><tr><td>total_flos</td><td>98699423616000.0</td></tr><tr><td>train/epoch</td><td>20</td></tr><tr><td>train/global_step</td><td>100</td></tr><tr><td>train/grad_norm</td><td>6.22478</td></tr><tr><td>train/learning_rate</td><td>0</td></tr><tr><td>train/loss</td><td>1.1175</td></tr><tr><td>train_loss</td><td>1.82602</td></tr><tr><td>train_runtime</td><td>57.9946</td></tr><tr><td>train_samples_per_second</td><td>25.864</td></tr><tr><td>train_steps_per_second</td><td>1.724</td></tr></table><br/></div></div>"
      ]
     },
     "metadata": {},
     "output_type": "display_data"
    },
    {
     "data": {
      "text/plain": [
       "<IPython.core.display.HTML object>"
      ],
      "text/html": [
       " View run <strong style=\"color:#cdcd00\">elated-capybara-46</strong> at: <a href='https://wandb.ai/stefano-porta800-universit-degli-studi-di-torino/tesi/runs/lmmseunx' target=\"_blank\">https://wandb.ai/stefano-porta800-universit-degli-studi-di-torino/tesi/runs/lmmseunx</a><br/> View project at: <a href='https://wandb.ai/stefano-porta800-universit-degli-studi-di-torino/tesi' target=\"_blank\">https://wandb.ai/stefano-porta800-universit-degli-studi-di-torino/tesi</a><br/>Synced 5 W&B file(s), 0 media file(s), 0 artifact file(s) and 0 other file(s)"
      ]
     },
     "metadata": {},
     "output_type": "display_data"
    },
    {
     "data": {
      "text/plain": [
       "<IPython.core.display.HTML object>"
      ],
      "text/html": [
       "Find logs at: <code>./wandb/run-20241118_174438-lmmseunx/logs</code>"
      ]
     },
     "metadata": {},
     "output_type": "display_data"
    },
    {
     "name": "stdout",
     "output_type": "stream",
     "text": [
      "Training model for global subject: theory\n"
     ]
    },
    {
     "data": {
      "text/plain": [
       "Filter:   0%|          | 0/683 [00:00<?, ? examples/s]"
      ],
      "application/vnd.jupyter.widget-view+json": {
       "version_major": 2,
       "version_minor": 0,
       "model_id": "afda928075a542d59824ebd88e309b11"
      }
     },
     "metadata": {},
     "output_type": "display_data"
    },
    {
     "data": {
      "text/plain": [
       "Filter:   0%|          | 0/85 [00:00<?, ? examples/s]"
      ],
      "application/vnd.jupyter.widget-view+json": {
       "version_major": 2,
       "version_minor": 0,
       "model_id": "541ad3058ed6487fabec1ef480b564b3"
      }
     },
     "metadata": {},
     "output_type": "display_data"
    },
    {
     "name": "stdout",
     "output_type": "stream",
     "text": [
      "Complete dataset size: 103\n"
     ]
    },
    {
     "data": {
      "text/plain": [
       "Flattening the indices:   0%|          | 0/103 [00:00<?, ? examples/s]"
      ],
      "application/vnd.jupyter.widget-view+json": {
       "version_major": 2,
       "version_minor": 0,
       "model_id": "da644c44d5134048b66b9138f01f7279"
      }
     },
     "metadata": {},
     "output_type": "display_data"
    },
    {
     "data": {
      "text/plain": [
       "Stringifying the column:   0%|          | 0/103 [00:00<?, ? examples/s]"
      ],
      "application/vnd.jupyter.widget-view+json": {
       "version_major": 2,
       "version_minor": 0,
       "model_id": "59cca641b8da48428015f92610730d5c"
      }
     },
     "metadata": {},
     "output_type": "display_data"
    },
    {
     "data": {
      "text/plain": [
       "Casting to class labels:   0%|          | 0/103 [00:00<?, ? examples/s]"
      ],
      "application/vnd.jupyter.widget-view+json": {
       "version_major": 2,
       "version_minor": 0,
       "model_id": "28595c36c76241b0b59647ceb3bdfb99"
      }
     },
     "metadata": {},
     "output_type": "display_data"
    },
    {
     "name": "stdout",
     "output_type": "stream",
     "text": [
      "Train dataset size: 82, Validation dataset size: 21\n"
     ]
    },
    {
     "data": {
      "text/plain": [
       "<IPython.core.display.HTML object>"
      ],
      "text/html": [
       "Tracking run with wandb version 0.18.7"
      ]
     },
     "metadata": {},
     "output_type": "display_data"
    },
    {
     "data": {
      "text/plain": [
       "<IPython.core.display.HTML object>"
      ],
      "text/html": [
       "Run data is saved locally in <code>/home/stefa/IdeaProjects/tesi_tln/multitask_training/wandb/run-20241118_174539-v0gtb6bc</code>"
      ]
     },
     "metadata": {},
     "output_type": "display_data"
    },
    {
     "data": {
      "text/plain": [
       "<IPython.core.display.HTML object>"
      ],
      "text/html": [
       "Syncing run <strong><a href='https://wandb.ai/stefano-porta800-universit-degli-studi-di-torino/tesi/runs/v0gtb6bc' target=\"_blank\">woven-wildflower-47</a></strong> to <a href='https://wandb.ai/stefano-porta800-universit-degli-studi-di-torino/tesi' target=\"_blank\">Weights & Biases</a> (<a href='https://wandb.me/developer-guide' target=\"_blank\">docs</a>)<br/>"
      ]
     },
     "metadata": {},
     "output_type": "display_data"
    },
    {
     "data": {
      "text/plain": [
       "<IPython.core.display.HTML object>"
      ],
      "text/html": [
       " View project at <a href='https://wandb.ai/stefano-porta800-universit-degli-studi-di-torino/tesi' target=\"_blank\">https://wandb.ai/stefano-porta800-universit-degli-studi-di-torino/tesi</a>"
      ]
     },
     "metadata": {},
     "output_type": "display_data"
    },
    {
     "data": {
      "text/plain": [
       "<IPython.core.display.HTML object>"
      ],
      "text/html": [
       " View run at <a href='https://wandb.ai/stefano-porta800-universit-degli-studi-di-torino/tesi/runs/v0gtb6bc' target=\"_blank\">https://wandb.ai/stefano-porta800-universit-degli-studi-di-torino/tesi/runs/v0gtb6bc</a>"
      ]
     },
     "metadata": {},
     "output_type": "display_data"
    },
    {
     "name": "stderr",
     "output_type": "stream",
     "text": [
      "Some weights of BertForSequenceClassification were not initialized from the model checkpoint at bert-base-uncased and are newly initialized: ['classifier.bias', 'classifier.weight']\n",
      "You should probably TRAIN this model on a down-stream task to be able to use it for predictions and inference.\n"
     ]
    },
    {
     "data": {
      "text/plain": [
       "<IPython.core.display.HTML object>"
      ],
      "text/html": [
       "\n",
       "    <div>\n",
       "      \n",
       "      <progress value='120' max='120' style='width:300px; height:20px; vertical-align: middle;'></progress>\n",
       "      [120/120 00:58, Epoch 20/20]\n",
       "    </div>\n",
       "    <table border=\"1\" class=\"dataframe\">\n",
       "  <thead>\n",
       " <tr style=\"text-align: left;\">\n",
       "      <th>Epoch</th>\n",
       "      <th>Training Loss</th>\n",
       "      <th>Validation Loss</th>\n",
       "      <th>Accuracy</th>\n",
       "      <th>Precision</th>\n",
       "      <th>Recall</th>\n",
       "      <th>F1</th>\n",
       "    </tr>\n",
       "  </thead>\n",
       "  <tbody>\n",
       "    <tr>\n",
       "      <td>1</td>\n",
       "      <td>3.410600</td>\n",
       "      <td>3.182578</td>\n",
       "      <td>0.333333</td>\n",
       "      <td>0.111111</td>\n",
       "      <td>0.333333</td>\n",
       "      <td>0.166667</td>\n",
       "    </tr>\n",
       "    <tr>\n",
       "      <td>2</td>\n",
       "      <td>2.963300</td>\n",
       "      <td>2.776573</td>\n",
       "      <td>0.333333</td>\n",
       "      <td>0.111111</td>\n",
       "      <td>0.333333</td>\n",
       "      <td>0.166667</td>\n",
       "    </tr>\n",
       "    <tr>\n",
       "      <td>3</td>\n",
       "      <td>2.604900</td>\n",
       "      <td>2.484577</td>\n",
       "      <td>0.333333</td>\n",
       "      <td>0.111111</td>\n",
       "      <td>0.333333</td>\n",
       "      <td>0.166667</td>\n",
       "    </tr>\n",
       "    <tr>\n",
       "      <td>4</td>\n",
       "      <td>2.374500</td>\n",
       "      <td>2.239974</td>\n",
       "      <td>0.333333</td>\n",
       "      <td>0.111111</td>\n",
       "      <td>0.333333</td>\n",
       "      <td>0.166667</td>\n",
       "    </tr>\n",
       "    <tr>\n",
       "      <td>5</td>\n",
       "      <td>2.016500</td>\n",
       "      <td>2.083162</td>\n",
       "      <td>0.333333</td>\n",
       "      <td>0.111111</td>\n",
       "      <td>0.333333</td>\n",
       "      <td>0.166667</td>\n",
       "    </tr>\n",
       "    <tr>\n",
       "      <td>6</td>\n",
       "      <td>1.895500</td>\n",
       "      <td>1.915145</td>\n",
       "      <td>0.333333</td>\n",
       "      <td>0.111111</td>\n",
       "      <td>0.333333</td>\n",
       "      <td>0.166667</td>\n",
       "    </tr>\n",
       "    <tr>\n",
       "      <td>7</td>\n",
       "      <td>1.626200</td>\n",
       "      <td>1.756606</td>\n",
       "      <td>0.523810</td>\n",
       "      <td>0.375350</td>\n",
       "      <td>0.523810</td>\n",
       "      <td>0.406085</td>\n",
       "    </tr>\n",
       "    <tr>\n",
       "      <td>8</td>\n",
       "      <td>1.474600</td>\n",
       "      <td>1.566254</td>\n",
       "      <td>0.571429</td>\n",
       "      <td>0.353968</td>\n",
       "      <td>0.571429</td>\n",
       "      <td>0.428571</td>\n",
       "    </tr>\n",
       "    <tr>\n",
       "      <td>9</td>\n",
       "      <td>1.342500</td>\n",
       "      <td>1.424828</td>\n",
       "      <td>0.619048</td>\n",
       "      <td>0.460317</td>\n",
       "      <td>0.619048</td>\n",
       "      <td>0.526674</td>\n",
       "    </tr>\n",
       "    <tr>\n",
       "      <td>10</td>\n",
       "      <td>1.174600</td>\n",
       "      <td>1.317999</td>\n",
       "      <td>0.714286</td>\n",
       "      <td>0.622222</td>\n",
       "      <td>0.714286</td>\n",
       "      <td>0.652865</td>\n",
       "    </tr>\n",
       "    <tr>\n",
       "      <td>11</td>\n",
       "      <td>1.012700</td>\n",
       "      <td>1.244303</td>\n",
       "      <td>0.714286</td>\n",
       "      <td>0.614286</td>\n",
       "      <td>0.714286</td>\n",
       "      <td>0.651381</td>\n",
       "    </tr>\n",
       "    <tr>\n",
       "      <td>12</td>\n",
       "      <td>0.819300</td>\n",
       "      <td>1.189964</td>\n",
       "      <td>0.666667</td>\n",
       "      <td>0.662698</td>\n",
       "      <td>0.666667</td>\n",
       "      <td>0.649546</td>\n",
       "    </tr>\n",
       "    <tr>\n",
       "      <td>13</td>\n",
       "      <td>0.809700</td>\n",
       "      <td>1.158305</td>\n",
       "      <td>0.619048</td>\n",
       "      <td>0.560317</td>\n",
       "      <td>0.619048</td>\n",
       "      <td>0.580952</td>\n",
       "    </tr>\n",
       "    <tr>\n",
       "      <td>14</td>\n",
       "      <td>0.698400</td>\n",
       "      <td>1.099935</td>\n",
       "      <td>0.714286</td>\n",
       "      <td>0.698413</td>\n",
       "      <td>0.714286</td>\n",
       "      <td>0.694444</td>\n",
       "    </tr>\n",
       "    <tr>\n",
       "      <td>15</td>\n",
       "      <td>0.526300</td>\n",
       "      <td>1.065880</td>\n",
       "      <td>0.761905</td>\n",
       "      <td>0.773810</td>\n",
       "      <td>0.761905</td>\n",
       "      <td>0.758730</td>\n",
       "    </tr>\n",
       "    <tr>\n",
       "      <td>16</td>\n",
       "      <td>0.465200</td>\n",
       "      <td>1.065699</td>\n",
       "      <td>0.714286</td>\n",
       "      <td>0.738095</td>\n",
       "      <td>0.714286</td>\n",
       "      <td>0.713832</td>\n",
       "    </tr>\n",
       "    <tr>\n",
       "      <td>17</td>\n",
       "      <td>0.467800</td>\n",
       "      <td>1.064358</td>\n",
       "      <td>0.714286</td>\n",
       "      <td>0.702381</td>\n",
       "      <td>0.714286</td>\n",
       "      <td>0.704762</td>\n",
       "    </tr>\n",
       "    <tr>\n",
       "      <td>18</td>\n",
       "      <td>0.431100</td>\n",
       "      <td>1.039860</td>\n",
       "      <td>0.761905</td>\n",
       "      <td>0.750000</td>\n",
       "      <td>0.761905</td>\n",
       "      <td>0.752381</td>\n",
       "    </tr>\n",
       "    <tr>\n",
       "      <td>19</td>\n",
       "      <td>0.417400</td>\n",
       "      <td>1.020430</td>\n",
       "      <td>0.761905</td>\n",
       "      <td>0.750000</td>\n",
       "      <td>0.761905</td>\n",
       "      <td>0.752381</td>\n",
       "    </tr>\n",
       "    <tr>\n",
       "      <td>20</td>\n",
       "      <td>0.406800</td>\n",
       "      <td>1.014697</td>\n",
       "      <td>0.761905</td>\n",
       "      <td>0.750000</td>\n",
       "      <td>0.761905</td>\n",
       "      <td>0.752381</td>\n",
       "    </tr>\n",
       "  </tbody>\n",
       "</table><p>"
      ]
     },
     "metadata": {},
     "output_type": "display_data"
    },
    {
     "data": {
      "text/plain": [
       "<IPython.core.display.HTML object>"
      ],
      "text/html": [
       "\n",
       "    <style>\n",
       "        .wandb-row {\n",
       "            display: flex;\n",
       "            flex-direction: row;\n",
       "            flex-wrap: wrap;\n",
       "            justify-content: flex-start;\n",
       "            width: 100%;\n",
       "        }\n",
       "        .wandb-col {\n",
       "            display: flex;\n",
       "            flex-direction: column;\n",
       "            flex-basis: 100%;\n",
       "            flex: 1;\n",
       "            padding: 10px;\n",
       "        }\n",
       "    </style>\n",
       "<div class=\"wandb-row\"><div class=\"wandb-col\"><h3>Run history:</h3><br/><table class=\"wandb\"><tr><td>eval/accuracy</td><td>▁▁▁▁▁▁▄▅▆▇▇▆▆▇█▇▇███</td></tr><tr><td>eval/f1</td><td>▁▁▁▁▁▁▄▄▅▇▇▇▆▇█▇▇███</td></tr><tr><td>eval/loss</td><td>█▇▆▅▄▄▃▃▂▂▂▂▁▁▁▁▁▁▁▁</td></tr><tr><td>eval/precision</td><td>▁▁▁▁▁▁▄▄▅▆▆▇▆▇██▇███</td></tr><tr><td>eval/recall</td><td>▁▁▁▁▁▁▄▅▆▇▇▆▆▇█▇▇███</td></tr><tr><td>eval/runtime</td><td>▅▄▄▁█▃▂▃▇▃▃▄▄▂▃▅▇▂▃▄</td></tr><tr><td>eval/samples_per_second</td><td>▄▅▅█▁▆▆▆▂▆▅▅▅▇▆▄▂▇▅▅</td></tr><tr><td>eval/steps_per_second</td><td>▄▅▅█▁▆▆▆▂▆▅▅▅▇▆▄▂▇▅▅</td></tr><tr><td>train/epoch</td><td>▁▁▁▁▂▂▂▂▂▂▃▃▃▃▄▄▄▄▄▄▅▅▅▅▅▅▆▆▆▆▇▇▇▇▇▇████</td></tr><tr><td>train/global_step</td><td>▁▁▁▁▂▂▂▂▂▂▃▃▃▃▄▄▄▄▄▄▅▅▅▅▅▅▆▆▆▆▇▇▇▇▇▇████</td></tr><tr><td>train/grad_norm</td><td>▇▇▇▇█▅▆▇▅▇▅▄▅▅▁▁▄▃▃▂</td></tr><tr><td>train/learning_rate</td><td>██▇▇▇▆▆▅▅▅▄▄▄▃▃▂▂▂▁▁</td></tr><tr><td>train/loss</td><td>█▇▆▆▅▄▄▃▃▃▂▂▂▂▁▁▁▁▁▁</td></tr></table><br/></div><div class=\"wandb-col\"><h3>Run summary:</h3><br/><table class=\"wandb\"><tr><td>eval/accuracy</td><td>0.7619</td></tr><tr><td>eval/f1</td><td>0.75238</td></tr><tr><td>eval/loss</td><td>1.0147</td></tr><tr><td>eval/precision</td><td>0.75</td></tr><tr><td>eval/recall</td><td>0.7619</td></tr><tr><td>eval/runtime</td><td>0.0573</td></tr><tr><td>eval/samples_per_second</td><td>366.664</td></tr><tr><td>eval/steps_per_second</td><td>34.92</td></tr><tr><td>total_flos</td><td>107911369820160.0</td></tr><tr><td>train/epoch</td><td>20</td></tr><tr><td>train/global_step</td><td>120</td></tr><tr><td>train/grad_norm</td><td>4.5033</td></tr><tr><td>train/learning_rate</td><td>0</td></tr><tr><td>train/loss</td><td>0.4068</td></tr><tr><td>train_loss</td><td>1.34689</td></tr><tr><td>train_runtime</td><td>58.3417</td></tr><tr><td>train_samples_per_second</td><td>28.11</td></tr><tr><td>train_steps_per_second</td><td>2.057</td></tr></table><br/></div></div>"
      ]
     },
     "metadata": {},
     "output_type": "display_data"
    },
    {
     "data": {
      "text/plain": [
       "<IPython.core.display.HTML object>"
      ],
      "text/html": [
       " View run <strong style=\"color:#cdcd00\">woven-wildflower-47</strong> at: <a href='https://wandb.ai/stefano-porta800-universit-degli-studi-di-torino/tesi/runs/v0gtb6bc' target=\"_blank\">https://wandb.ai/stefano-porta800-universit-degli-studi-di-torino/tesi/runs/v0gtb6bc</a><br/> View project at: <a href='https://wandb.ai/stefano-porta800-universit-degli-studi-di-torino/tesi' target=\"_blank\">https://wandb.ai/stefano-porta800-universit-degli-studi-di-torino/tesi</a><br/>Synced 5 W&B file(s), 0 media file(s), 0 artifact file(s) and 0 other file(s)"
      ]
     },
     "metadata": {},
     "output_type": "display_data"
    },
    {
     "data": {
      "text/plain": [
       "<IPython.core.display.HTML object>"
      ],
      "text/html": [
       "Find logs at: <code>./wandb/run-20241118_174539-v0gtb6bc/logs</code>"
      ]
     },
     "metadata": {},
     "output_type": "display_data"
    },
    {
     "name": "stdout",
     "output_type": "stream",
     "text": [
      "Training model for global subject: off_topic\n"
     ]
    },
    {
     "data": {
      "text/plain": [
       "Filter:   0%|          | 0/683 [00:00<?, ? examples/s]"
      ],
      "application/vnd.jupyter.widget-view+json": {
       "version_major": 2,
       "version_minor": 0,
       "model_id": "813da67704ae46dbb80950ddea93418e"
      }
     },
     "metadata": {},
     "output_type": "display_data"
    },
    {
     "data": {
      "text/plain": [
       "Filter:   0%|          | 0/85 [00:00<?, ? examples/s]"
      ],
      "application/vnd.jupyter.widget-view+json": {
       "version_major": 2,
       "version_minor": 0,
       "model_id": "31104c97ab2945ed88592b3f6a4e74ca"
      }
     },
     "metadata": {},
     "output_type": "display_data"
    },
    {
     "name": "stdout",
     "output_type": "stream",
     "text": [
      "Complete dataset size: 96\n"
     ]
    },
    {
     "data": {
      "text/plain": [
       "Flattening the indices:   0%|          | 0/96 [00:00<?, ? examples/s]"
      ],
      "application/vnd.jupyter.widget-view+json": {
       "version_major": 2,
       "version_minor": 0,
       "model_id": "4d25f7a02f084c0492dadedd4c201f6c"
      }
     },
     "metadata": {},
     "output_type": "display_data"
    },
    {
     "name": "stdout",
     "output_type": "stream",
     "text": [
      "Skipping training for off_topic as it has only one subtopic\n"
     ]
    }
   ],
   "execution_count": 18
  }
 ],
 "metadata": {
  "kernelspec": {
   "display_name": "Python 3",
   "language": "python",
   "name": "python3"
  },
  "language_info": {
   "codemirror_mode": {
    "name": "ipython",
    "version": 2
   },
   "file_extension": ".py",
   "mimetype": "text/x-python",
   "name": "python",
   "nbconvert_exporter": "python",
   "pygments_lexer": "ipython2",
   "version": "2.7.6"
  }
 },
 "nbformat": 4,
 "nbformat_minor": 5
}
