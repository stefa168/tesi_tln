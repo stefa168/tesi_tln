{
 "cells": [
  {
   "cell_type": "code",
   "id": "initial_id",
   "metadata": {
    "collapsed": true,
    "ExecuteTime": {
     "end_time": "2024-11-17T23:34:34.109920Z",
     "start_time": "2024-11-17T23:34:34.104809Z"
    }
   },
   "source": [
    "import pandas as pd\n",
    "from datasets import Dataset, concatenate_datasets\n",
    "\n",
    "df = pd.read_csv('./data_cleaned_manual_combined.csv')\n",
    "\n",
    "labels_gs = df['Global Subject'].unique()\n",
    "labels_qi = df['Question Intent'].unique()\n",
    "\n",
    "id2label_gs = {i: label for i, label in enumerate(labels_gs)}\n",
    "label2id_gs = {label: i for i, label in enumerate(labels_gs)}\n",
    "\n",
    "id2label_qi = {i: label for i, label in enumerate(labels_qi)}\n",
    "label2id_qi = {label: i for i, label in enumerate(labels_qi)}"
   ],
   "outputs": [],
   "execution_count": 107
  },
  {
   "metadata": {
    "ExecuteTime": {
     "end_time": "2024-11-17T23:34:35.474334Z",
     "start_time": "2024-11-17T23:34:35.288105Z"
    }
   },
   "cell_type": "code",
   "source": [
    "from transformers import AutoTokenizer, AutoModelForSequenceClassification\n",
    "import numpy as np\n",
    "\n",
    "# https://huggingface.co/docs/transformers/v4.46.2/en/model_doc/auto#transformers.AutoTokenizer.from_pretrained\n",
    "# https://huggingface.co/docs/transformers/v4.46.2/en/model_doc/bert#transformers.BertTokenizer\n",
    "tokenizer = AutoTokenizer.from_pretrained('bert-base-uncased')\n",
    "\n",
    "\n",
    "def preprocess_data(example):\n",
    "    question = example['Question']\n",
    "\n",
    "    # https://huggingface.co/docs/transformers/v4.46.2/en/main_classes/tokenizer#transformers.PreTrainedTokenizer.__call__\n",
    "    encodings = tokenizer(question, padding=\"max_length\", truncation=True, max_length=128)\n",
    "    label_gs = label2id_gs[example['Global Subject']]\n",
    "    label_qi = label2id_qi[example['Question Intent']]\n",
    "\n",
    "    encodings.update({'labels': label_gs, 'labels_sub': label_qi})\n",
    "\n",
    "    return encodings"
   ],
   "id": "d29680c0abd39d26",
   "outputs": [],
   "execution_count": 108
  },
  {
   "metadata": {
    "ExecuteTime": {
     "end_time": "2024-11-17T23:34:31.901792Z",
     "start_time": "2024-11-17T23:34:31.725539Z"
    }
   },
   "cell_type": "code",
   "source": [
    "from sklearn.model_selection import StratifiedShuffleSplit\n",
    "import pandas as pd\n",
    "from datasets import Dataset\n",
    "\n",
    "# Assuming df is your DataFrame and it has a column 'Global Subject' for stratification\n",
    "df = pd.read_csv('./data_cleaned_manual_combined.csv')\n",
    "\n",
    "# Create the stratified split\n",
    "split = StratifiedShuffleSplit(n_splits=1, test_size=0.2, random_state=42)\n",
    "for train_index, test_index in split.split(df, df['Global Subject']):\n",
    "    strat_train_set = df.loc[train_index]\n",
    "    strat_test_set = df.loc[test_index]\n",
    "\n",
    "# Reset index of strat_test_set\n",
    "strat_test_set = strat_test_set.reset_index(drop=True)\n",
    "\n",
    "# Further split the test set into validation and test sets\n",
    "split = StratifiedShuffleSplit(n_splits=1, test_size=0.5, random_state=42)\n",
    "for val_index, test_index in split.split(strat_test_set, strat_test_set['Global Subject']):\n",
    "    strat_val_set = strat_test_set.loc[val_index]\n",
    "    strat_test_set = strat_test_set.loc[test_index]\n",
    "\n",
    "# Convert to Hugging Face Dataset\n",
    "train_dataset = Dataset.from_pandas(strat_train_set)\n",
    "eval_dataset = Dataset.from_pandas(strat_val_set)\n",
    "test_dataset = Dataset.from_pandas(strat_test_set)\n",
    "\n",
    "# Tokenize the datasets\n",
    "train_dataset = train_dataset.map(preprocess_data, remove_columns=train_dataset.column_names)\n",
    "eval_dataset = eval_dataset.map(preprocess_data, remove_columns=eval_dataset.column_names)\n",
    "test_dataset = test_dataset.map(preprocess_data, remove_columns=test_dataset.column_names)\n",
    "\n",
    "train_dataset.set_format(\"torch\")\n",
    "eval_dataset.set_format(\"torch\")\n",
    "test_dataset.set_format(\"torch\")"
   ],
   "id": "b3687de51a6b6a8",
   "outputs": [
    {
     "data": {
      "text/plain": [
       "Map:   0%|          | 0/683 [00:00<?, ? examples/s]"
      ],
      "application/vnd.jupyter.widget-view+json": {
       "version_major": 2,
       "version_minor": 0,
       "model_id": "31de9e66b41640ee93946b1a4de22750"
      }
     },
     "metadata": {},
     "output_type": "display_data"
    },
    {
     "data": {
      "text/plain": [
       "Map:   0%|          | 0/85 [00:00<?, ? examples/s]"
      ],
      "application/vnd.jupyter.widget-view+json": {
       "version_major": 2,
       "version_minor": 0,
       "model_id": "336cafcfeb524faea867ddb14db9a748"
      }
     },
     "metadata": {},
     "output_type": "display_data"
    },
    {
     "data": {
      "text/plain": [
       "Map:   0%|          | 0/86 [00:00<?, ? examples/s]"
      ],
      "application/vnd.jupyter.widget-view+json": {
       "version_major": 2,
       "version_minor": 0,
       "model_id": "72838c8eeecf46cd81fea72700b441b0"
      }
     },
     "metadata": {},
     "output_type": "display_data"
    }
   ],
   "execution_count": 106
  },
  {
   "metadata": {
    "ExecuteTime": {
     "end_time": "2024-11-17T22:46:56.606053Z",
     "start_time": "2024-11-17T22:46:56.603406Z"
    }
   },
   "cell_type": "code",
   "source": [
    "from sklearn.metrics import accuracy_score, precision_recall_fscore_support\n",
    "\n",
    "\n",
    "def compute_metrics(eval_pred):\n",
    "    predictions, labels = eval_pred\n",
    "    preds = np.argmax(predictions, axis=1)\n",
    "    acc = accuracy_score(labels, preds)\n",
    "    precision, recall, f1, _ = precision_recall_fscore_support(labels, preds, average='weighted', zero_division=0)\n",
    "    metrics = {\n",
    "        'accuracy': acc,\n",
    "        'precision': precision,\n",
    "        'recall': recall,\n",
    "        'f1': f1,\n",
    "    }\n",
    "    return metrics"
   ],
   "id": "40a3873b34c0a83a",
   "outputs": [],
   "execution_count": 47
  },
  {
   "metadata": {
    "ExecuteTime": {
     "end_time": "2024-11-17T22:46:56.660700Z",
     "start_time": "2024-11-17T22:46:56.657681Z"
    }
   },
   "cell_type": "code",
   "source": [
    "import torch\n",
    "\n",
    "print(f\"CUDA available: {torch.cuda.is_available()}\")\n",
    "print(f\"Number of GPUs: {torch.cuda.device_count()}\")\n",
    "print(f\"Current CUDA device: {torch.cuda.current_device()}\")\n",
    "print(f\"Device name: {torch.cuda.get_device_name(torch.cuda.current_device())}\")"
   ],
   "id": "214ab54e6af2e24c",
   "outputs": [
    {
     "name": "stdout",
     "output_type": "stream",
     "text": [
      "CUDA available: True\n",
      "Number of GPUs: 1\n",
      "Current CUDA device: 0\n",
      "Device name: NVIDIA GeForce RTX 3070 Ti\n"
     ]
    }
   ],
   "execution_count": 48
  },
  {
   "metadata": {
    "ExecuteTime": {
     "end_time": "2024-11-17T22:47:01.428533Z",
     "start_time": "2024-11-17T22:46:56.716673Z"
    }
   },
   "cell_type": "code",
   "source": [
    "import wandb\n",
    "\n",
    "wandb.init(project='tesi', tags=['hierarchical-pipeline'], description='Model only for the main subject classification')"
   ],
   "id": "bb8d794aba42d7b2",
   "outputs": [
    {
     "data": {
      "text/plain": [
       "<IPython.core.display.HTML object>"
      ],
      "text/html": [
       "Finishing last run (ID:qiq7e62g) before initializing another..."
      ]
     },
     "metadata": {},
     "output_type": "display_data"
    },
    {
     "data": {
      "text/plain": [
       "VBox(children=(Label(value='0.087 MB of 0.087 MB uploaded\\r'), FloatProgress(value=1.0, max=1.0)))"
      ],
      "application/vnd.jupyter.widget-view+json": {
       "version_major": 2,
       "version_minor": 0,
       "model_id": "0c8751aa138a4dd3b582e808da2f7a9b"
      }
     },
     "metadata": {},
     "output_type": "display_data"
    },
    {
     "data": {
      "text/plain": [
       "<IPython.core.display.HTML object>"
      ],
      "text/html": [
       "\n",
       "    <style>\n",
       "        .wandb-row {\n",
       "            display: flex;\n",
       "            flex-direction: row;\n",
       "            flex-wrap: wrap;\n",
       "            justify-content: flex-start;\n",
       "            width: 100%;\n",
       "        }\n",
       "        .wandb-col {\n",
       "            display: flex;\n",
       "            flex-direction: column;\n",
       "            flex-basis: 100%;\n",
       "            flex: 1;\n",
       "            padding: 10px;\n",
       "        }\n",
       "    </style>\n",
       "<div class=\"wandb-row\"><div class=\"wandb-col\"><h3>Run history:</h3><br/><table class=\"wandb\"><tr><td>eval/accuracy</td><td>▁▅▇▇█▇██▇███████████</td></tr><tr><td>eval/f1</td><td>▁▆▇▇█▇██████████████</td></tr><tr><td>eval/loss</td><td>█▅▃▁▁▁▁▂▂▁▂▂▂▂▂▂▂▂▂▂</td></tr><tr><td>eval/precision</td><td>▁▆▇█████████████████</td></tr><tr><td>eval/recall</td><td>▁▅▇▇█▇██▇███████████</td></tr><tr><td>eval/runtime</td><td>▆▃▁▄▃▂▂▂▃▂▁▅▄▂▂█▂▇▃▅</td></tr><tr><td>eval/samples_per_second</td><td>▂▆▇▄▆▆▆▆▆▇█▃▄▆▇▁▇▂▆▄</td></tr><tr><td>eval/steps_per_second</td><td>▂▆▇▄▆▆▆▆▆▇█▃▄▆▇▁▇▂▆▄</td></tr><tr><td>train/epoch</td><td>▁▁▁▁▂▂▂▂▂▂▃▃▃▃▄▄▄▄▄▄▅▅▅▅▅▅▆▆▆▆▇▇▇▇▇▇████</td></tr><tr><td>train/global_step</td><td>▁▁▁▁▂▂▂▂▂▂▃▃▃▃▄▄▄▄▄▄▅▅▅▅▅▅▆▆▆▆▇▇▇▇▇▇████</td></tr><tr><td>train/grad_norm</td><td>▃▄▆▇█▂▃▃▁▂▁▁▁▁▁▁▁▁▁▁</td></tr><tr><td>train/learning_rate</td><td>▅██▇▇▆▆▆▅▅▅▄▄▃▃▃▂▂▁▁</td></tr><tr><td>train/loss</td><td>█▇▅▃▂▂▁▁▁▁▁▁▁▁▁▁▁▁▁▁</td></tr></table><br/></div><div class=\"wandb-col\"><h3>Run summary:</h3><br/><table class=\"wandb\"><tr><td>eval/accuracy</td><td>0.87059</td></tr><tr><td>eval/f1</td><td>0.86863</td></tr><tr><td>eval/loss</td><td>0.6567</td></tr><tr><td>eval/precision</td><td>0.87895</td></tr><tr><td>eval/recall</td><td>0.87059</td></tr><tr><td>eval/runtime</td><td>0.1307</td></tr><tr><td>eval/samples_per_second</td><td>650.303</td></tr><tr><td>eval/steps_per_second</td><td>45.904</td></tr><tr><td>total_flos</td><td>453078899896320.0</td></tr><tr><td>train/epoch</td><td>20</td></tr><tr><td>train/global_step</td><td>860</td></tr><tr><td>train/grad_norm</td><td>0.10212</td></tr><tr><td>train/learning_rate</td><td>0</td></tr><tr><td>train/loss</td><td>0.0101</td></tr><tr><td>train_loss</td><td>0.29443</td></tr><tr><td>train_runtime</td><td>132.3216</td></tr><tr><td>train_samples_per_second</td><td>103.384</td></tr><tr><td>train_steps_per_second</td><td>6.499</td></tr></table><br/></div></div>"
      ]
     },
     "metadata": {},
     "output_type": "display_data"
    },
    {
     "data": {
      "text/plain": [
       "<IPython.core.display.HTML object>"
      ],
      "text/html": [
       " View run <strong style=\"color:#cdcd00\">celestial-totem-11</strong> at: <a href='https://wandb.ai/stefano-porta800-universit-degli-studi-di-torino/tesi/runs/qiq7e62g' target=\"_blank\">https://wandb.ai/stefano-porta800-universit-degli-studi-di-torino/tesi/runs/qiq7e62g</a><br/> View project at: <a href='https://wandb.ai/stefano-porta800-universit-degli-studi-di-torino/tesi' target=\"_blank\">https://wandb.ai/stefano-porta800-universit-degli-studi-di-torino/tesi</a><br/>Synced 4 W&B file(s), 0 media file(s), 3 artifact file(s) and 0 other file(s)"
      ]
     },
     "metadata": {},
     "output_type": "display_data"
    },
    {
     "data": {
      "text/plain": [
       "<IPython.core.display.HTML object>"
      ],
      "text/html": [
       "Find logs at: <code>./wandb/run-20241117_233200-qiq7e62g/logs</code>"
      ]
     },
     "metadata": {},
     "output_type": "display_data"
    },
    {
     "data": {
      "text/plain": [
       "<IPython.core.display.HTML object>"
      ],
      "text/html": [
       "Successfully finished last run (ID:qiq7e62g). Initializing new run:<br/>"
      ]
     },
     "metadata": {},
     "output_type": "display_data"
    },
    {
     "data": {
      "text/plain": [
       "<IPython.core.display.HTML object>"
      ],
      "text/html": [
       "Tracking run with wandb version 0.18.7"
      ]
     },
     "metadata": {},
     "output_type": "display_data"
    },
    {
     "data": {
      "text/plain": [
       "<IPython.core.display.HTML object>"
      ],
      "text/html": [
       "Run data is saved locally in <code>/home/stefa/IdeaProjects/tesi_tln/multitask_training/wandb/run-20241117_234656-s0we5cea</code>"
      ]
     },
     "metadata": {},
     "output_type": "display_data"
    },
    {
     "data": {
      "text/plain": [
       "<IPython.core.display.HTML object>"
      ],
      "text/html": [
       "Syncing run <strong><a href='https://wandb.ai/stefano-porta800-universit-degli-studi-di-torino/tesi/runs/s0we5cea' target=\"_blank\">different-rain-12</a></strong> to <a href='https://wandb.ai/stefano-porta800-universit-degli-studi-di-torino/tesi' target=\"_blank\">Weights & Biases</a> (<a href='https://wandb.me/developer-guide' target=\"_blank\">docs</a>)<br/>"
      ]
     },
     "metadata": {},
     "output_type": "display_data"
    },
    {
     "data": {
      "text/plain": [
       "<IPython.core.display.HTML object>"
      ],
      "text/html": [
       " View project at <a href='https://wandb.ai/stefano-porta800-universit-degli-studi-di-torino/tesi' target=\"_blank\">https://wandb.ai/stefano-porta800-universit-degli-studi-di-torino/tesi</a>"
      ]
     },
     "metadata": {},
     "output_type": "display_data"
    },
    {
     "data": {
      "text/plain": [
       "<IPython.core.display.HTML object>"
      ],
      "text/html": [
       " View run at <a href='https://wandb.ai/stefano-porta800-universit-degli-studi-di-torino/tesi/runs/s0we5cea' target=\"_blank\">https://wandb.ai/stefano-porta800-universit-degli-studi-di-torino/tesi/runs/s0we5cea</a>"
      ]
     },
     "metadata": {},
     "output_type": "display_data"
    },
    {
     "data": {
      "text/html": [
       "<button onClick=\"this.nextSibling.style.display='block';this.style.display='none';\">Display W&B run</button><iframe src='https://wandb.ai/stefano-porta800-universit-degli-studi-di-torino/tesi/runs/s0we5cea?jupyter=true' style='border:none;width:100%;height:420px;display:none;'></iframe>"
      ],
      "text/plain": [
       "<wandb.sdk.wandb_run.Run at 0x77b0857b3ec0>"
      ]
     },
     "execution_count": 49,
     "metadata": {},
     "output_type": "execute_result"
    }
   ],
   "execution_count": 49
  },
  {
   "metadata": {
    "ExecuteTime": {
     "end_time": "2024-11-17T22:49:05.214393Z",
     "start_time": "2024-11-17T22:47:01.447254Z"
    }
   },
   "cell_type": "code",
   "source": [
    "from transformers import TrainingArguments, Trainer\n",
    "\n",
    "model = AutoModelForSequenceClassification.from_pretrained('distilbert-base-uncased', num_labels=len(labels_gs))\n",
    "\n",
    "device = torch.device('cuda' if torch.cuda.is_available() else 'cpu')\n",
    "model.to(device)\n",
    "\n",
    "training_args = TrainingArguments(\n",
    "    output_dir='./results',\n",
    "    num_train_epochs=20,\n",
    "    learning_rate=2e-5,\n",
    "    warmup_ratio=0.1,  # Warmup for the first 10% of steps\n",
    "    lr_scheduler_type='linear',  # Linear scheduler\n",
    "    per_device_train_batch_size=16,\n",
    "    per_device_eval_batch_size=16,\n",
    "    save_strategy='epoch',\n",
    "    logging_strategy='epoch',\n",
    "    eval_strategy='epoch',\n",
    "    logging_dir='./logs',\n",
    "    load_best_model_at_end=True,  # Load the best model at the end based on evaluation metric\n",
    "    metric_for_best_model='f1',  # Use subtopic F1-score to determine the best model\n",
    "    greater_is_better=True,  # Higher metric indicates a better model,\n",
    "    report_to='wandb'\n",
    ")\n",
    "\n",
    "trainer = Trainer(\n",
    "    model=model,\n",
    "    args=training_args,\n",
    "    train_dataset=train_dataset,\n",
    "    eval_dataset=eval_dataset,\n",
    "    processing_class=tokenizer,\n",
    "    compute_metrics=compute_metrics\n",
    ")\n",
    "\n",
    "print(f\"Trainer is using device: {trainer.args.device}\")\n",
    "\n",
    "trainer.train()\n",
    "\n",
    "wandb.finish()"
   ],
   "id": "a6123a5aed0b22d8",
   "outputs": [
    {
     "name": "stderr",
     "output_type": "stream",
     "text": [
      "Some weights of DistilBertForSequenceClassification were not initialized from the model checkpoint at distilbert-base-uncased and are newly initialized: ['classifier.bias', 'classifier.weight', 'pre_classifier.bias', 'pre_classifier.weight']\n",
      "You should probably TRAIN this model on a down-stream task to be able to use it for predictions and inference.\n"
     ]
    },
    {
     "name": "stdout",
     "output_type": "stream",
     "text": [
      "Trainer is using device: cuda:0\n"
     ]
    },
    {
     "data": {
      "text/plain": [
       "<IPython.core.display.HTML object>"
      ],
      "text/html": [
       "\n",
       "    <div>\n",
       "      \n",
       "      <progress value='860' max='860' style='width:300px; height:20px; vertical-align: middle;'></progress>\n",
       "      [860/860 02:00, Epoch 20/20]\n",
       "    </div>\n",
       "    <table border=\"1\" class=\"dataframe\">\n",
       "  <thead>\n",
       " <tr style=\"text-align: left;\">\n",
       "      <th>Epoch</th>\n",
       "      <th>Training Loss</th>\n",
       "      <th>Validation Loss</th>\n",
       "      <th>Accuracy</th>\n",
       "      <th>Precision</th>\n",
       "      <th>Recall</th>\n",
       "      <th>F1</th>\n",
       "    </tr>\n",
       "  </thead>\n",
       "  <tbody>\n",
       "    <tr>\n",
       "      <td>1</td>\n",
       "      <td>1.883700</td>\n",
       "      <td>1.776035</td>\n",
       "      <td>0.258824</td>\n",
       "      <td>0.067787</td>\n",
       "      <td>0.258824</td>\n",
       "      <td>0.107436</td>\n",
       "    </tr>\n",
       "    <tr>\n",
       "      <td>2</td>\n",
       "      <td>1.580600</td>\n",
       "      <td>1.297910</td>\n",
       "      <td>0.647059</td>\n",
       "      <td>0.700503</td>\n",
       "      <td>0.647059</td>\n",
       "      <td>0.613204</td>\n",
       "    </tr>\n",
       "    <tr>\n",
       "      <td>3</td>\n",
       "      <td>0.995900</td>\n",
       "      <td>0.842160</td>\n",
       "      <td>0.764706</td>\n",
       "      <td>0.767712</td>\n",
       "      <td>0.764706</td>\n",
       "      <td>0.740746</td>\n",
       "    </tr>\n",
       "    <tr>\n",
       "      <td>4</td>\n",
       "      <td>0.535600</td>\n",
       "      <td>0.598027</td>\n",
       "      <td>0.823529</td>\n",
       "      <td>0.834118</td>\n",
       "      <td>0.823529</td>\n",
       "      <td>0.813242</td>\n",
       "    </tr>\n",
       "    <tr>\n",
       "      <td>5</td>\n",
       "      <td>0.291100</td>\n",
       "      <td>0.523984</td>\n",
       "      <td>0.858824</td>\n",
       "      <td>0.863298</td>\n",
       "      <td>0.858824</td>\n",
       "      <td>0.853581</td>\n",
       "    </tr>\n",
       "    <tr>\n",
       "      <td>6</td>\n",
       "      <td>0.175500</td>\n",
       "      <td>0.562138</td>\n",
       "      <td>0.823529</td>\n",
       "      <td>0.836602</td>\n",
       "      <td>0.823529</td>\n",
       "      <td>0.818080</td>\n",
       "    </tr>\n",
       "    <tr>\n",
       "      <td>7</td>\n",
       "      <td>0.113500</td>\n",
       "      <td>0.556099</td>\n",
       "      <td>0.858824</td>\n",
       "      <td>0.857020</td>\n",
       "      <td>0.858824</td>\n",
       "      <td>0.855603</td>\n",
       "    </tr>\n",
       "    <tr>\n",
       "      <td>8</td>\n",
       "      <td>0.072800</td>\n",
       "      <td>0.617508</td>\n",
       "      <td>0.858824</td>\n",
       "      <td>0.864540</td>\n",
       "      <td>0.858824</td>\n",
       "      <td>0.855683</td>\n",
       "    </tr>\n",
       "    <tr>\n",
       "      <td>9</td>\n",
       "      <td>0.049500</td>\n",
       "      <td>0.639980</td>\n",
       "      <td>0.835294</td>\n",
       "      <td>0.845289</td>\n",
       "      <td>0.835294</td>\n",
       "      <td>0.831728</td>\n",
       "    </tr>\n",
       "    <tr>\n",
       "      <td>10</td>\n",
       "      <td>0.035400</td>\n",
       "      <td>0.575449</td>\n",
       "      <td>0.870588</td>\n",
       "      <td>0.877843</td>\n",
       "      <td>0.870588</td>\n",
       "      <td>0.869100</td>\n",
       "    </tr>\n",
       "    <tr>\n",
       "      <td>11</td>\n",
       "      <td>0.030900</td>\n",
       "      <td>0.653078</td>\n",
       "      <td>0.858824</td>\n",
       "      <td>0.868301</td>\n",
       "      <td>0.858824</td>\n",
       "      <td>0.855072</td>\n",
       "    </tr>\n",
       "    <tr>\n",
       "      <td>12</td>\n",
       "      <td>0.020400</td>\n",
       "      <td>0.624803</td>\n",
       "      <td>0.870588</td>\n",
       "      <td>0.878954</td>\n",
       "      <td>0.870588</td>\n",
       "      <td>0.868627</td>\n",
       "    </tr>\n",
       "    <tr>\n",
       "      <td>13</td>\n",
       "      <td>0.019400</td>\n",
       "      <td>0.649290</td>\n",
       "      <td>0.870588</td>\n",
       "      <td>0.878954</td>\n",
       "      <td>0.870588</td>\n",
       "      <td>0.868627</td>\n",
       "    </tr>\n",
       "    <tr>\n",
       "      <td>14</td>\n",
       "      <td>0.020700</td>\n",
       "      <td>0.657471</td>\n",
       "      <td>0.870588</td>\n",
       "      <td>0.877873</td>\n",
       "      <td>0.870588</td>\n",
       "      <td>0.868646</td>\n",
       "    </tr>\n",
       "    <tr>\n",
       "      <td>15</td>\n",
       "      <td>0.013300</td>\n",
       "      <td>0.630551</td>\n",
       "      <td>0.882353</td>\n",
       "      <td>0.888658</td>\n",
       "      <td>0.882353</td>\n",
       "      <td>0.879899</td>\n",
       "    </tr>\n",
       "    <tr>\n",
       "      <td>16</td>\n",
       "      <td>0.009700</td>\n",
       "      <td>0.625067</td>\n",
       "      <td>0.870588</td>\n",
       "      <td>0.871779</td>\n",
       "      <td>0.870588</td>\n",
       "      <td>0.868012</td>\n",
       "    </tr>\n",
       "    <tr>\n",
       "      <td>17</td>\n",
       "      <td>0.010300</td>\n",
       "      <td>0.641083</td>\n",
       "      <td>0.870588</td>\n",
       "      <td>0.872829</td>\n",
       "      <td>0.870588</td>\n",
       "      <td>0.867675</td>\n",
       "    </tr>\n",
       "    <tr>\n",
       "      <td>18</td>\n",
       "      <td>0.010200</td>\n",
       "      <td>0.646263</td>\n",
       "      <td>0.858824</td>\n",
       "      <td>0.863125</td>\n",
       "      <td>0.858824</td>\n",
       "      <td>0.856403</td>\n",
       "    </tr>\n",
       "    <tr>\n",
       "      <td>19</td>\n",
       "      <td>0.010100</td>\n",
       "      <td>0.657193</td>\n",
       "      <td>0.870588</td>\n",
       "      <td>0.878954</td>\n",
       "      <td>0.870588</td>\n",
       "      <td>0.868627</td>\n",
       "    </tr>\n",
       "    <tr>\n",
       "      <td>20</td>\n",
       "      <td>0.010100</td>\n",
       "      <td>0.656702</td>\n",
       "      <td>0.870588</td>\n",
       "      <td>0.878954</td>\n",
       "      <td>0.870588</td>\n",
       "      <td>0.868627</td>\n",
       "    </tr>\n",
       "  </tbody>\n",
       "</table><p>"
      ]
     },
     "metadata": {},
     "output_type": "display_data"
    },
    {
     "data": {
      "text/plain": [
       "<IPython.core.display.HTML object>"
      ],
      "text/html": [
       "\n",
       "    <style>\n",
       "        .wandb-row {\n",
       "            display: flex;\n",
       "            flex-direction: row;\n",
       "            flex-wrap: wrap;\n",
       "            justify-content: flex-start;\n",
       "            width: 100%;\n",
       "        }\n",
       "        .wandb-col {\n",
       "            display: flex;\n",
       "            flex-direction: column;\n",
       "            flex-basis: 100%;\n",
       "            flex: 1;\n",
       "            padding: 10px;\n",
       "        }\n",
       "    </style>\n",
       "<div class=\"wandb-row\"><div class=\"wandb-col\"><h3>Run history:</h3><br/><table class=\"wandb\"><tr><td>eval/accuracy</td><td>▁▅▇▇█▇██▇███████████</td></tr><tr><td>eval/f1</td><td>▁▆▇▇█▇██████████████</td></tr><tr><td>eval/loss</td><td>█▅▃▁▁▁▁▂▂▁▂▂▂▂▂▂▂▂▂▂</td></tr><tr><td>eval/precision</td><td>▁▆▇█████████████████</td></tr><tr><td>eval/recall</td><td>▁▅▇▇█▇██▇███████████</td></tr><tr><td>eval/runtime</td><td>▂▁▂▂▁▁█▃▆▆▃▃▂▁▄▁▁▁▁▃</td></tr><tr><td>eval/samples_per_second</td><td>▇█▇▆▇█▁▅▃▂▆▆▇█▄███▇▆</td></tr><tr><td>eval/steps_per_second</td><td>▇█▇▆▇█▁▅▃▂▆▆▇█▄███▇▆</td></tr><tr><td>train/epoch</td><td>▁▁▁▁▂▂▂▂▂▂▃▃▃▃▄▄▄▄▄▄▅▅▅▅▅▅▆▆▆▆▇▇▇▇▇▇████</td></tr><tr><td>train/global_step</td><td>▁▁▁▁▂▂▂▂▂▂▃▃▃▃▄▄▄▄▄▄▅▅▅▅▅▅▆▆▆▆▇▇▇▇▇▇████</td></tr><tr><td>train/grad_norm</td><td>▃▄▆▇█▂▃▃▁▂▁▁▁▁▁▁▁▁▁▁</td></tr><tr><td>train/learning_rate</td><td>▅██▇▇▆▆▆▅▅▅▄▄▃▃▃▂▂▁▁</td></tr><tr><td>train/loss</td><td>█▇▅▃▂▂▁▁▁▁▁▁▁▁▁▁▁▁▁▁</td></tr></table><br/></div><div class=\"wandb-col\"><h3>Run summary:</h3><br/><table class=\"wandb\"><tr><td>eval/accuracy</td><td>0.87059</td></tr><tr><td>eval/f1</td><td>0.86863</td></tr><tr><td>eval/loss</td><td>0.6567</td></tr><tr><td>eval/precision</td><td>0.87895</td></tr><tr><td>eval/recall</td><td>0.87059</td></tr><tr><td>eval/runtime</td><td>0.1166</td></tr><tr><td>eval/samples_per_second</td><td>729.228</td></tr><tr><td>eval/steps_per_second</td><td>51.475</td></tr><tr><td>total_flos</td><td>453078899896320.0</td></tr><tr><td>train/epoch</td><td>20</td></tr><tr><td>train/global_step</td><td>860</td></tr><tr><td>train/grad_norm</td><td>0.10212</td></tr><tr><td>train/learning_rate</td><td>0</td></tr><tr><td>train/loss</td><td>0.0101</td></tr><tr><td>train_loss</td><td>0.29443</td></tr><tr><td>train_runtime</td><td>121.0421</td></tr><tr><td>train_samples_per_second</td><td>113.019</td></tr><tr><td>train_steps_per_second</td><td>7.105</td></tr></table><br/></div></div>"
      ]
     },
     "metadata": {},
     "output_type": "display_data"
    },
    {
     "data": {
      "text/plain": [
       "<IPython.core.display.HTML object>"
      ],
      "text/html": [
       " View run <strong style=\"color:#cdcd00\">different-rain-12</strong> at: <a href='https://wandb.ai/stefano-porta800-universit-degli-studi-di-torino/tesi/runs/s0we5cea' target=\"_blank\">https://wandb.ai/stefano-porta800-universit-degli-studi-di-torino/tesi/runs/s0we5cea</a><br/> View project at: <a href='https://wandb.ai/stefano-porta800-universit-degli-studi-di-torino/tesi' target=\"_blank\">https://wandb.ai/stefano-porta800-universit-degli-studi-di-torino/tesi</a><br/>Synced 5 W&B file(s), 0 media file(s), 0 artifact file(s) and 0 other file(s)"
      ]
     },
     "metadata": {},
     "output_type": "display_data"
    },
    {
     "data": {
      "text/plain": [
       "<IPython.core.display.HTML object>"
      ],
      "text/html": [
       "Find logs at: <code>./wandb/run-20241117_234656-s0we5cea/logs</code>"
      ]
     },
     "metadata": {},
     "output_type": "display_data"
    }
   ],
   "execution_count": 50
  },
  {
   "metadata": {},
   "cell_type": "markdown",
   "source": "### Fine-tuning the model for the subtopic classification",
   "id": "dda71336771317dc"
  },
  {
   "metadata": {
    "ExecuteTime": {
     "end_time": "2024-11-18T00:01:18.344786Z",
     "start_time": "2024-11-17T23:53:13.714196Z"
    }
   },
   "cell_type": "code",
   "source": [
    "import wandb\n",
    "\n",
    "\n",
    "# Function to train a model for a specific global subject\n",
    "def train_model_for_subject(global_subject, train_data, val_data):\n",
    "    # Initialize a new wandb run for each model\n",
    "    wandb.init(project='tesi', tags=['hierarchical-pipeline', global_subject],\n",
    "               notes=f'Model for {global_subject} sub-topic classification')\n",
    "\n",
    "    # Define the model and training arguments\n",
    "    model = AutoModelForSequenceClassification.from_pretrained('distilbert-base-uncased', num_labels=len(labels_qi))\n",
    "    device = torch.device('cuda' if torch.cuda.is_available() else 'cpu')\n",
    "    model.to(device)\n",
    "\n",
    "    training_args = TrainingArguments(\n",
    "        output_dir=f'./results_{global_subject}',\n",
    "        num_train_epochs=20,\n",
    "        # https://datascience.stackexchange.com/questions/64583/what-are-the-good-parameter-ranges-for-bert-hyperparameters-while-finetuning-it\n",
    "        learning_rate=4e-5,\n",
    "        lr_scheduler_type='linear',\n",
    "        per_device_train_batch_size=16,\n",
    "        per_device_eval_batch_size=16,\n",
    "        save_strategy='epoch',\n",
    "        logging_strategy='epoch',\n",
    "        eval_strategy='epoch',\n",
    "        logging_dir=f'./logs_{global_subject}',\n",
    "        load_best_model_at_end=True,\n",
    "        metric_for_best_model='f1',\n",
    "        greater_is_better=True,\n",
    "        report_to='wandb',\n",
    "    )\n",
    "\n",
    "    trainer = Trainer(\n",
    "        model=model,\n",
    "        args=training_args,\n",
    "        train_dataset=train_data,\n",
    "        eval_dataset=val_data,\n",
    "        processing_class=tokenizer,\n",
    "        compute_metrics=compute_metrics\n",
    "    )\n",
    "\n",
    "    # Train the model\n",
    "    trainer.train()\n",
    "\n",
    "    # Finish the wandb run\n",
    "    wandb.finish()\n",
    "\n",
    "\n",
    "# Example usage\n",
    "for global_subject in labels_gs:\n",
    "    gs_id = label2id_gs[global_subject]\n",
    "    print(f\"Training model for global subject: {global_subject}\")\n",
    "\n",
    "\n",
    "    # Filter the dataset for the current global subject\n",
    "\n",
    "    def filter_fn(x):\n",
    "        return x['labels'] == gs_id\n",
    "\n",
    "\n",
    "    # merge the two resulting datasets\n",
    "    complete_data = concatenate_datasets([train_dataset.filter(filter_fn), eval_dataset.filter(filter_fn)])\n",
    "    \n",
    "    print(f\"Complete dataset size: {len(complete_data)}\")\n",
    "    \n",
    "    # if the complete data has only one class, skip the training\n",
    "    if len(complete_data.unique('labels_sub')) == 1:\n",
    "        print(f\"Skipping training for {global_subject} as it has only one subtopic\")\n",
    "        continue\n",
    "    \n",
    "    complete_data = complete_data.class_encode_column('labels_sub')\n",
    "    complete_data = complete_data.train_test_split(test_size=0.2, shuffle=True, seed=42,\n",
    "                                                             stratify_by_column='labels_sub')\n",
    "\n",
    "    subject_train_data = complete_data['train']\n",
    "    subject_val_data = complete_data['test']\n",
    "\n",
    "    print(f\"Train dataset size: {len(subject_train_data)}, Validation dataset size: {len(subject_val_data)}\")\n",
    "    \n",
    "    # remove the labels column and map the labels_sub column to labels\n",
    "    subject_train_data = subject_train_data.remove_columns('labels').rename_column('labels_sub', 'labels')\n",
    "    subject_val_data = subject_val_data.remove_columns('labels').rename_column('labels_sub', 'labels')\n",
    "    \n",
    "    # Train the model for the current global subject\n",
    "    train_model_for_subject(global_subject, subject_train_data, subject_val_data)"
   ],
   "id": "589037a613300dc5",
   "outputs": [
    {
     "name": "stdout",
     "output_type": "stream",
     "text": [
      "Training model for global subject: start\n"
     ]
    },
    {
     "data": {
      "text/plain": [
       "Filter:   0%|          | 0/683 [00:00<?, ? examples/s]"
      ],
      "application/vnd.jupyter.widget-view+json": {
       "version_major": 2,
       "version_minor": 0,
       "model_id": "8f3bec9eccde46cea3999be667298591"
      }
     },
     "metadata": {},
     "output_type": "display_data"
    },
    {
     "data": {
      "text/plain": [
       "Filter:   0%|          | 0/85 [00:00<?, ? examples/s]"
      ],
      "application/vnd.jupyter.widget-view+json": {
       "version_major": 2,
       "version_minor": 0,
       "model_id": "5cc9a778d049482bbb21912d9465f712"
      }
     },
     "metadata": {},
     "output_type": "display_data"
    },
    {
     "name": "stdout",
     "output_type": "stream",
     "text": [
      "Complete dataset size: 17\n"
     ]
    },
    {
     "data": {
      "text/plain": [
       "Flattening the indices:   0%|          | 0/17 [00:00<?, ? examples/s]"
      ],
      "application/vnd.jupyter.widget-view+json": {
       "version_major": 2,
       "version_minor": 0,
       "model_id": "ee05e738acc84585baabe72c036111df"
      }
     },
     "metadata": {},
     "output_type": "display_data"
    },
    {
     "name": "stdout",
     "output_type": "stream",
     "text": [
      "Skipping training for start as it has only one subtopic\n",
      "Training model for global subject: automaton\n"
     ]
    },
    {
     "data": {
      "text/plain": [
       "Filter:   0%|          | 0/683 [00:00<?, ? examples/s]"
      ],
      "application/vnd.jupyter.widget-view+json": {
       "version_major": 2,
       "version_minor": 0,
       "model_id": "3a9e7d0a859e4c1b8b1a7fce78493d32"
      }
     },
     "metadata": {},
     "output_type": "display_data"
    },
    {
     "data": {
      "text/plain": [
       "Filter:   0%|          | 0/85 [00:00<?, ? examples/s]"
      ],
      "application/vnd.jupyter.widget-view+json": {
       "version_major": 2,
       "version_minor": 0,
       "model_id": "105447e3eeb5493bba2dec8c3cbde10d"
      }
     },
     "metadata": {},
     "output_type": "display_data"
    },
    {
     "name": "stdout",
     "output_type": "stream",
     "text": [
      "Complete dataset size: 127\n"
     ]
    },
    {
     "data": {
      "text/plain": [
       "Flattening the indices:   0%|          | 0/127 [00:00<?, ? examples/s]"
      ],
      "application/vnd.jupyter.widget-view+json": {
       "version_major": 2,
       "version_minor": 0,
       "model_id": "221b1252fe6e4fa185f64a0b2a20d572"
      }
     },
     "metadata": {},
     "output_type": "display_data"
    },
    {
     "data": {
      "text/plain": [
       "Stringifying the column:   0%|          | 0/127 [00:00<?, ? examples/s]"
      ],
      "application/vnd.jupyter.widget-view+json": {
       "version_major": 2,
       "version_minor": 0,
       "model_id": "5e4629650c6c4311a3dc9c51c32abc58"
      }
     },
     "metadata": {},
     "output_type": "display_data"
    },
    {
     "data": {
      "text/plain": [
       "Casting to class labels:   0%|          | 0/127 [00:00<?, ? examples/s]"
      ],
      "application/vnd.jupyter.widget-view+json": {
       "version_major": 2,
       "version_minor": 0,
       "model_id": "339ea467634e487090c514f6521ed152"
      }
     },
     "metadata": {},
     "output_type": "display_data"
    },
    {
     "name": "stdout",
     "output_type": "stream",
     "text": [
      "Train dataset size: 101, Validation dataset size: 26\n"
     ]
    },
    {
     "data": {
      "text/plain": [
       "<IPython.core.display.HTML object>"
      ],
      "text/html": [
       "Tracking run with wandb version 0.18.7"
      ]
     },
     "metadata": {},
     "output_type": "display_data"
    },
    {
     "data": {
      "text/plain": [
       "<IPython.core.display.HTML object>"
      ],
      "text/html": [
       "Run data is saved locally in <code>/home/stefa/IdeaProjects/tesi_tln/multitask_training/wandb/run-20241118_005313-f623jttj</code>"
      ]
     },
     "metadata": {},
     "output_type": "display_data"
    },
    {
     "data": {
      "text/plain": [
       "<IPython.core.display.HTML object>"
      ],
      "text/html": [
       "Syncing run <strong><a href='https://wandb.ai/stefano-porta800-universit-degli-studi-di-torino/tesi/runs/f623jttj' target=\"_blank\">hearty-leaf-27</a></strong> to <a href='https://wandb.ai/stefano-porta800-universit-degli-studi-di-torino/tesi' target=\"_blank\">Weights & Biases</a> (<a href='https://wandb.me/developer-guide' target=\"_blank\">docs</a>)<br/>"
      ]
     },
     "metadata": {},
     "output_type": "display_data"
    },
    {
     "data": {
      "text/plain": [
       "<IPython.core.display.HTML object>"
      ],
      "text/html": [
       " View project at <a href='https://wandb.ai/stefano-porta800-universit-degli-studi-di-torino/tesi' target=\"_blank\">https://wandb.ai/stefano-porta800-universit-degli-studi-di-torino/tesi</a>"
      ]
     },
     "metadata": {},
     "output_type": "display_data"
    },
    {
     "data": {
      "text/plain": [
       "<IPython.core.display.HTML object>"
      ],
      "text/html": [
       " View run at <a href='https://wandb.ai/stefano-porta800-universit-degli-studi-di-torino/tesi/runs/f623jttj' target=\"_blank\">https://wandb.ai/stefano-porta800-universit-degli-studi-di-torino/tesi/runs/f623jttj</a>"
      ]
     },
     "metadata": {},
     "output_type": "display_data"
    },
    {
     "name": "stderr",
     "output_type": "stream",
     "text": [
      "Some weights of DistilBertForSequenceClassification were not initialized from the model checkpoint at distilbert-base-uncased and are newly initialized: ['classifier.bias', 'classifier.weight', 'pre_classifier.bias', 'pre_classifier.weight']\n",
      "You should probably TRAIN this model on a down-stream task to be able to use it for predictions and inference.\n"
     ]
    },
    {
     "data": {
      "text/plain": [
       "<IPython.core.display.HTML object>"
      ],
      "text/html": [
       "\n",
       "    <div>\n",
       "      \n",
       "      <progress value='140' max='140' style='width:300px; height:20px; vertical-align: middle;'></progress>\n",
       "      [140/140 01:51, Epoch 20/20]\n",
       "    </div>\n",
       "    <table border=\"1\" class=\"dataframe\">\n",
       "  <thead>\n",
       " <tr style=\"text-align: left;\">\n",
       "      <th>Epoch</th>\n",
       "      <th>Training Loss</th>\n",
       "      <th>Validation Loss</th>\n",
       "      <th>Accuracy</th>\n",
       "      <th>Precision</th>\n",
       "      <th>Recall</th>\n",
       "      <th>F1</th>\n",
       "    </tr>\n",
       "  </thead>\n",
       "  <tbody>\n",
       "    <tr>\n",
       "      <td>1</td>\n",
       "      <td>3.361100</td>\n",
       "      <td>2.963141</td>\n",
       "      <td>0.500000</td>\n",
       "      <td>0.250000</td>\n",
       "      <td>0.500000</td>\n",
       "      <td>0.333333</td>\n",
       "    </tr>\n",
       "    <tr>\n",
       "      <td>2</td>\n",
       "      <td>2.734600</td>\n",
       "      <td>2.423940</td>\n",
       "      <td>0.500000</td>\n",
       "      <td>0.250000</td>\n",
       "      <td>0.500000</td>\n",
       "      <td>0.333333</td>\n",
       "    </tr>\n",
       "    <tr>\n",
       "      <td>3</td>\n",
       "      <td>2.251400</td>\n",
       "      <td>2.150762</td>\n",
       "      <td>0.500000</td>\n",
       "      <td>0.250000</td>\n",
       "      <td>0.500000</td>\n",
       "      <td>0.333333</td>\n",
       "    </tr>\n",
       "    <tr>\n",
       "      <td>4</td>\n",
       "      <td>2.084500</td>\n",
       "      <td>1.950944</td>\n",
       "      <td>0.500000</td>\n",
       "      <td>0.250000</td>\n",
       "      <td>0.500000</td>\n",
       "      <td>0.333333</td>\n",
       "    </tr>\n",
       "    <tr>\n",
       "      <td>5</td>\n",
       "      <td>1.824000</td>\n",
       "      <td>1.783001</td>\n",
       "      <td>0.500000</td>\n",
       "      <td>0.250000</td>\n",
       "      <td>0.500000</td>\n",
       "      <td>0.333333</td>\n",
       "    </tr>\n",
       "    <tr>\n",
       "      <td>6</td>\n",
       "      <td>1.656500</td>\n",
       "      <td>1.607529</td>\n",
       "      <td>0.538462</td>\n",
       "      <td>0.375385</td>\n",
       "      <td>0.538462</td>\n",
       "      <td>0.399798</td>\n",
       "    </tr>\n",
       "    <tr>\n",
       "      <td>7</td>\n",
       "      <td>1.405700</td>\n",
       "      <td>1.424928</td>\n",
       "      <td>0.692308</td>\n",
       "      <td>0.540293</td>\n",
       "      <td>0.692308</td>\n",
       "      <td>0.590045</td>\n",
       "    </tr>\n",
       "    <tr>\n",
       "      <td>8</td>\n",
       "      <td>1.272400</td>\n",
       "      <td>1.265760</td>\n",
       "      <td>0.692308</td>\n",
       "      <td>0.540293</td>\n",
       "      <td>0.692308</td>\n",
       "      <td>0.590045</td>\n",
       "    </tr>\n",
       "    <tr>\n",
       "      <td>9</td>\n",
       "      <td>1.012500</td>\n",
       "      <td>1.164040</td>\n",
       "      <td>0.730769</td>\n",
       "      <td>0.659413</td>\n",
       "      <td>0.730769</td>\n",
       "      <td>0.655151</td>\n",
       "    </tr>\n",
       "    <tr>\n",
       "      <td>10</td>\n",
       "      <td>0.846600</td>\n",
       "      <td>1.043507</td>\n",
       "      <td>0.769231</td>\n",
       "      <td>0.716880</td>\n",
       "      <td>0.769231</td>\n",
       "      <td>0.706717</td>\n",
       "    </tr>\n",
       "    <tr>\n",
       "      <td>11</td>\n",
       "      <td>0.697900</td>\n",
       "      <td>0.964657</td>\n",
       "      <td>0.807692</td>\n",
       "      <td>0.784188</td>\n",
       "      <td>0.807692</td>\n",
       "      <td>0.761663</td>\n",
       "    </tr>\n",
       "    <tr>\n",
       "      <td>12</td>\n",
       "      <td>0.592000</td>\n",
       "      <td>0.902619</td>\n",
       "      <td>0.807692</td>\n",
       "      <td>0.784188</td>\n",
       "      <td>0.807692</td>\n",
       "      <td>0.761663</td>\n",
       "    </tr>\n",
       "    <tr>\n",
       "      <td>13</td>\n",
       "      <td>0.558600</td>\n",
       "      <td>0.856823</td>\n",
       "      <td>0.846154</td>\n",
       "      <td>0.805430</td>\n",
       "      <td>0.846154</td>\n",
       "      <td>0.810256</td>\n",
       "    </tr>\n",
       "    <tr>\n",
       "      <td>14</td>\n",
       "      <td>0.454900</td>\n",
       "      <td>0.848162</td>\n",
       "      <td>0.807692</td>\n",
       "      <td>0.784188</td>\n",
       "      <td>0.807692</td>\n",
       "      <td>0.761663</td>\n",
       "    </tr>\n",
       "    <tr>\n",
       "      <td>15</td>\n",
       "      <td>0.425100</td>\n",
       "      <td>0.763525</td>\n",
       "      <td>0.846154</td>\n",
       "      <td>0.805430</td>\n",
       "      <td>0.846154</td>\n",
       "      <td>0.810256</td>\n",
       "    </tr>\n",
       "    <tr>\n",
       "      <td>16</td>\n",
       "      <td>0.344700</td>\n",
       "      <td>0.801265</td>\n",
       "      <td>0.846154</td>\n",
       "      <td>0.805430</td>\n",
       "      <td>0.846154</td>\n",
       "      <td>0.810256</td>\n",
       "    </tr>\n",
       "    <tr>\n",
       "      <td>17</td>\n",
       "      <td>0.347300</td>\n",
       "      <td>0.787178</td>\n",
       "      <td>0.846154</td>\n",
       "      <td>0.805430</td>\n",
       "      <td>0.846154</td>\n",
       "      <td>0.810256</td>\n",
       "    </tr>\n",
       "    <tr>\n",
       "      <td>18</td>\n",
       "      <td>0.326600</td>\n",
       "      <td>0.748443</td>\n",
       "      <td>0.846154</td>\n",
       "      <td>0.805430</td>\n",
       "      <td>0.846154</td>\n",
       "      <td>0.810256</td>\n",
       "    </tr>\n",
       "    <tr>\n",
       "      <td>19</td>\n",
       "      <td>0.301100</td>\n",
       "      <td>0.770421</td>\n",
       "      <td>0.846154</td>\n",
       "      <td>0.805430</td>\n",
       "      <td>0.846154</td>\n",
       "      <td>0.810256</td>\n",
       "    </tr>\n",
       "    <tr>\n",
       "      <td>20</td>\n",
       "      <td>0.296900</td>\n",
       "      <td>0.775821</td>\n",
       "      <td>0.846154</td>\n",
       "      <td>0.805430</td>\n",
       "      <td>0.846154</td>\n",
       "      <td>0.810256</td>\n",
       "    </tr>\n",
       "  </tbody>\n",
       "</table><p>"
      ]
     },
     "metadata": {},
     "output_type": "display_data"
    },
    {
     "data": {
      "text/plain": [
       "<IPython.core.display.HTML object>"
      ],
      "text/html": [
       "\n",
       "    <style>\n",
       "        .wandb-row {\n",
       "            display: flex;\n",
       "            flex-direction: row;\n",
       "            flex-wrap: wrap;\n",
       "            justify-content: flex-start;\n",
       "            width: 100%;\n",
       "        }\n",
       "        .wandb-col {\n",
       "            display: flex;\n",
       "            flex-direction: column;\n",
       "            flex-basis: 100%;\n",
       "            flex: 1;\n",
       "            padding: 10px;\n",
       "        }\n",
       "    </style>\n",
       "<div class=\"wandb-row\"><div class=\"wandb-col\"><h3>Run history:</h3><br/><table class=\"wandb\"><tr><td>eval/accuracy</td><td>▁▁▁▁▁▂▅▅▆▆▇▇█▇██████</td></tr><tr><td>eval/f1</td><td>▁▁▁▁▁▂▅▅▆▆▇▇█▇██████</td></tr><tr><td>eval/loss</td><td>█▆▅▅▄▄▃▃▂▂▂▁▁▁▁▁▁▁▁▁</td></tr><tr><td>eval/precision</td><td>▁▁▁▁▁▃▅▅▆▇██████████</td></tr><tr><td>eval/recall</td><td>▁▁▁▁▁▂▅▅▆▆▇▇█▇██████</td></tr><tr><td>eval/runtime</td><td>▂▂▂▂▁▆▆▆▂█▆▆▇▆▇▆▅▅▆▅</td></tr><tr><td>eval/samples_per_second</td><td>▇█▇▇█▃▂▂▇▁▃▃▂▃▂▂▃▃▂▄</td></tr><tr><td>eval/steps_per_second</td><td>▇█▇▇█▃▂▂▇▁▃▃▂▃▂▂▃▃▂▄</td></tr><tr><td>train/epoch</td><td>▁▁▁▁▂▂▂▂▂▂▃▃▃▃▄▄▄▄▄▄▅▅▅▅▅▅▆▆▆▆▇▇▇▇▇▇████</td></tr><tr><td>train/global_step</td><td>▁▁▁▁▂▂▂▂▂▂▃▃▃▃▄▄▄▄▄▄▅▅▅▅▅▅▆▆▆▆▇▇▇▇▇▇████</td></tr><tr><td>train/grad_norm</td><td>█▇▇▇▆▆▆█▇▅▃▃▆▂▃▁▄▂▁▂</td></tr><tr><td>train/learning_rate</td><td>██▇▇▇▆▆▅▅▅▄▄▄▃▃▂▂▂▁▁</td></tr><tr><td>train/loss</td><td>█▇▅▅▄▄▄▃▃▂▂▂▂▁▁▁▁▁▁▁</td></tr></table><br/></div><div class=\"wandb-col\"><h3>Run summary:</h3><br/><table class=\"wandb\"><tr><td>eval/accuracy</td><td>0.84615</td></tr><tr><td>eval/f1</td><td>0.81026</td></tr><tr><td>eval/loss</td><td>0.77582</td></tr><tr><td>eval/precision</td><td>0.80543</td></tr><tr><td>eval/recall</td><td>0.84615</td></tr><tr><td>eval/runtime</td><td>0.0368</td></tr><tr><td>eval/samples_per_second</td><td>707.243</td></tr><tr><td>eval/steps_per_second</td><td>54.403</td></tr><tr><td>total_flos</td><td>66940177167360.0</td></tr><tr><td>train/epoch</td><td>20</td></tr><tr><td>train/global_step</td><td>140</td></tr><tr><td>train/grad_norm</td><td>2.13792</td></tr><tr><td>train/learning_rate</td><td>0</td></tr><tr><td>train/loss</td><td>0.2969</td></tr><tr><td>train_loss</td><td>1.13972</td></tr><tr><td>train_runtime</td><td>111.074</td></tr><tr><td>train_samples_per_second</td><td>18.186</td></tr><tr><td>train_steps_per_second</td><td>1.26</td></tr></table><br/></div></div>"
      ]
     },
     "metadata": {},
     "output_type": "display_data"
    },
    {
     "data": {
      "text/plain": [
       "<IPython.core.display.HTML object>"
      ],
      "text/html": [
       " View run <strong style=\"color:#cdcd00\">hearty-leaf-27</strong> at: <a href='https://wandb.ai/stefano-porta800-universit-degli-studi-di-torino/tesi/runs/f623jttj' target=\"_blank\">https://wandb.ai/stefano-porta800-universit-degli-studi-di-torino/tesi/runs/f623jttj</a><br/> View project at: <a href='https://wandb.ai/stefano-porta800-universit-degli-studi-di-torino/tesi' target=\"_blank\">https://wandb.ai/stefano-porta800-universit-degli-studi-di-torino/tesi</a><br/>Synced 5 W&B file(s), 0 media file(s), 0 artifact file(s) and 0 other file(s)"
      ]
     },
     "metadata": {},
     "output_type": "display_data"
    },
    {
     "data": {
      "text/plain": [
       "<IPython.core.display.HTML object>"
      ],
      "text/html": [
       "Find logs at: <code>./wandb/run-20241118_005313-f623jttj/logs</code>"
      ]
     },
     "metadata": {},
     "output_type": "display_data"
    },
    {
     "name": "stdout",
     "output_type": "stream",
     "text": [
      "Training model for global subject: transition\n"
     ]
    },
    {
     "data": {
      "text/plain": [
       "Filter:   0%|          | 0/683 [00:00<?, ? examples/s]"
      ],
      "application/vnd.jupyter.widget-view+json": {
       "version_major": 2,
       "version_minor": 0,
       "model_id": "fe71ea339e904e2da346de5d2f481299"
      }
     },
     "metadata": {},
     "output_type": "display_data"
    },
    {
     "data": {
      "text/plain": [
       "Filter:   0%|          | 0/85 [00:00<?, ? examples/s]"
      ],
      "application/vnd.jupyter.widget-view+json": {
       "version_major": 2,
       "version_minor": 0,
       "model_id": "67662bdd389a4967b6bcdf47bc8183bc"
      }
     },
     "metadata": {},
     "output_type": "display_data"
    },
    {
     "name": "stdout",
     "output_type": "stream",
     "text": [
      "Complete dataset size: 202\n"
     ]
    },
    {
     "data": {
      "text/plain": [
       "Flattening the indices:   0%|          | 0/202 [00:00<?, ? examples/s]"
      ],
      "application/vnd.jupyter.widget-view+json": {
       "version_major": 2,
       "version_minor": 0,
       "model_id": "14c45305a0d241ef80eca05f260f81bf"
      }
     },
     "metadata": {},
     "output_type": "display_data"
    },
    {
     "data": {
      "text/plain": [
       "Stringifying the column:   0%|          | 0/202 [00:00<?, ? examples/s]"
      ],
      "application/vnd.jupyter.widget-view+json": {
       "version_major": 2,
       "version_minor": 0,
       "model_id": "44c5baaed44c4d17b37cd36f080071c4"
      }
     },
     "metadata": {},
     "output_type": "display_data"
    },
    {
     "data": {
      "text/plain": [
       "Casting to class labels:   0%|          | 0/202 [00:00<?, ? examples/s]"
      ],
      "application/vnd.jupyter.widget-view+json": {
       "version_major": 2,
       "version_minor": 0,
       "model_id": "34fc3c18062a46de953f46a5af9a309b"
      }
     },
     "metadata": {},
     "output_type": "display_data"
    },
    {
     "name": "stdout",
     "output_type": "stream",
     "text": [
      "Train dataset size: 161, Validation dataset size: 41\n"
     ]
    },
    {
     "data": {
      "text/plain": [
       "<IPython.core.display.HTML object>"
      ],
      "text/html": [
       "Tracking run with wandb version 0.18.7"
      ]
     },
     "metadata": {},
     "output_type": "display_data"
    },
    {
     "data": {
      "text/plain": [
       "<IPython.core.display.HTML object>"
      ],
      "text/html": [
       "Run data is saved locally in <code>/home/stefa/IdeaProjects/tesi_tln/multitask_training/wandb/run-20241118_005508-55ewc8xr</code>"
      ]
     },
     "metadata": {},
     "output_type": "display_data"
    },
    {
     "data": {
      "text/plain": [
       "<IPython.core.display.HTML object>"
      ],
      "text/html": [
       "Syncing run <strong><a href='https://wandb.ai/stefano-porta800-universit-degli-studi-di-torino/tesi/runs/55ewc8xr' target=\"_blank\">elated-eon-28</a></strong> to <a href='https://wandb.ai/stefano-porta800-universit-degli-studi-di-torino/tesi' target=\"_blank\">Weights & Biases</a> (<a href='https://wandb.me/developer-guide' target=\"_blank\">docs</a>)<br/>"
      ]
     },
     "metadata": {},
     "output_type": "display_data"
    },
    {
     "data": {
      "text/plain": [
       "<IPython.core.display.HTML object>"
      ],
      "text/html": [
       " View project at <a href='https://wandb.ai/stefano-porta800-universit-degli-studi-di-torino/tesi' target=\"_blank\">https://wandb.ai/stefano-porta800-universit-degli-studi-di-torino/tesi</a>"
      ]
     },
     "metadata": {},
     "output_type": "display_data"
    },
    {
     "data": {
      "text/plain": [
       "<IPython.core.display.HTML object>"
      ],
      "text/html": [
       " View run at <a href='https://wandb.ai/stefano-porta800-universit-degli-studi-di-torino/tesi/runs/55ewc8xr' target=\"_blank\">https://wandb.ai/stefano-porta800-universit-degli-studi-di-torino/tesi/runs/55ewc8xr</a>"
      ]
     },
     "metadata": {},
     "output_type": "display_data"
    },
    {
     "name": "stderr",
     "output_type": "stream",
     "text": [
      "Some weights of DistilBertForSequenceClassification were not initialized from the model checkpoint at distilbert-base-uncased and are newly initialized: ['classifier.bias', 'classifier.weight', 'pre_classifier.bias', 'pre_classifier.weight']\n",
      "You should probably TRAIN this model on a down-stream task to be able to use it for predictions and inference.\n"
     ]
    },
    {
     "data": {
      "text/plain": [
       "<IPython.core.display.HTML object>"
      ],
      "text/html": [
       "\n",
       "    <div>\n",
       "      \n",
       "      <progress value='220' max='220' style='width:300px; height:20px; vertical-align: middle;'></progress>\n",
       "      [220/220 01:13, Epoch 20/20]\n",
       "    </div>\n",
       "    <table border=\"1\" class=\"dataframe\">\n",
       "  <thead>\n",
       " <tr style=\"text-align: left;\">\n",
       "      <th>Epoch</th>\n",
       "      <th>Training Loss</th>\n",
       "      <th>Validation Loss</th>\n",
       "      <th>Accuracy</th>\n",
       "      <th>Precision</th>\n",
       "      <th>Recall</th>\n",
       "      <th>F1</th>\n",
       "    </tr>\n",
       "  </thead>\n",
       "  <tbody>\n",
       "    <tr>\n",
       "      <td>1</td>\n",
       "      <td>3.433200</td>\n",
       "      <td>3.153058</td>\n",
       "      <td>0.195122</td>\n",
       "      <td>0.038073</td>\n",
       "      <td>0.195122</td>\n",
       "      <td>0.063713</td>\n",
       "    </tr>\n",
       "    <tr>\n",
       "      <td>2</td>\n",
       "      <td>3.015200</td>\n",
       "      <td>2.767759</td>\n",
       "      <td>0.195122</td>\n",
       "      <td>0.038073</td>\n",
       "      <td>0.195122</td>\n",
       "      <td>0.063713</td>\n",
       "    </tr>\n",
       "    <tr>\n",
       "      <td>3</td>\n",
       "      <td>2.686700</td>\n",
       "      <td>2.474637</td>\n",
       "      <td>0.365854</td>\n",
       "      <td>0.205691</td>\n",
       "      <td>0.365854</td>\n",
       "      <td>0.246489</td>\n",
       "    </tr>\n",
       "    <tr>\n",
       "      <td>4</td>\n",
       "      <td>2.264100</td>\n",
       "      <td>2.217400</td>\n",
       "      <td>0.512195</td>\n",
       "      <td>0.414634</td>\n",
       "      <td>0.512195</td>\n",
       "      <td>0.419106</td>\n",
       "    </tr>\n",
       "    <tr>\n",
       "      <td>5</td>\n",
       "      <td>1.956500</td>\n",
       "      <td>1.943664</td>\n",
       "      <td>0.536585</td>\n",
       "      <td>0.467480</td>\n",
       "      <td>0.536585</td>\n",
       "      <td>0.465447</td>\n",
       "    </tr>\n",
       "    <tr>\n",
       "      <td>6</td>\n",
       "      <td>1.683900</td>\n",
       "      <td>1.676257</td>\n",
       "      <td>0.609756</td>\n",
       "      <td>0.501626</td>\n",
       "      <td>0.609756</td>\n",
       "      <td>0.538282</td>\n",
       "    </tr>\n",
       "    <tr>\n",
       "      <td>7</td>\n",
       "      <td>1.333500</td>\n",
       "      <td>1.465874</td>\n",
       "      <td>0.658537</td>\n",
       "      <td>0.567886</td>\n",
       "      <td>0.658537</td>\n",
       "      <td>0.598022</td>\n",
       "    </tr>\n",
       "    <tr>\n",
       "      <td>8</td>\n",
       "      <td>1.146400</td>\n",
       "      <td>1.284125</td>\n",
       "      <td>0.658537</td>\n",
       "      <td>0.554878</td>\n",
       "      <td>0.658537</td>\n",
       "      <td>0.592581</td>\n",
       "    </tr>\n",
       "    <tr>\n",
       "      <td>9</td>\n",
       "      <td>0.900900</td>\n",
       "      <td>1.160161</td>\n",
       "      <td>0.658537</td>\n",
       "      <td>0.555063</td>\n",
       "      <td>0.658537</td>\n",
       "      <td>0.594645</td>\n",
       "    </tr>\n",
       "    <tr>\n",
       "      <td>10</td>\n",
       "      <td>0.745300</td>\n",
       "      <td>1.058549</td>\n",
       "      <td>0.634146</td>\n",
       "      <td>0.527830</td>\n",
       "      <td>0.634146</td>\n",
       "      <td>0.567135</td>\n",
       "    </tr>\n",
       "    <tr>\n",
       "      <td>11</td>\n",
       "      <td>0.626400</td>\n",
       "      <td>0.962798</td>\n",
       "      <td>0.731707</td>\n",
       "      <td>0.675803</td>\n",
       "      <td>0.731707</td>\n",
       "      <td>0.692152</td>\n",
       "    </tr>\n",
       "    <tr>\n",
       "      <td>12</td>\n",
       "      <td>0.513800</td>\n",
       "      <td>0.902652</td>\n",
       "      <td>0.756098</td>\n",
       "      <td>0.718856</td>\n",
       "      <td>0.756098</td>\n",
       "      <td>0.721064</td>\n",
       "    </tr>\n",
       "    <tr>\n",
       "      <td>13</td>\n",
       "      <td>0.416000</td>\n",
       "      <td>0.831351</td>\n",
       "      <td>0.756098</td>\n",
       "      <td>0.728997</td>\n",
       "      <td>0.756098</td>\n",
       "      <td>0.725381</td>\n",
       "    </tr>\n",
       "    <tr>\n",
       "      <td>14</td>\n",
       "      <td>0.346800</td>\n",
       "      <td>0.778903</td>\n",
       "      <td>0.829268</td>\n",
       "      <td>0.837029</td>\n",
       "      <td>0.829268</td>\n",
       "      <td>0.813030</td>\n",
       "    </tr>\n",
       "    <tr>\n",
       "      <td>15</td>\n",
       "      <td>0.296300</td>\n",
       "      <td>0.755579</td>\n",
       "      <td>0.804878</td>\n",
       "      <td>0.718815</td>\n",
       "      <td>0.804878</td>\n",
       "      <td>0.751660</td>\n",
       "    </tr>\n",
       "    <tr>\n",
       "      <td>16</td>\n",
       "      <td>0.276900</td>\n",
       "      <td>0.746523</td>\n",
       "      <td>0.829268</td>\n",
       "      <td>0.785017</td>\n",
       "      <td>0.829268</td>\n",
       "      <td>0.793561</td>\n",
       "    </tr>\n",
       "    <tr>\n",
       "      <td>17</td>\n",
       "      <td>0.238200</td>\n",
       "      <td>0.741255</td>\n",
       "      <td>0.829268</td>\n",
       "      <td>0.785017</td>\n",
       "      <td>0.829268</td>\n",
       "      <td>0.793561</td>\n",
       "    </tr>\n",
       "    <tr>\n",
       "      <td>18</td>\n",
       "      <td>0.222800</td>\n",
       "      <td>0.728027</td>\n",
       "      <td>0.829268</td>\n",
       "      <td>0.785017</td>\n",
       "      <td>0.829268</td>\n",
       "      <td>0.793561</td>\n",
       "    </tr>\n",
       "    <tr>\n",
       "      <td>19</td>\n",
       "      <td>0.231400</td>\n",
       "      <td>0.720371</td>\n",
       "      <td>0.829268</td>\n",
       "      <td>0.785017</td>\n",
       "      <td>0.829268</td>\n",
       "      <td>0.793561</td>\n",
       "    </tr>\n",
       "    <tr>\n",
       "      <td>20</td>\n",
       "      <td>0.203600</td>\n",
       "      <td>0.717696</td>\n",
       "      <td>0.829268</td>\n",
       "      <td>0.785017</td>\n",
       "      <td>0.829268</td>\n",
       "      <td>0.793561</td>\n",
       "    </tr>\n",
       "  </tbody>\n",
       "</table><p>"
      ]
     },
     "metadata": {},
     "output_type": "display_data"
    },
    {
     "data": {
      "text/plain": [
       "<IPython.core.display.HTML object>"
      ],
      "text/html": [
       "\n",
       "    <style>\n",
       "        .wandb-row {\n",
       "            display: flex;\n",
       "            flex-direction: row;\n",
       "            flex-wrap: wrap;\n",
       "            justify-content: flex-start;\n",
       "            width: 100%;\n",
       "        }\n",
       "        .wandb-col {\n",
       "            display: flex;\n",
       "            flex-direction: column;\n",
       "            flex-basis: 100%;\n",
       "            flex: 1;\n",
       "            padding: 10px;\n",
       "        }\n",
       "    </style>\n",
       "<div class=\"wandb-row\"><div class=\"wandb-col\"><h3>Run history:</h3><br/><table class=\"wandb\"><tr><td>eval/accuracy</td><td>▁▁▃▅▅▆▆▆▆▆▇▇▇███████</td></tr><tr><td>eval/f1</td><td>▁▁▃▄▅▅▆▆▆▆▇▇▇█▇█████</td></tr><tr><td>eval/loss</td><td>█▇▆▅▅▄▃▃▂▂▂▂▁▁▁▁▁▁▁▁</td></tr><tr><td>eval/precision</td><td>▁▁▂▄▅▅▆▆▆▅▇▇▇█▇█████</td></tr><tr><td>eval/recall</td><td>▁▁▃▅▅▆▆▆▆▆▇▇▇███████</td></tr><tr><td>eval/runtime</td><td>▁█▇▇▇▆▆█▂▆▇█▃▆▅▇▃▆▃▃</td></tr><tr><td>eval/samples_per_second</td><td>█▁▂▂▂▃▂▁▇▃▂▁▆▃▃▂▅▃▅▆</td></tr><tr><td>eval/steps_per_second</td><td>█▁▂▂▂▃▂▁▇▃▂▁▆▃▃▂▅▃▅▆</td></tr><tr><td>train/epoch</td><td>▁▁▁▁▂▂▂▂▂▂▃▃▃▃▄▄▄▄▄▄▅▅▅▅▅▅▆▆▆▆▇▇▇▇▇▇████</td></tr><tr><td>train/global_step</td><td>▁▁▁▁▂▂▂▂▂▂▃▃▃▃▄▄▄▄▄▄▅▅▅▅▅▅▆▆▆▆▇▇▇▇▇▇████</td></tr><tr><td>train/grad_norm</td><td>▅▆▆▆▆▆▄▅▄▃█▃▂▃▁▂▁▂▃▁</td></tr><tr><td>train/learning_rate</td><td>██▇▇▇▆▆▅▅▅▄▄▄▃▃▂▂▂▁▁</td></tr><tr><td>train/loss</td><td>█▇▆▅▅▄▃▃▃▂▂▂▁▁▁▁▁▁▁▁</td></tr></table><br/></div><div class=\"wandb-col\"><h3>Run summary:</h3><br/><table class=\"wandb\"><tr><td>eval/accuracy</td><td>0.82927</td></tr><tr><td>eval/f1</td><td>0.79356</td></tr><tr><td>eval/loss</td><td>0.7177</td></tr><tr><td>eval/precision</td><td>0.78502</td></tr><tr><td>eval/recall</td><td>0.82927</td></tr><tr><td>eval/runtime</td><td>0.0556</td></tr><tr><td>eval/samples_per_second</td><td>737.515</td></tr><tr><td>eval/steps_per_second</td><td>53.965</td></tr><tr><td>total_flos</td><td>106706619048960.0</td></tr><tr><td>train/epoch</td><td>20</td></tr><tr><td>train/global_step</td><td>220</td></tr><tr><td>train/grad_norm</td><td>3.28453</td></tr><tr><td>train/learning_rate</td><td>0</td></tr><tr><td>train/loss</td><td>0.2036</td></tr><tr><td>train_loss</td><td>1.1269</td></tr><tr><td>train_runtime</td><td>73.7101</td></tr><tr><td>train_samples_per_second</td><td>43.685</td></tr><tr><td>train_steps_per_second</td><td>2.985</td></tr></table><br/></div></div>"
      ]
     },
     "metadata": {},
     "output_type": "display_data"
    },
    {
     "data": {
      "text/plain": [
       "<IPython.core.display.HTML object>"
      ],
      "text/html": [
       " View run <strong style=\"color:#cdcd00\">elated-eon-28</strong> at: <a href='https://wandb.ai/stefano-porta800-universit-degli-studi-di-torino/tesi/runs/55ewc8xr' target=\"_blank\">https://wandb.ai/stefano-porta800-universit-degli-studi-di-torino/tesi/runs/55ewc8xr</a><br/> View project at: <a href='https://wandb.ai/stefano-porta800-universit-degli-studi-di-torino/tesi' target=\"_blank\">https://wandb.ai/stefano-porta800-universit-degli-studi-di-torino/tesi</a><br/>Synced 5 W&B file(s), 0 media file(s), 0 artifact file(s) and 0 other file(s)"
      ]
     },
     "metadata": {},
     "output_type": "display_data"
    },
    {
     "data": {
      "text/plain": [
       "<IPython.core.display.HTML object>"
      ],
      "text/html": [
       "Find logs at: <code>./wandb/run-20241118_005508-55ewc8xr/logs</code>"
      ]
     },
     "metadata": {},
     "output_type": "display_data"
    },
    {
     "name": "stdout",
     "output_type": "stream",
     "text": [
      "Training model for global subject: grammar\n"
     ]
    },
    {
     "data": {
      "text/plain": [
       "Filter:   0%|          | 0/683 [00:00<?, ? examples/s]"
      ],
      "application/vnd.jupyter.widget-view+json": {
       "version_major": 2,
       "version_minor": 0,
       "model_id": "4facfbf71d1f462490346276d67cf078"
      }
     },
     "metadata": {},
     "output_type": "display_data"
    },
    {
     "data": {
      "text/plain": [
       "Filter:   0%|          | 0/85 [00:00<?, ? examples/s]"
      ],
      "application/vnd.jupyter.widget-view+json": {
       "version_major": 2,
       "version_minor": 0,
       "model_id": "ae46ec2df5a8462c9e7d775156d98c85"
      }
     },
     "metadata": {},
     "output_type": "display_data"
    },
    {
     "name": "stdout",
     "output_type": "stream",
     "text": [
      "Complete dataset size: 129\n"
     ]
    },
    {
     "data": {
      "text/plain": [
       "Flattening the indices:   0%|          | 0/129 [00:00<?, ? examples/s]"
      ],
      "application/vnd.jupyter.widget-view+json": {
       "version_major": 2,
       "version_minor": 0,
       "model_id": "3ab826cb27264096a8d57a3a55c206d4"
      }
     },
     "metadata": {},
     "output_type": "display_data"
    },
    {
     "data": {
      "text/plain": [
       "Stringifying the column:   0%|          | 0/129 [00:00<?, ? examples/s]"
      ],
      "application/vnd.jupyter.widget-view+json": {
       "version_major": 2,
       "version_minor": 0,
       "model_id": "75a22c2261a84cc3ba14cb77a3631015"
      }
     },
     "metadata": {},
     "output_type": "display_data"
    },
    {
     "data": {
      "text/plain": [
       "Casting to class labels:   0%|          | 0/129 [00:00<?, ? examples/s]"
      ],
      "application/vnd.jupyter.widget-view+json": {
       "version_major": 2,
       "version_minor": 0,
       "model_id": "cdca82c22a6b48cf9d797e507af5e461"
      }
     },
     "metadata": {},
     "output_type": "display_data"
    },
    {
     "name": "stdout",
     "output_type": "stream",
     "text": [
      "Train dataset size: 103, Validation dataset size: 26\n"
     ]
    },
    {
     "data": {
      "text/plain": [
       "<IPython.core.display.HTML object>"
      ],
      "text/html": [
       "Tracking run with wandb version 0.18.7"
      ]
     },
     "metadata": {},
     "output_type": "display_data"
    },
    {
     "data": {
      "text/plain": [
       "<IPython.core.display.HTML object>"
      ],
      "text/html": [
       "Run data is saved locally in <code>/home/stefa/IdeaProjects/tesi_tln/multitask_training/wandb/run-20241118_005625-i20mj4xy</code>"
      ]
     },
     "metadata": {},
     "output_type": "display_data"
    },
    {
     "data": {
      "text/plain": [
       "<IPython.core.display.HTML object>"
      ],
      "text/html": [
       "Syncing run <strong><a href='https://wandb.ai/stefano-porta800-universit-degli-studi-di-torino/tesi/runs/i20mj4xy' target=\"_blank\">golden-grass-29</a></strong> to <a href='https://wandb.ai/stefano-porta800-universit-degli-studi-di-torino/tesi' target=\"_blank\">Weights & Biases</a> (<a href='https://wandb.me/developer-guide' target=\"_blank\">docs</a>)<br/>"
      ]
     },
     "metadata": {},
     "output_type": "display_data"
    },
    {
     "data": {
      "text/plain": [
       "<IPython.core.display.HTML object>"
      ],
      "text/html": [
       " View project at <a href='https://wandb.ai/stefano-porta800-universit-degli-studi-di-torino/tesi' target=\"_blank\">https://wandb.ai/stefano-porta800-universit-degli-studi-di-torino/tesi</a>"
      ]
     },
     "metadata": {},
     "output_type": "display_data"
    },
    {
     "data": {
      "text/plain": [
       "<IPython.core.display.HTML object>"
      ],
      "text/html": [
       " View run at <a href='https://wandb.ai/stefano-porta800-universit-degli-studi-di-torino/tesi/runs/i20mj4xy' target=\"_blank\">https://wandb.ai/stefano-porta800-universit-degli-studi-di-torino/tesi/runs/i20mj4xy</a>"
      ]
     },
     "metadata": {},
     "output_type": "display_data"
    },
    {
     "name": "stderr",
     "output_type": "stream",
     "text": [
      "Some weights of DistilBertForSequenceClassification were not initialized from the model checkpoint at distilbert-base-uncased and are newly initialized: ['classifier.bias', 'classifier.weight', 'pre_classifier.bias', 'pre_classifier.weight']\n",
      "You should probably TRAIN this model on a down-stream task to be able to use it for predictions and inference.\n"
     ]
    },
    {
     "data": {
      "text/plain": [
       "<IPython.core.display.HTML object>"
      ],
      "text/html": [
       "\n",
       "    <div>\n",
       "      \n",
       "      <progress value='140' max='140' style='width:300px; height:20px; vertical-align: middle;'></progress>\n",
       "      [140/140 01:11, Epoch 20/20]\n",
       "    </div>\n",
       "    <table border=\"1\" class=\"dataframe\">\n",
       "  <thead>\n",
       " <tr style=\"text-align: left;\">\n",
       "      <th>Epoch</th>\n",
       "      <th>Training Loss</th>\n",
       "      <th>Validation Loss</th>\n",
       "      <th>Accuracy</th>\n",
       "      <th>Precision</th>\n",
       "      <th>Recall</th>\n",
       "      <th>F1</th>\n",
       "    </tr>\n",
       "  </thead>\n",
       "  <tbody>\n",
       "    <tr>\n",
       "      <td>1</td>\n",
       "      <td>3.420100</td>\n",
       "      <td>3.001454</td>\n",
       "      <td>0.423077</td>\n",
       "      <td>0.178994</td>\n",
       "      <td>0.423077</td>\n",
       "      <td>0.251559</td>\n",
       "    </tr>\n",
       "    <tr>\n",
       "      <td>2</td>\n",
       "      <td>2.755200</td>\n",
       "      <td>2.493597</td>\n",
       "      <td>0.423077</td>\n",
       "      <td>0.178994</td>\n",
       "      <td>0.423077</td>\n",
       "      <td>0.251559</td>\n",
       "    </tr>\n",
       "    <tr>\n",
       "      <td>3</td>\n",
       "      <td>2.379600</td>\n",
       "      <td>2.198117</td>\n",
       "      <td>0.423077</td>\n",
       "      <td>0.178994</td>\n",
       "      <td>0.423077</td>\n",
       "      <td>0.251559</td>\n",
       "    </tr>\n",
       "    <tr>\n",
       "      <td>4</td>\n",
       "      <td>2.106400</td>\n",
       "      <td>1.925840</td>\n",
       "      <td>0.461538</td>\n",
       "      <td>0.340000</td>\n",
       "      <td>0.461538</td>\n",
       "      <td>0.320085</td>\n",
       "    </tr>\n",
       "    <tr>\n",
       "      <td>5</td>\n",
       "      <td>1.836900</td>\n",
       "      <td>1.681715</td>\n",
       "      <td>0.576923</td>\n",
       "      <td>0.519231</td>\n",
       "      <td>0.576923</td>\n",
       "      <td>0.487179</td>\n",
       "    </tr>\n",
       "    <tr>\n",
       "      <td>6</td>\n",
       "      <td>1.547200</td>\n",
       "      <td>1.445492</td>\n",
       "      <td>0.692308</td>\n",
       "      <td>0.519910</td>\n",
       "      <td>0.692308</td>\n",
       "      <td>0.588828</td>\n",
       "    </tr>\n",
       "    <tr>\n",
       "      <td>7</td>\n",
       "      <td>1.376600</td>\n",
       "      <td>1.260890</td>\n",
       "      <td>0.692308</td>\n",
       "      <td>0.541026</td>\n",
       "      <td>0.692308</td>\n",
       "      <td>0.604142</td>\n",
       "    </tr>\n",
       "    <tr>\n",
       "      <td>8</td>\n",
       "      <td>1.199000</td>\n",
       "      <td>1.106341</td>\n",
       "      <td>0.807692</td>\n",
       "      <td>0.732347</td>\n",
       "      <td>0.807692</td>\n",
       "      <td>0.757051</td>\n",
       "    </tr>\n",
       "    <tr>\n",
       "      <td>9</td>\n",
       "      <td>0.973500</td>\n",
       "      <td>0.981223</td>\n",
       "      <td>0.807692</td>\n",
       "      <td>0.732347</td>\n",
       "      <td>0.807692</td>\n",
       "      <td>0.757051</td>\n",
       "    </tr>\n",
       "    <tr>\n",
       "      <td>10</td>\n",
       "      <td>0.810800</td>\n",
       "      <td>0.860752</td>\n",
       "      <td>0.884615</td>\n",
       "      <td>0.909270</td>\n",
       "      <td>0.884615</td>\n",
       "      <td>0.876099</td>\n",
       "    </tr>\n",
       "    <tr>\n",
       "      <td>11</td>\n",
       "      <td>0.703100</td>\n",
       "      <td>0.797628</td>\n",
       "      <td>0.884615</td>\n",
       "      <td>0.923077</td>\n",
       "      <td>0.884615</td>\n",
       "      <td>0.888278</td>\n",
       "    </tr>\n",
       "    <tr>\n",
       "      <td>12</td>\n",
       "      <td>0.576300</td>\n",
       "      <td>0.729528</td>\n",
       "      <td>0.884615</td>\n",
       "      <td>0.909270</td>\n",
       "      <td>0.884615</td>\n",
       "      <td>0.876099</td>\n",
       "    </tr>\n",
       "    <tr>\n",
       "      <td>13</td>\n",
       "      <td>0.491900</td>\n",
       "      <td>0.711957</td>\n",
       "      <td>0.884615</td>\n",
       "      <td>0.923077</td>\n",
       "      <td>0.884615</td>\n",
       "      <td>0.888278</td>\n",
       "    </tr>\n",
       "    <tr>\n",
       "      <td>14</td>\n",
       "      <td>0.392300</td>\n",
       "      <td>0.659750</td>\n",
       "      <td>0.884615</td>\n",
       "      <td>0.923077</td>\n",
       "      <td>0.884615</td>\n",
       "      <td>0.888278</td>\n",
       "    </tr>\n",
       "    <tr>\n",
       "      <td>15</td>\n",
       "      <td>0.371600</td>\n",
       "      <td>0.618361</td>\n",
       "      <td>0.884615</td>\n",
       "      <td>0.923077</td>\n",
       "      <td>0.884615</td>\n",
       "      <td>0.888278</td>\n",
       "    </tr>\n",
       "    <tr>\n",
       "      <td>16</td>\n",
       "      <td>0.302500</td>\n",
       "      <td>0.613203</td>\n",
       "      <td>0.884615</td>\n",
       "      <td>0.923077</td>\n",
       "      <td>0.884615</td>\n",
       "      <td>0.888278</td>\n",
       "    </tr>\n",
       "    <tr>\n",
       "      <td>17</td>\n",
       "      <td>0.262700</td>\n",
       "      <td>0.607854</td>\n",
       "      <td>0.884615</td>\n",
       "      <td>0.923077</td>\n",
       "      <td>0.884615</td>\n",
       "      <td>0.888278</td>\n",
       "    </tr>\n",
       "    <tr>\n",
       "      <td>18</td>\n",
       "      <td>0.268700</td>\n",
       "      <td>0.588112</td>\n",
       "      <td>0.884615</td>\n",
       "      <td>0.923077</td>\n",
       "      <td>0.884615</td>\n",
       "      <td>0.888278</td>\n",
       "    </tr>\n",
       "    <tr>\n",
       "      <td>19</td>\n",
       "      <td>0.261900</td>\n",
       "      <td>0.577967</td>\n",
       "      <td>0.884615</td>\n",
       "      <td>0.923077</td>\n",
       "      <td>0.884615</td>\n",
       "      <td>0.888278</td>\n",
       "    </tr>\n",
       "    <tr>\n",
       "      <td>20</td>\n",
       "      <td>0.254700</td>\n",
       "      <td>0.576761</td>\n",
       "      <td>0.884615</td>\n",
       "      <td>0.923077</td>\n",
       "      <td>0.884615</td>\n",
       "      <td>0.888278</td>\n",
       "    </tr>\n",
       "  </tbody>\n",
       "</table><p>"
      ]
     },
     "metadata": {},
     "output_type": "display_data"
    },
    {
     "data": {
      "text/plain": [
       "<IPython.core.display.HTML object>"
      ],
      "text/html": [
       "\n",
       "    <style>\n",
       "        .wandb-row {\n",
       "            display: flex;\n",
       "            flex-direction: row;\n",
       "            flex-wrap: wrap;\n",
       "            justify-content: flex-start;\n",
       "            width: 100%;\n",
       "        }\n",
       "        .wandb-col {\n",
       "            display: flex;\n",
       "            flex-direction: column;\n",
       "            flex-basis: 100%;\n",
       "            flex: 1;\n",
       "            padding: 10px;\n",
       "        }\n",
       "    </style>\n",
       "<div class=\"wandb-row\"><div class=\"wandb-col\"><h3>Run history:</h3><br/><table class=\"wandb\"><tr><td>eval/accuracy</td><td>▁▁▁▂▃▅▅▇▇███████████</td></tr><tr><td>eval/f1</td><td>▁▁▁▂▄▅▅▇▇███████████</td></tr><tr><td>eval/loss</td><td>█▇▆▅▄▄▃▃▂▂▂▁▁▁▁▁▁▁▁▁</td></tr><tr><td>eval/precision</td><td>▁▁▁▃▄▄▄▆▆███████████</td></tr><tr><td>eval/recall</td><td>▁▁▁▂▃▅▅▇▇███████████</td></tr><tr><td>eval/runtime</td><td>▂▃▁▃▂▃▁▃▂▁▄▁▁▅▂▂▁█▁▆</td></tr><tr><td>eval/samples_per_second</td><td>▇▆█▆▇▅█▆▆█▅▇█▃▇▇█▁█▃</td></tr><tr><td>eval/steps_per_second</td><td>▇▆█▆▇▅█▆▆█▅▇█▃▇▇█▁█▃</td></tr><tr><td>train/epoch</td><td>▁▁▁▁▂▂▂▂▂▂▃▃▃▃▄▄▄▄▄▄▅▅▅▅▅▅▆▆▆▆▇▇▇▇▇▇████</td></tr><tr><td>train/global_step</td><td>▁▁▁▁▂▂▂▂▂▂▃▃▃▃▄▄▄▄▄▄▅▅▅▅▅▅▆▆▆▆▇▇▇▇▇▇████</td></tr><tr><td>train/grad_norm</td><td>▆█▇▆▆▇▅▇▅▄▅▅▃▃▅▁▁▂▃▃</td></tr><tr><td>train/learning_rate</td><td>██▇▇▇▆▆▅▅▅▄▄▄▃▃▂▂▂▁▁</td></tr><tr><td>train/loss</td><td>█▇▆▅▄▄▃▃▃▂▂▂▂▁▁▁▁▁▁▁</td></tr></table><br/></div><div class=\"wandb-col\"><h3>Run summary:</h3><br/><table class=\"wandb\"><tr><td>eval/accuracy</td><td>0.88462</td></tr><tr><td>eval/f1</td><td>0.88828</td></tr><tr><td>eval/loss</td><td>0.57676</td></tr><tr><td>eval/precision</td><td>0.92308</td></tr><tr><td>eval/recall</td><td>0.88462</td></tr><tr><td>eval/runtime</td><td>0.0386</td></tr><tr><td>eval/samples_per_second</td><td>673.83</td></tr><tr><td>eval/steps_per_second</td><td>51.833</td></tr><tr><td>total_flos</td><td>68265725230080.0</td></tr><tr><td>train/epoch</td><td>20</td></tr><tr><td>train/global_step</td><td>140</td></tr><tr><td>train/grad_norm</td><td>2.88282</td></tr><tr><td>train/learning_rate</td><td>0</td></tr><tr><td>train/loss</td><td>0.2547</td></tr><tr><td>train_loss</td><td>1.11455</td></tr><tr><td>train_runtime</td><td>71.2507</td></tr><tr><td>train_samples_per_second</td><td>28.912</td></tr><tr><td>train_steps_per_second</td><td>1.965</td></tr></table><br/></div></div>"
      ]
     },
     "metadata": {},
     "output_type": "display_data"
    },
    {
     "data": {
      "text/plain": [
       "<IPython.core.display.HTML object>"
      ],
      "text/html": [
       " View run <strong style=\"color:#cdcd00\">golden-grass-29</strong> at: <a href='https://wandb.ai/stefano-porta800-universit-degli-studi-di-torino/tesi/runs/i20mj4xy' target=\"_blank\">https://wandb.ai/stefano-porta800-universit-degli-studi-di-torino/tesi/runs/i20mj4xy</a><br/> View project at: <a href='https://wandb.ai/stefano-porta800-universit-degli-studi-di-torino/tesi' target=\"_blank\">https://wandb.ai/stefano-porta800-universit-degli-studi-di-torino/tesi</a><br/>Synced 5 W&B file(s), 0 media file(s), 0 artifact file(s) and 0 other file(s)"
      ]
     },
     "metadata": {},
     "output_type": "display_data"
    },
    {
     "data": {
      "text/plain": [
       "<IPython.core.display.HTML object>"
      ],
      "text/html": [
       "Find logs at: <code>./wandb/run-20241118_005625-i20mj4xy/logs</code>"
      ]
     },
     "metadata": {},
     "output_type": "display_data"
    },
    {
     "name": "stdout",
     "output_type": "stream",
     "text": [
      "Training model for global subject: state\n"
     ]
    },
    {
     "data": {
      "text/plain": [
       "Filter:   0%|          | 0/683 [00:00<?, ? examples/s]"
      ],
      "application/vnd.jupyter.widget-view+json": {
       "version_major": 2,
       "version_minor": 0,
       "model_id": "5a00d5e09a6b490a8ec91f3446eac096"
      }
     },
     "metadata": {},
     "output_type": "display_data"
    },
    {
     "data": {
      "text/plain": [
       "Filter:   0%|          | 0/85 [00:00<?, ? examples/s]"
      ],
      "application/vnd.jupyter.widget-view+json": {
       "version_major": 2,
       "version_minor": 0,
       "model_id": "4adceaac9b6147f497f979f7cc23708e"
      }
     },
     "metadata": {},
     "output_type": "display_data"
    },
    {
     "name": "stdout",
     "output_type": "stream",
     "text": [
      "Complete dataset size: 94\n"
     ]
    },
    {
     "data": {
      "text/plain": [
       "Flattening the indices:   0%|          | 0/94 [00:00<?, ? examples/s]"
      ],
      "application/vnd.jupyter.widget-view+json": {
       "version_major": 2,
       "version_minor": 0,
       "model_id": "90539bd118a04b01a4bd1fefd4df3b83"
      }
     },
     "metadata": {},
     "output_type": "display_data"
    },
    {
     "data": {
      "text/plain": [
       "Stringifying the column:   0%|          | 0/94 [00:00<?, ? examples/s]"
      ],
      "application/vnd.jupyter.widget-view+json": {
       "version_major": 2,
       "version_minor": 0,
       "model_id": "54377b40e1e54c6787bef230e1bdabbe"
      }
     },
     "metadata": {},
     "output_type": "display_data"
    },
    {
     "data": {
      "text/plain": [
       "Casting to class labels:   0%|          | 0/94 [00:00<?, ? examples/s]"
      ],
      "application/vnd.jupyter.widget-view+json": {
       "version_major": 2,
       "version_minor": 0,
       "model_id": "01142c55b1d44e12b7d382aeada1c38a"
      }
     },
     "metadata": {},
     "output_type": "display_data"
    },
    {
     "name": "stdout",
     "output_type": "stream",
     "text": [
      "Train dataset size: 75, Validation dataset size: 19\n"
     ]
    },
    {
     "data": {
      "text/plain": [
       "VBox(children=(Label(value='Waiting for wandb.init()...\\r'), FloatProgress(value=0.011112190533377643, max=1.0…"
      ],
      "application/vnd.jupyter.widget-view+json": {
       "version_major": 2,
       "version_minor": 0,
       "model_id": "e9ea9d25261f4f5e814d96409c4300f2"
      }
     },
     "metadata": {},
     "output_type": "display_data"
    },
    {
     "data": {
      "text/plain": [
       "<IPython.core.display.HTML object>"
      ],
      "text/html": [
       "Tracking run with wandb version 0.18.7"
      ]
     },
     "metadata": {},
     "output_type": "display_data"
    },
    {
     "data": {
      "text/plain": [
       "<IPython.core.display.HTML object>"
      ],
      "text/html": [
       "Run data is saved locally in <code>/home/stefa/IdeaProjects/tesi_tln/multitask_training/wandb/run-20241118_005740-jj6nvo8d</code>"
      ]
     },
     "metadata": {},
     "output_type": "display_data"
    },
    {
     "data": {
      "text/plain": [
       "<IPython.core.display.HTML object>"
      ],
      "text/html": [
       "Syncing run <strong><a href='https://wandb.ai/stefano-porta800-universit-degli-studi-di-torino/tesi/runs/jj6nvo8d' target=\"_blank\">gallant-music-30</a></strong> to <a href='https://wandb.ai/stefano-porta800-universit-degli-studi-di-torino/tesi' target=\"_blank\">Weights & Biases</a> (<a href='https://wandb.me/developer-guide' target=\"_blank\">docs</a>)<br/>"
      ]
     },
     "metadata": {},
     "output_type": "display_data"
    },
    {
     "data": {
      "text/plain": [
       "<IPython.core.display.HTML object>"
      ],
      "text/html": [
       " View project at <a href='https://wandb.ai/stefano-porta800-universit-degli-studi-di-torino/tesi' target=\"_blank\">https://wandb.ai/stefano-porta800-universit-degli-studi-di-torino/tesi</a>"
      ]
     },
     "metadata": {},
     "output_type": "display_data"
    },
    {
     "data": {
      "text/plain": [
       "<IPython.core.display.HTML object>"
      ],
      "text/html": [
       " View run at <a href='https://wandb.ai/stefano-porta800-universit-degli-studi-di-torino/tesi/runs/jj6nvo8d' target=\"_blank\">https://wandb.ai/stefano-porta800-universit-degli-studi-di-torino/tesi/runs/jj6nvo8d</a>"
      ]
     },
     "metadata": {},
     "output_type": "display_data"
    },
    {
     "name": "stderr",
     "output_type": "stream",
     "text": [
      "Some weights of DistilBertForSequenceClassification were not initialized from the model checkpoint at distilbert-base-uncased and are newly initialized: ['classifier.bias', 'classifier.weight', 'pre_classifier.bias', 'pre_classifier.weight']\n",
      "You should probably TRAIN this model on a down-stream task to be able to use it for predictions and inference.\n"
     ]
    },
    {
     "data": {
      "text/plain": [
       "<IPython.core.display.HTML object>"
      ],
      "text/html": [
       "\n",
       "    <div>\n",
       "      \n",
       "      <progress value='100' max='100' style='width:300px; height:20px; vertical-align: middle;'></progress>\n",
       "      [100/100 01:11, Epoch 20/20]\n",
       "    </div>\n",
       "    <table border=\"1\" class=\"dataframe\">\n",
       "  <thead>\n",
       " <tr style=\"text-align: left;\">\n",
       "      <th>Epoch</th>\n",
       "      <th>Training Loss</th>\n",
       "      <th>Validation Loss</th>\n",
       "      <th>Accuracy</th>\n",
       "      <th>Precision</th>\n",
       "      <th>Recall</th>\n",
       "      <th>F1</th>\n",
       "    </tr>\n",
       "  </thead>\n",
       "  <tbody>\n",
       "    <tr>\n",
       "      <td>1</td>\n",
       "      <td>3.593600</td>\n",
       "      <td>3.376437</td>\n",
       "      <td>0.263158</td>\n",
       "      <td>0.069252</td>\n",
       "      <td>0.263158</td>\n",
       "      <td>0.109649</td>\n",
       "    </tr>\n",
       "    <tr>\n",
       "      <td>2</td>\n",
       "      <td>3.249400</td>\n",
       "      <td>3.057192</td>\n",
       "      <td>0.263158</td>\n",
       "      <td>0.069252</td>\n",
       "      <td>0.263158</td>\n",
       "      <td>0.109649</td>\n",
       "    </tr>\n",
       "    <tr>\n",
       "      <td>3</td>\n",
       "      <td>2.960800</td>\n",
       "      <td>2.797653</td>\n",
       "      <td>0.263158</td>\n",
       "      <td>0.069252</td>\n",
       "      <td>0.263158</td>\n",
       "      <td>0.109649</td>\n",
       "    </tr>\n",
       "    <tr>\n",
       "      <td>4</td>\n",
       "      <td>2.741400</td>\n",
       "      <td>2.606042</td>\n",
       "      <td>0.368421</td>\n",
       "      <td>0.187500</td>\n",
       "      <td>0.368421</td>\n",
       "      <td>0.230576</td>\n",
       "    </tr>\n",
       "    <tr>\n",
       "      <td>5</td>\n",
       "      <td>2.526400</td>\n",
       "      <td>2.434962</td>\n",
       "      <td>0.421053</td>\n",
       "      <td>0.350877</td>\n",
       "      <td>0.421053</td>\n",
       "      <td>0.315789</td>\n",
       "    </tr>\n",
       "    <tr>\n",
       "      <td>6</td>\n",
       "      <td>2.331400</td>\n",
       "      <td>2.283538</td>\n",
       "      <td>0.421053</td>\n",
       "      <td>0.330827</td>\n",
       "      <td>0.421053</td>\n",
       "      <td>0.307677</td>\n",
       "    </tr>\n",
       "    <tr>\n",
       "      <td>7</td>\n",
       "      <td>2.142000</td>\n",
       "      <td>2.141778</td>\n",
       "      <td>0.526316</td>\n",
       "      <td>0.356459</td>\n",
       "      <td>0.526316</td>\n",
       "      <td>0.412594</td>\n",
       "    </tr>\n",
       "    <tr>\n",
       "      <td>8</td>\n",
       "      <td>2.039400</td>\n",
       "      <td>2.042019</td>\n",
       "      <td>0.526316</td>\n",
       "      <td>0.356459</td>\n",
       "      <td>0.526316</td>\n",
       "      <td>0.412594</td>\n",
       "    </tr>\n",
       "    <tr>\n",
       "      <td>9</td>\n",
       "      <td>1.858100</td>\n",
       "      <td>1.937664</td>\n",
       "      <td>0.578947</td>\n",
       "      <td>0.488038</td>\n",
       "      <td>0.578947</td>\n",
       "      <td>0.497807</td>\n",
       "    </tr>\n",
       "    <tr>\n",
       "      <td>10</td>\n",
       "      <td>1.731200</td>\n",
       "      <td>1.838263</td>\n",
       "      <td>0.578947</td>\n",
       "      <td>0.514354</td>\n",
       "      <td>0.578947</td>\n",
       "      <td>0.503822</td>\n",
       "    </tr>\n",
       "    <tr>\n",
       "      <td>11</td>\n",
       "      <td>1.589100</td>\n",
       "      <td>1.776337</td>\n",
       "      <td>0.578947</td>\n",
       "      <td>0.488038</td>\n",
       "      <td>0.578947</td>\n",
       "      <td>0.497807</td>\n",
       "    </tr>\n",
       "    <tr>\n",
       "      <td>12</td>\n",
       "      <td>1.518800</td>\n",
       "      <td>1.720019</td>\n",
       "      <td>0.578947</td>\n",
       "      <td>0.526316</td>\n",
       "      <td>0.578947</td>\n",
       "      <td>0.514787</td>\n",
       "    </tr>\n",
       "    <tr>\n",
       "      <td>13</td>\n",
       "      <td>1.369600</td>\n",
       "      <td>1.663579</td>\n",
       "      <td>0.578947</td>\n",
       "      <td>0.526316</td>\n",
       "      <td>0.578947</td>\n",
       "      <td>0.514787</td>\n",
       "    </tr>\n",
       "    <tr>\n",
       "      <td>14</td>\n",
       "      <td>1.319000</td>\n",
       "      <td>1.608227</td>\n",
       "      <td>0.578947</td>\n",
       "      <td>0.526316</td>\n",
       "      <td>0.578947</td>\n",
       "      <td>0.514787</td>\n",
       "    </tr>\n",
       "    <tr>\n",
       "      <td>15</td>\n",
       "      <td>1.242200</td>\n",
       "      <td>1.560575</td>\n",
       "      <td>0.578947</td>\n",
       "      <td>0.526316</td>\n",
       "      <td>0.578947</td>\n",
       "      <td>0.514787</td>\n",
       "    </tr>\n",
       "    <tr>\n",
       "      <td>16</td>\n",
       "      <td>1.183500</td>\n",
       "      <td>1.529120</td>\n",
       "      <td>0.631579</td>\n",
       "      <td>0.578947</td>\n",
       "      <td>0.631579</td>\n",
       "      <td>0.567419</td>\n",
       "    </tr>\n",
       "    <tr>\n",
       "      <td>17</td>\n",
       "      <td>1.133400</td>\n",
       "      <td>1.512389</td>\n",
       "      <td>0.684211</td>\n",
       "      <td>0.605263</td>\n",
       "      <td>0.684211</td>\n",
       "      <td>0.614035</td>\n",
       "    </tr>\n",
       "    <tr>\n",
       "      <td>18</td>\n",
       "      <td>1.125200</td>\n",
       "      <td>1.507234</td>\n",
       "      <td>0.684211</td>\n",
       "      <td>0.605263</td>\n",
       "      <td>0.684211</td>\n",
       "      <td>0.614035</td>\n",
       "    </tr>\n",
       "    <tr>\n",
       "      <td>19</td>\n",
       "      <td>1.070000</td>\n",
       "      <td>1.503262</td>\n",
       "      <td>0.684211</td>\n",
       "      <td>0.605263</td>\n",
       "      <td>0.684211</td>\n",
       "      <td>0.614035</td>\n",
       "    </tr>\n",
       "    <tr>\n",
       "      <td>20</td>\n",
       "      <td>1.095400</td>\n",
       "      <td>1.500647</td>\n",
       "      <td>0.684211</td>\n",
       "      <td>0.605263</td>\n",
       "      <td>0.684211</td>\n",
       "      <td>0.614035</td>\n",
       "    </tr>\n",
       "  </tbody>\n",
       "</table><p>"
      ]
     },
     "metadata": {},
     "output_type": "display_data"
    },
    {
     "data": {
      "text/plain": [
       "<IPython.core.display.HTML object>"
      ],
      "text/html": [
       "\n",
       "    <style>\n",
       "        .wandb-row {\n",
       "            display: flex;\n",
       "            flex-direction: row;\n",
       "            flex-wrap: wrap;\n",
       "            justify-content: flex-start;\n",
       "            width: 100%;\n",
       "        }\n",
       "        .wandb-col {\n",
       "            display: flex;\n",
       "            flex-direction: column;\n",
       "            flex-basis: 100%;\n",
       "            flex: 1;\n",
       "            padding: 10px;\n",
       "        }\n",
       "    </style>\n",
       "<div class=\"wandb-row\"><div class=\"wandb-col\"><h3>Run history:</h3><br/><table class=\"wandb\"><tr><td>eval/accuracy</td><td>▁▁▁▃▄▄▅▅▆▆▆▆▆▆▆▇████</td></tr><tr><td>eval/f1</td><td>▁▁▁▃▄▄▅▅▆▆▆▇▇▇▇▇████</td></tr><tr><td>eval/loss</td><td>█▇▆▅▄▄▃▃▃▂▂▂▂▁▁▁▁▁▁▁</td></tr><tr><td>eval/precision</td><td>▁▁▁▃▅▄▅▅▆▇▆▇▇▇▇█████</td></tr><tr><td>eval/recall</td><td>▁▁▁▃▄▄▅▅▆▆▆▆▆▆▆▇████</td></tr><tr><td>eval/runtime</td><td>▆▁▄▃▂▁▅▃▄▂▃▃▃▃▃▃▂▂▃█</td></tr><tr><td>eval/samples_per_second</td><td>▃█▅▆▇█▄▆▅▇▆▅▅▆▆▅▇▇▅▁</td></tr><tr><td>eval/steps_per_second</td><td>▃█▅▆▇█▄▆▅▇▆▅▅▆▆▅▇▇▅▁</td></tr><tr><td>train/epoch</td><td>▁▁▁▁▂▂▂▂▂▂▃▃▃▃▄▄▄▄▄▄▅▅▅▅▅▅▆▆▆▆▇▇▇▇▇▇████</td></tr><tr><td>train/global_step</td><td>▁▁▁▁▂▂▂▂▂▂▃▃▃▃▄▄▄▄▄▄▅▅▅▅▅▅▆▆▆▆▇▇▇▇▇▇████</td></tr><tr><td>train/grad_norm</td><td>▁▆▄▃▄▆▆█▄▃▅▆▃▂▂▄▄▃▁▂</td></tr><tr><td>train/learning_rate</td><td>██▇▇▇▆▆▅▅▅▄▄▄▃▃▂▂▂▁▁</td></tr><tr><td>train/loss</td><td>█▇▆▆▅▄▄▄▃▃▂▂▂▂▁▁▁▁▁▁</td></tr></table><br/></div><div class=\"wandb-col\"><h3>Run summary:</h3><br/><table class=\"wandb\"><tr><td>eval/accuracy</td><td>0.68421</td></tr><tr><td>eval/f1</td><td>0.61404</td></tr><tr><td>eval/loss</td><td>1.50065</td></tr><tr><td>eval/precision</td><td>0.60526</td></tr><tr><td>eval/recall</td><td>0.68421</td></tr><tr><td>eval/runtime</td><td>0.0319</td></tr><tr><td>eval/samples_per_second</td><td>595.159</td></tr><tr><td>eval/steps_per_second</td><td>62.648</td></tr><tr><td>total_flos</td><td>49708052352000.0</td></tr><tr><td>train/epoch</td><td>20</td></tr><tr><td>train/global_step</td><td>100</td></tr><tr><td>train/grad_norm</td><td>3.82226</td></tr><tr><td>train/learning_rate</td><td>0</td></tr><tr><td>train/loss</td><td>1.0954</td></tr><tr><td>train_loss</td><td>1.89101</td></tr><tr><td>train_runtime</td><td>71.8959</td></tr><tr><td>train_samples_per_second</td><td>20.863</td></tr><tr><td>train_steps_per_second</td><td>1.391</td></tr></table><br/></div></div>"
      ]
     },
     "metadata": {},
     "output_type": "display_data"
    },
    {
     "data": {
      "text/plain": [
       "<IPython.core.display.HTML object>"
      ],
      "text/html": [
       " View run <strong style=\"color:#cdcd00\">gallant-music-30</strong> at: <a href='https://wandb.ai/stefano-porta800-universit-degli-studi-di-torino/tesi/runs/jj6nvo8d' target=\"_blank\">https://wandb.ai/stefano-porta800-universit-degli-studi-di-torino/tesi/runs/jj6nvo8d</a><br/> View project at: <a href='https://wandb.ai/stefano-porta800-universit-degli-studi-di-torino/tesi' target=\"_blank\">https://wandb.ai/stefano-porta800-universit-degli-studi-di-torino/tesi</a><br/>Synced 5 W&B file(s), 0 media file(s), 0 artifact file(s) and 0 other file(s)"
      ]
     },
     "metadata": {},
     "output_type": "display_data"
    },
    {
     "data": {
      "text/plain": [
       "<IPython.core.display.HTML object>"
      ],
      "text/html": [
       "Find logs at: <code>./wandb/run-20241118_005740-jj6nvo8d/logs</code>"
      ]
     },
     "metadata": {},
     "output_type": "display_data"
    },
    {
     "name": "stdout",
     "output_type": "stream",
     "text": [
      "Training model for global subject: theory\n"
     ]
    },
    {
     "data": {
      "text/plain": [
       "Filter:   0%|          | 0/683 [00:00<?, ? examples/s]"
      ],
      "application/vnd.jupyter.widget-view+json": {
       "version_major": 2,
       "version_minor": 0,
       "model_id": "7dbd16b13346402f86232bf83a4ee870"
      }
     },
     "metadata": {},
     "output_type": "display_data"
    },
    {
     "data": {
      "text/plain": [
       "Filter:   0%|          | 0/85 [00:00<?, ? examples/s]"
      ],
      "application/vnd.jupyter.widget-view+json": {
       "version_major": 2,
       "version_minor": 0,
       "model_id": "be469911df67471c960617ad6a62c3e2"
      }
     },
     "metadata": {},
     "output_type": "display_data"
    },
    {
     "name": "stdout",
     "output_type": "stream",
     "text": [
      "Complete dataset size: 103\n"
     ]
    },
    {
     "data": {
      "text/plain": [
       "Flattening the indices:   0%|          | 0/103 [00:00<?, ? examples/s]"
      ],
      "application/vnd.jupyter.widget-view+json": {
       "version_major": 2,
       "version_minor": 0,
       "model_id": "b5704c4a13704c3d8d42ef1ce4b3df54"
      }
     },
     "metadata": {},
     "output_type": "display_data"
    },
    {
     "data": {
      "text/plain": [
       "Stringifying the column:   0%|          | 0/103 [00:00<?, ? examples/s]"
      ],
      "application/vnd.jupyter.widget-view+json": {
       "version_major": 2,
       "version_minor": 0,
       "model_id": "effe1c17e17c4cfeb89ab7a553eea862"
      }
     },
     "metadata": {},
     "output_type": "display_data"
    },
    {
     "data": {
      "text/plain": [
       "Casting to class labels:   0%|          | 0/103 [00:00<?, ? examples/s]"
      ],
      "application/vnd.jupyter.widget-view+json": {
       "version_major": 2,
       "version_minor": 0,
       "model_id": "41c809895bf146ac8db3957ea9c832cf"
      }
     },
     "metadata": {},
     "output_type": "display_data"
    },
    {
     "name": "stdout",
     "output_type": "stream",
     "text": [
      "Train dataset size: 82, Validation dataset size: 21\n"
     ]
    },
    {
     "data": {
      "text/plain": [
       "<IPython.core.display.HTML object>"
      ],
      "text/html": [
       "Tracking run with wandb version 0.18.7"
      ]
     },
     "metadata": {},
     "output_type": "display_data"
    },
    {
     "data": {
      "text/plain": [
       "<IPython.core.display.HTML object>"
      ],
      "text/html": [
       "Run data is saved locally in <code>/home/stefa/IdeaProjects/tesi_tln/multitask_training/wandb/run-20241118_005856-yqb48s72</code>"
      ]
     },
     "metadata": {},
     "output_type": "display_data"
    },
    {
     "data": {
      "text/plain": [
       "<IPython.core.display.HTML object>"
      ],
      "text/html": [
       "Syncing run <strong><a href='https://wandb.ai/stefano-porta800-universit-degli-studi-di-torino/tesi/runs/yqb48s72' target=\"_blank\">different-silence-31</a></strong> to <a href='https://wandb.ai/stefano-porta800-universit-degli-studi-di-torino/tesi' target=\"_blank\">Weights & Biases</a> (<a href='https://wandb.me/developer-guide' target=\"_blank\">docs</a>)<br/>"
      ]
     },
     "metadata": {},
     "output_type": "display_data"
    },
    {
     "data": {
      "text/plain": [
       "<IPython.core.display.HTML object>"
      ],
      "text/html": [
       " View project at <a href='https://wandb.ai/stefano-porta800-universit-degli-studi-di-torino/tesi' target=\"_blank\">https://wandb.ai/stefano-porta800-universit-degli-studi-di-torino/tesi</a>"
      ]
     },
     "metadata": {},
     "output_type": "display_data"
    },
    {
     "data": {
      "text/plain": [
       "<IPython.core.display.HTML object>"
      ],
      "text/html": [
       " View run at <a href='https://wandb.ai/stefano-porta800-universit-degli-studi-di-torino/tesi/runs/yqb48s72' target=\"_blank\">https://wandb.ai/stefano-porta800-universit-degli-studi-di-torino/tesi/runs/yqb48s72</a>"
      ]
     },
     "metadata": {},
     "output_type": "display_data"
    },
    {
     "name": "stderr",
     "output_type": "stream",
     "text": [
      "Some weights of DistilBertForSequenceClassification were not initialized from the model checkpoint at distilbert-base-uncased and are newly initialized: ['classifier.bias', 'classifier.weight', 'pre_classifier.bias', 'pre_classifier.weight']\n",
      "You should probably TRAIN this model on a down-stream task to be able to use it for predictions and inference.\n"
     ]
    },
    {
     "data": {
      "text/plain": [
       "<IPython.core.display.HTML object>"
      ],
      "text/html": [
       "\n",
       "    <div>\n",
       "      \n",
       "      <progress value='120' max='120' style='width:300px; height:20px; vertical-align: middle;'></progress>\n",
       "      [120/120 02:17, Epoch 20/20]\n",
       "    </div>\n",
       "    <table border=\"1\" class=\"dataframe\">\n",
       "  <thead>\n",
       " <tr style=\"text-align: left;\">\n",
       "      <th>Epoch</th>\n",
       "      <th>Training Loss</th>\n",
       "      <th>Validation Loss</th>\n",
       "      <th>Accuracy</th>\n",
       "      <th>Precision</th>\n",
       "      <th>Recall</th>\n",
       "      <th>F1</th>\n",
       "    </tr>\n",
       "  </thead>\n",
       "  <tbody>\n",
       "    <tr>\n",
       "      <td>1</td>\n",
       "      <td>3.418700</td>\n",
       "      <td>3.073453</td>\n",
       "      <td>0.333333</td>\n",
       "      <td>0.111111</td>\n",
       "      <td>0.333333</td>\n",
       "      <td>0.166667</td>\n",
       "    </tr>\n",
       "    <tr>\n",
       "      <td>2</td>\n",
       "      <td>2.869700</td>\n",
       "      <td>2.688065</td>\n",
       "      <td>0.333333</td>\n",
       "      <td>0.111111</td>\n",
       "      <td>0.333333</td>\n",
       "      <td>0.166667</td>\n",
       "    </tr>\n",
       "    <tr>\n",
       "      <td>3</td>\n",
       "      <td>2.552700</td>\n",
       "      <td>2.435899</td>\n",
       "      <td>0.333333</td>\n",
       "      <td>0.111111</td>\n",
       "      <td>0.333333</td>\n",
       "      <td>0.166667</td>\n",
       "    </tr>\n",
       "    <tr>\n",
       "      <td>4</td>\n",
       "      <td>2.378200</td>\n",
       "      <td>2.252214</td>\n",
       "      <td>0.333333</td>\n",
       "      <td>0.111111</td>\n",
       "      <td>0.333333</td>\n",
       "      <td>0.166667</td>\n",
       "    </tr>\n",
       "    <tr>\n",
       "      <td>5</td>\n",
       "      <td>2.035500</td>\n",
       "      <td>2.074178</td>\n",
       "      <td>0.333333</td>\n",
       "      <td>0.111111</td>\n",
       "      <td>0.333333</td>\n",
       "      <td>0.166667</td>\n",
       "    </tr>\n",
       "    <tr>\n",
       "      <td>6</td>\n",
       "      <td>1.816900</td>\n",
       "      <td>1.842865</td>\n",
       "      <td>0.571429</td>\n",
       "      <td>0.465079</td>\n",
       "      <td>0.571429</td>\n",
       "      <td>0.480904</td>\n",
       "    </tr>\n",
       "    <tr>\n",
       "      <td>7</td>\n",
       "      <td>1.533700</td>\n",
       "      <td>1.619268</td>\n",
       "      <td>0.571429</td>\n",
       "      <td>0.476190</td>\n",
       "      <td>0.571429</td>\n",
       "      <td>0.515806</td>\n",
       "    </tr>\n",
       "    <tr>\n",
       "      <td>8</td>\n",
       "      <td>1.394700</td>\n",
       "      <td>1.478573</td>\n",
       "      <td>0.619048</td>\n",
       "      <td>0.491342</td>\n",
       "      <td>0.619048</td>\n",
       "      <td>0.541950</td>\n",
       "    </tr>\n",
       "    <tr>\n",
       "      <td>9</td>\n",
       "      <td>1.287700</td>\n",
       "      <td>1.352166</td>\n",
       "      <td>0.666667</td>\n",
       "      <td>0.563889</td>\n",
       "      <td>0.666667</td>\n",
       "      <td>0.602958</td>\n",
       "    </tr>\n",
       "    <tr>\n",
       "      <td>10</td>\n",
       "      <td>1.158000</td>\n",
       "      <td>1.226017</td>\n",
       "      <td>0.666667</td>\n",
       "      <td>0.569841</td>\n",
       "      <td>0.666667</td>\n",
       "      <td>0.609307</td>\n",
       "    </tr>\n",
       "    <tr>\n",
       "      <td>11</td>\n",
       "      <td>1.010500</td>\n",
       "      <td>1.141822</td>\n",
       "      <td>0.714286</td>\n",
       "      <td>0.657143</td>\n",
       "      <td>0.714286</td>\n",
       "      <td>0.678571</td>\n",
       "    </tr>\n",
       "    <tr>\n",
       "      <td>12</td>\n",
       "      <td>0.817700</td>\n",
       "      <td>1.073270</td>\n",
       "      <td>0.714286</td>\n",
       "      <td>0.657143</td>\n",
       "      <td>0.714286</td>\n",
       "      <td>0.678571</td>\n",
       "    </tr>\n",
       "    <tr>\n",
       "      <td>13</td>\n",
       "      <td>0.765900</td>\n",
       "      <td>1.054870</td>\n",
       "      <td>0.714286</td>\n",
       "      <td>0.657143</td>\n",
       "      <td>0.714286</td>\n",
       "      <td>0.678571</td>\n",
       "    </tr>\n",
       "    <tr>\n",
       "      <td>14</td>\n",
       "      <td>0.716900</td>\n",
       "      <td>1.031603</td>\n",
       "      <td>0.714286</td>\n",
       "      <td>0.657143</td>\n",
       "      <td>0.714286</td>\n",
       "      <td>0.678571</td>\n",
       "    </tr>\n",
       "    <tr>\n",
       "      <td>15</td>\n",
       "      <td>0.540700</td>\n",
       "      <td>0.979613</td>\n",
       "      <td>0.714286</td>\n",
       "      <td>0.657143</td>\n",
       "      <td>0.714286</td>\n",
       "      <td>0.678571</td>\n",
       "    </tr>\n",
       "    <tr>\n",
       "      <td>16</td>\n",
       "      <td>0.504100</td>\n",
       "      <td>0.951438</td>\n",
       "      <td>0.761905</td>\n",
       "      <td>0.692857</td>\n",
       "      <td>0.761905</td>\n",
       "      <td>0.716667</td>\n",
       "    </tr>\n",
       "    <tr>\n",
       "      <td>17</td>\n",
       "      <td>0.488900</td>\n",
       "      <td>0.949566</td>\n",
       "      <td>0.761905</td>\n",
       "      <td>0.692857</td>\n",
       "      <td>0.761905</td>\n",
       "      <td>0.716667</td>\n",
       "    </tr>\n",
       "    <tr>\n",
       "      <td>18</td>\n",
       "      <td>0.482800</td>\n",
       "      <td>0.951265</td>\n",
       "      <td>0.714286</td>\n",
       "      <td>0.657143</td>\n",
       "      <td>0.714286</td>\n",
       "      <td>0.678571</td>\n",
       "    </tr>\n",
       "    <tr>\n",
       "      <td>19</td>\n",
       "      <td>0.445000</td>\n",
       "      <td>0.944359</td>\n",
       "      <td>0.761905</td>\n",
       "      <td>0.692857</td>\n",
       "      <td>0.761905</td>\n",
       "      <td>0.716667</td>\n",
       "    </tr>\n",
       "    <tr>\n",
       "      <td>20</td>\n",
       "      <td>0.446400</td>\n",
       "      <td>0.938413</td>\n",
       "      <td>0.761905</td>\n",
       "      <td>0.692857</td>\n",
       "      <td>0.761905</td>\n",
       "      <td>0.716667</td>\n",
       "    </tr>\n",
       "  </tbody>\n",
       "</table><p>"
      ]
     },
     "metadata": {},
     "output_type": "display_data"
    },
    {
     "data": {
      "text/plain": [
       "<IPython.core.display.HTML object>"
      ],
      "text/html": [
       "\n",
       "    <style>\n",
       "        .wandb-row {\n",
       "            display: flex;\n",
       "            flex-direction: row;\n",
       "            flex-wrap: wrap;\n",
       "            justify-content: flex-start;\n",
       "            width: 100%;\n",
       "        }\n",
       "        .wandb-col {\n",
       "            display: flex;\n",
       "            flex-direction: column;\n",
       "            flex-basis: 100%;\n",
       "            flex: 1;\n",
       "            padding: 10px;\n",
       "        }\n",
       "    </style>\n",
       "<div class=\"wandb-row\"><div class=\"wandb-col\"><h3>Run history:</h3><br/><table class=\"wandb\"><tr><td>eval/accuracy</td><td>▁▁▁▁▁▅▅▆▆▆▇▇▇▇▇██▇██</td></tr><tr><td>eval/f1</td><td>▁▁▁▁▁▅▅▆▇▇██████████</td></tr><tr><td>eval/loss</td><td>█▇▆▅▅▄▃▃▂▂▂▁▁▁▁▁▁▁▁▁</td></tr><tr><td>eval/precision</td><td>▁▁▁▁▁▅▅▆▆▇██████████</td></tr><tr><td>eval/recall</td><td>▁▁▁▁▁▅▅▆▆▆▇▇▇▇▇██▇██</td></tr><tr><td>eval/runtime</td><td>▂▃▃▁▂▂▃▄▃▂▅▂▆█▃▇▅█▁▆</td></tr><tr><td>eval/samples_per_second</td><td>▇▆▆█▆▇▆▅▆▇▄▇▃▁▆▂▄▁█▂</td></tr><tr><td>eval/steps_per_second</td><td>▇▆▆█▆▇▆▅▆▇▄▇▃▁▆▂▄▁█▂</td></tr><tr><td>train/epoch</td><td>▁▁▁▁▂▂▂▂▂▂▃▃▃▃▄▄▄▄▄▄▅▅▅▅▅▅▆▆▆▆▇▇▇▇▇▇████</td></tr><tr><td>train/global_step</td><td>▁▁▁▁▂▂▂▂▂▂▃▃▃▃▄▄▄▄▄▄▅▅▅▅▅▅▆▆▆▆▇▇▇▇▇▇████</td></tr><tr><td>train/grad_norm</td><td>▅▅▅▆█▅▅█▅▆▅▃▅▆▁▁▂▃▃▂</td></tr><tr><td>train/learning_rate</td><td>██▇▇▇▆▆▅▅▅▄▄▄▃▃▂▂▂▁▁</td></tr><tr><td>train/loss</td><td>█▇▆▆▅▄▄▃▃▃▂▂▂▂▁▁▁▁▁▁</td></tr></table><br/></div><div class=\"wandb-col\"><h3>Run summary:</h3><br/><table class=\"wandb\"><tr><td>eval/accuracy</td><td>0.7619</td></tr><tr><td>eval/f1</td><td>0.71667</td></tr><tr><td>eval/loss</td><td>0.93841</td></tr><tr><td>eval/precision</td><td>0.69286</td></tr><tr><td>eval/recall</td><td>0.7619</td></tr><tr><td>eval/runtime</td><td>0.033</td></tr><tr><td>eval/samples_per_second</td><td>637.289</td></tr><tr><td>eval/steps_per_second</td><td>60.694</td></tr><tr><td>total_flos</td><td>54347470571520.0</td></tr><tr><td>train/epoch</td><td>20</td></tr><tr><td>train/global_step</td><td>120</td></tr><tr><td>train/grad_norm</td><td>4.41062</td></tr><tr><td>train/learning_rate</td><td>0</td></tr><tr><td>train/loss</td><td>0.4464</td></tr><tr><td>train_loss</td><td>1.33325</td></tr><tr><td>train_runtime</td><td>137.9172</td></tr><tr><td>train_samples_per_second</td><td>11.891</td></tr><tr><td>train_steps_per_second</td><td>0.87</td></tr></table><br/></div></div>"
      ]
     },
     "metadata": {},
     "output_type": "display_data"
    },
    {
     "data": {
      "text/plain": [
       "<IPython.core.display.HTML object>"
      ],
      "text/html": [
       " View run <strong style=\"color:#cdcd00\">different-silence-31</strong> at: <a href='https://wandb.ai/stefano-porta800-universit-degli-studi-di-torino/tesi/runs/yqb48s72' target=\"_blank\">https://wandb.ai/stefano-porta800-universit-degli-studi-di-torino/tesi/runs/yqb48s72</a><br/> View project at: <a href='https://wandb.ai/stefano-porta800-universit-degli-studi-di-torino/tesi' target=\"_blank\">https://wandb.ai/stefano-porta800-universit-degli-studi-di-torino/tesi</a><br/>Synced 5 W&B file(s), 0 media file(s), 0 artifact file(s) and 0 other file(s)"
      ]
     },
     "metadata": {},
     "output_type": "display_data"
    },
    {
     "data": {
      "text/plain": [
       "<IPython.core.display.HTML object>"
      ],
      "text/html": [
       "Find logs at: <code>./wandb/run-20241118_005856-yqb48s72/logs</code>"
      ]
     },
     "metadata": {},
     "output_type": "display_data"
    },
    {
     "name": "stdout",
     "output_type": "stream",
     "text": [
      "Training model for global subject: off_topic\n"
     ]
    },
    {
     "data": {
      "text/plain": [
       "Filter:   0%|          | 0/683 [00:00<?, ? examples/s]"
      ],
      "application/vnd.jupyter.widget-view+json": {
       "version_major": 2,
       "version_minor": 0,
       "model_id": "f1c3bda3b5af4bd696219e8f8f24568d"
      }
     },
     "metadata": {},
     "output_type": "display_data"
    },
    {
     "data": {
      "text/plain": [
       "Filter:   0%|          | 0/85 [00:00<?, ? examples/s]"
      ],
      "application/vnd.jupyter.widget-view+json": {
       "version_major": 2,
       "version_minor": 0,
       "model_id": "0cf37b606daf4fd29099fdb841fe18cf"
      }
     },
     "metadata": {},
     "output_type": "display_data"
    },
    {
     "name": "stdout",
     "output_type": "stream",
     "text": [
      "Complete dataset size: 96\n"
     ]
    },
    {
     "data": {
      "text/plain": [
       "Flattening the indices:   0%|          | 0/96 [00:00<?, ? examples/s]"
      ],
      "application/vnd.jupyter.widget-view+json": {
       "version_major": 2,
       "version_minor": 0,
       "model_id": "97bea21ac9e0478da3c8ec94d06f19bb"
      }
     },
     "metadata": {},
     "output_type": "display_data"
    },
    {
     "name": "stdout",
     "output_type": "stream",
     "text": [
      "Skipping training for off_topic as it has only one subtopic\n"
     ]
    }
   ],
   "execution_count": 114
  }
 ],
 "metadata": {
  "kernelspec": {
   "display_name": "Python 3",
   "language": "python",
   "name": "python3"
  },
  "language_info": {
   "codemirror_mode": {
    "name": "ipython",
    "version": 2
   },
   "file_extension": ".py",
   "mimetype": "text/x-python",
   "name": "python",
   "nbconvert_exporter": "python",
   "pygments_lexer": "ipython2",
   "version": "2.7.6"
  }
 },
 "nbformat": 4,
 "nbformat_minor": 5
}
